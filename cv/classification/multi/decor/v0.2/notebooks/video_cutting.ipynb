{
 "cells": [
  {
   "cell_type": "markdown",
   "id": "8f7e88b0",
   "metadata": {},
   "source": [
    "### Задача"
   ]
  },
  {
   "cell_type": "markdown",
   "id": "d30bf970",
   "metadata": {},
   "source": [
    "Нарезать видео на кадры из которых будет формироваться датасет для обучения."
   ]
  },
  {
   "cell_type": "markdown",
   "id": "c5361b35",
   "metadata": {},
   "source": [
    "### Mount"
   ]
  },
  {
   "cell_type": "markdown",
   "id": "a220fc45",
   "metadata": {},
   "source": [
    "Подмонтируем папку из сервера к докер контейнеру Jupyter Lab."
   ]
  },
  {
   "cell_type": "code",
   "execution_count": null,
   "id": "7de06146",
   "metadata": {},
   "outputs": [],
   "source": [
    "sudo mount --bind /mnt/18tb/360Datasets /var/lib/docker/volumes/jupyterhub-user-{git-username}/_data/constructly_3d_sc_ds/cv/detection/equirectangular/v0.1/data/row/360video"
   ]
  },
  {
   "cell_type": "markdown",
   "id": "c32420d3-4765-47bf-b01b-65ebd37c3904",
   "metadata": {},
   "source": [
    "### Import"
   ]
  },
  {
   "cell_type": "code",
   "execution_count": 1,
   "id": "441069a1-fb85-4a4f-a695-ab3e8c6e19ab",
   "metadata": {
    "tags": []
   },
   "outputs": [],
   "source": [
    "import cv2\n",
    "from pathlib import Path\n",
    "from tqdm.notebook import tqdm"
   ]
  },
  {
   "cell_type": "markdown",
   "id": "c3c7350f-136c-42aa-845f-93554833b322",
   "metadata": {},
   "source": [
    "### Paths"
   ]
  },
  {
   "cell_type": "markdown",
   "id": "db25dd48-4539-4cd7-9645-9231d0ac8438",
   "metadata": {},
   "source": [
    "Нам необходимы видео `mp4` в формате панорам 360. В папках в формате `mp4` есть видео панорамы 360 и с двумя кругами. Поэтому необходимо вручную отобрать пути до видео с панорамами 360. "
   ]
  },
  {
   "cell_type": "code",
   "execution_count": 2,
   "id": "938df9ac-0a0c-4e9d-9362-b57d1d02c73f",
   "metadata": {
    "tags": []
   },
   "outputs": [],
   "source": [
    "path_videos = [\n",
    "    '../data/row/360video/360FSK_020524/VID_20240502_101342_00_701.mp4',\n",
    "    '../data/row/360video/360FSK_020524/VID_20240502_104300_00_702.mp4',\n",
    "    '../data/row/360video/360FSK-[11-06-24]/Video/VID_20240610_090231_00_141.mp4',\n",
    "    '../data/row/360video/360FSK-[11-06-24]/Video/VID_20240610_093147_00_142.mp4',\n",
    "    '../data/row/360video/360FSK-[11-06-24]/Video/VID_20240610_094210_00_143.mp4',\n",
    "    '../data/row/360video/360FSK-[11-06-24]/Video/VID_20240610_101126_00_144.mp4',\n",
    "    '../data/row/360video/360Personal/VID_20230617_211942_00_043.mp4',\n",
    "    '../data/row/360video/360Personal/VID_20230617_222459_00_044.mp4',\n",
    "    '../data/row/360video/360Personal/VID_20240207_105125_00_044.mp4',\n",
    "    '../data/row/360video/360Personal/VID_20240214_130309_00_239.mp4',\n",
    "    '../data/row/360video/360Vnukovo-[01-06-24]/Video/VID_20240602_095811_00_306.mp4',\n",
    "    '../data/row/360video/360Vnukovo-[01-06-24]/Video/VID_20240602_100804_00_307.mp4',\n",
    "    '../data/row/360video/360Vnukovo-[01-06-24]/Video/VID_20240602_102848_00_239.mp4',\n",
    "    '../data/row/360video/360Vnukovo-[01-06-24]/Video/VID_20240602_103011_00_240.mp4',\n",
    "    '../data/row/360video/360Vnukovo-[01-06-24]/Video/VID_20240602_103124_00_241.mp4',\n",
    "    '../data/row/360video/360Vnukovo-[01-06-24]/Video/VID_20240602_103410_00_242.mp4',\n",
    "    '../data/row/360video/360Vnukovo-[01-06-24]/Video/VID_20240602_132037_00_404.mp4',\n",
    "    '../data/row/360video/360Vnukovo-[01-06-24]/Video/VID_20240602_134954_00_405.mp4',\n",
    "    '../data/row/360video/360Vnukovo-[01-06-24]/Video/VID_20240602_140611_00_406.mp4',\n",
    "    '../data/row/360video/360Vnukovo-[08-06-24]/Video/VID_20240608_153455_00_638.mp4',\n",
    "    '../data/row/360video/360Vnukovo-[08-06-24]/Video/VID_20240608_155217_00_661.mp4',\n",
    "    '../data/row/360video/360Vnukovo-[08-06-24]/Video/VID_20240608_155735_00_662.mp4',\n",
    "    '../data/row/360video/360Vnukovo-[08-06-24]/Video/VID_20240608_160554_00_663.mp4',\n",
    "    '../data/row/360video/360Vnukovo-[08-06-24]/Video/VID_20240608_171425_00_757.mp4',\n",
    "    '../data/row/360video/360Vnukovo-[08-06-24]/Video/VID_20240608_171656_00_758.mp4',\n",
    "    '../data/row/360video/360Vnukovo-[08-06-24]/Video/VID_20240608_173506_00_810.mp4',\n",
    "    '../data/row/360video/360Vnukovo-[08-06-24]/Video/VID_20240608_174236_00_639.mp4',\n",
    "    '../data/row/360video/360Vnukovo-[08-06-24]/Video2/VID_20240608_124205_00_076.mp4',\n",
    "    '../data/row/360video/360Vnukovo-[08-06-24]/Video2/VID_20240608_124529_00_077.mp4',\n",
    "    '../data/row/360video/360Vnukovo-[08-06-24]/Video2/VID_20240608_165139_00_135.mp4',\n",
    "    '../data/row/360video/360Vnukovo-[15-06-24]/Export/VID_20240615_114927_00_262.mp4',\n",
    "    '../data/row/360video/360Vnukovo-[15-06-24]/Export/VID_20240615_122020_00_263.mp4',\n",
    "    '../data/row/360video/360Vnukovo-[15-06-24]/Export/VID_20240615_124935_00_264.mp4',\n",
    "    '../data/row/360video/Export/VID_20240615_114927_00_262.mp4'\n",
    "]"
   ]
  },
  {
   "cell_type": "markdown",
   "id": "add96b39-214a-45db-9165-f9e36f6d3fb4",
   "metadata": {},
   "source": [
    "### Статистика"
   ]
  },
  {
   "cell_type": "markdown",
   "id": "07e026de-a4f8-499e-b00b-2d52e3f0e01a",
   "metadata": {},
   "source": [
    "Общее время и количество кадров, чтобы понимать сколько получится данных."
   ]
  },
  {
   "cell_type": "code",
   "execution_count": 20,
   "id": "b759a340-3698-4647-b2b5-ab112d126e09",
   "metadata": {
    "tags": []
   },
   "outputs": [
    {
     "name": "stdout",
     "output_type": "stream",
     "text": [
      "Всего минут: 320\n",
      "Всего кадров: 602317.0\n"
     ]
    }
   ],
   "source": [
    "total_time, total_frames = 0, 0\n",
    "\n",
    "for path_video in path_videos:\n",
    "\n",
    "    cap = cv2.VideoCapture(path_video)\n",
    "    \n",
    "    frames = cap.get(cv2.CAP_PROP_FRAME_COUNT)\n",
    "\n",
    "    # Получить частоту кадров (FPS)\n",
    "    fps = cap.get(cv2.CAP_PROP_FPS)\n",
    "\n",
    "    # Вычислить длительность видео в минутах\n",
    "    duration_in_sec = frames / fps\n",
    "    duration_in_min = duration_in_sec / 60\n",
    "    \n",
    "    total_time += int(duration_in_min)\n",
    "    total_frames += frames\n",
    "    \n",
    "print(f'Всего минут: {total_time}')\n",
    "print(f'Всего кадров: {total_frames}')"
   ]
  },
  {
   "cell_type": "markdown",
   "id": "2f36b5a8",
   "metadata": {},
   "source": [
    "### Config"
   ]
  },
  {
   "cell_type": "code",
   "execution_count": 3,
   "id": "9120746a",
   "metadata": {},
   "outputs": [],
   "source": [
    "PATH_SAVE = '../data/row/stills'\n",
    "multiplier = 100"
   ]
  },
  {
   "cell_type": "code",
   "execution_count": 8,
   "id": "3dc71a84-c27c-4731-8468-abaabb894bef",
   "metadata": {
    "tags": []
   },
   "outputs": [
    {
     "data": {
      "text/plain": [
       "'VID_20240502_101342_00_701'"
      ]
     },
     "execution_count": 8,
     "metadata": {},
     "output_type": "execute_result"
    }
   ],
   "source": []
  },
  {
   "cell_type": "markdown",
   "id": "119dde83-7f4d-4852-9019-1a0f3884af55",
   "metadata": {},
   "source": [
    "### Cutting"
   ]
  },
  {
   "cell_type": "code",
   "execution_count": 11,
   "id": "4dd4adfd-fda5-4d7c-89e9-dfe1fc6fdc11",
   "metadata": {
    "collapsed": true,
    "jupyter": {
     "outputs_hidden": true
    },
    "tags": []
   },
   "outputs": [
    {
     "data": {
      "application/vnd.jupyter.widget-view+json": {
       "model_id": "e91fe76953d94910a463ab825bfda9d3",
       "version_major": 2,
       "version_minor": 0
      },
      "text/plain": [
       "Video VID_20240502_101342_00_701:   0%|          | 0/521 [00:00<?, ?it/s]"
      ]
     },
     "metadata": {},
     "output_type": "display_data"
    },
    {
     "data": {
      "application/vnd.jupyter.widget-view+json": {
       "model_id": "ef1d7b2cd9ea4f578154fa4c1298f39f",
       "version_major": 2,
       "version_minor": 0
      },
      "text/plain": [
       "Video VID_20240502_104300_00_702:   0%|          | 0/276 [00:00<?, ?it/s]"
      ]
     },
     "metadata": {},
     "output_type": "display_data"
    },
    {
     "data": {
      "application/vnd.jupyter.widget-view+json": {
       "model_id": "de4f2b0303074d19b0ec7e123a82cd2d",
       "version_major": 2,
       "version_minor": 0
      },
      "text/plain": [
       "Video VID_20240610_090231_00_141:   0%|          | 0/521 [00:00<?, ?it/s]"
      ]
     },
     "metadata": {},
     "output_type": "display_data"
    },
    {
     "data": {
      "application/vnd.jupyter.widget-view+json": {
       "model_id": "e9132632f72740e689d38c8bb02ed121",
       "version_major": 2,
       "version_minor": 0
      },
      "text/plain": [
       "Video VID_20240610_093147_00_142:   0%|          | 0/26 [00:00<?, ?it/s]"
      ]
     },
     "metadata": {},
     "output_type": "display_data"
    },
    {
     "data": {
      "application/vnd.jupyter.widget-view+json": {
       "model_id": "ac9f6712b72e4955ab55986c9ca60c95",
       "version_major": 2,
       "version_minor": 0
      },
      "text/plain": [
       "Video VID_20240610_094210_00_143:   0%|          | 0/521 [00:00<?, ?it/s]"
      ]
     },
     "metadata": {},
     "output_type": "display_data"
    },
    {
     "data": {
      "application/vnd.jupyter.widget-view+json": {
       "model_id": "e8819da7fdb34a6a897b645b04ad9a38",
       "version_major": 2,
       "version_minor": 0
      },
      "text/plain": [
       "Video VID_20240610_101126_00_144:   0%|          | 0/497 [00:00<?, ?it/s]"
      ]
     },
     "metadata": {},
     "output_type": "display_data"
    },
    {
     "data": {
      "application/vnd.jupyter.widget-view+json": {
       "model_id": "4d57ec59c57449beab622a7d692a1fff",
       "version_major": 2,
       "version_minor": 0
      },
      "text/plain": [
       "Video VID_20230617_211942_00_043:   0%|          | 0/131 [00:00<?, ?it/s]"
      ]
     },
     "metadata": {},
     "output_type": "display_data"
    },
    {
     "data": {
      "application/vnd.jupyter.widget-view+json": {
       "model_id": "520c507aa5964c1db0bdf35eefc03bb2",
       "version_major": 2,
       "version_minor": 0
      },
      "text/plain": [
       "Video VID_20230617_222459_00_044:   0%|          | 0/91 [00:00<?, ?it/s]"
      ]
     },
     "metadata": {},
     "output_type": "display_data"
    },
    {
     "data": {
      "application/vnd.jupyter.widget-view+json": {
       "model_id": "11605da7230842a5b3d045d4fb5a05fd",
       "version_major": 2,
       "version_minor": 0
      },
      "text/plain": [
       "Video VID_20240207_105125_00_044:   0%|          | 0/63 [00:00<?, ?it/s]"
      ]
     },
     "metadata": {},
     "output_type": "display_data"
    },
    {
     "data": {
      "application/vnd.jupyter.widget-view+json": {
       "model_id": "b193eca7b8384e1292f2fb4aac9a813e",
       "version_major": 2,
       "version_minor": 0
      },
      "text/plain": [
       "Video VID_20240214_130309_00_239:   0%|          | 0/25 [00:00<?, ?it/s]"
      ]
     },
     "metadata": {},
     "output_type": "display_data"
    },
    {
     "data": {
      "application/vnd.jupyter.widget-view+json": {
       "model_id": "3b2ed715ea9d455d8999dd326f675b06",
       "version_major": 2,
       "version_minor": 0
      },
      "text/plain": [
       "Video VID_20240602_095811_00_306:   0%|          | 0/132 [00:00<?, ?it/s]"
      ]
     },
     "metadata": {},
     "output_type": "display_data"
    },
    {
     "data": {
      "application/vnd.jupyter.widget-view+json": {
       "model_id": "1449214000fe4570a2325d6111d8f82a",
       "version_major": 2,
       "version_minor": 0
      },
      "text/plain": [
       "Video VID_20240602_100804_00_307:   0%|          | 0/16 [00:00<?, ?it/s]"
      ]
     },
     "metadata": {},
     "output_type": "display_data"
    },
    {
     "data": {
      "application/vnd.jupyter.widget-view+json": {
       "model_id": "a1d8193964ce4469a071861ccf46c324",
       "version_major": 2,
       "version_minor": 0
      },
      "text/plain": [
       "Video VID_20240602_102848_00_239:   0%|          | 0/15 [00:00<?, ?it/s]"
      ]
     },
     "metadata": {},
     "output_type": "display_data"
    },
    {
     "data": {
      "application/vnd.jupyter.widget-view+json": {
       "model_id": "d4c947eed9784ab9b4c50d115917e73b",
       "version_major": 2,
       "version_minor": 0
      },
      "text/plain": [
       "Video VID_20240602_103011_00_240:   0%|          | 0/13 [00:00<?, ?it/s]"
      ]
     },
     "metadata": {},
     "output_type": "display_data"
    },
    {
     "data": {
      "application/vnd.jupyter.widget-view+json": {
       "model_id": "81a94d33c896494ba7f27eff60f19d2e",
       "version_major": 2,
       "version_minor": 0
      },
      "text/plain": [
       "Video VID_20240602_103124_00_241:   0%|          | 0/47 [00:00<?, ?it/s]"
      ]
     },
     "metadata": {},
     "output_type": "display_data"
    },
    {
     "data": {
      "application/vnd.jupyter.widget-view+json": {
       "model_id": "3e5a84c9ffff48c8aff93324df550543",
       "version_major": 2,
       "version_minor": 0
      },
      "text/plain": [
       "Video VID_20240602_103410_00_242:   0%|          | 0/11 [00:00<?, ?it/s]"
      ]
     },
     "metadata": {},
     "output_type": "display_data"
    },
    {
     "data": {
      "application/vnd.jupyter.widget-view+json": {
       "model_id": "14f9e33f5a134656b499a7480e0df371",
       "version_major": 2,
       "version_minor": 0
      },
      "text/plain": [
       "Video VID_20240602_132037_00_404:   0%|          | 0/521 [00:00<?, ?it/s]"
      ]
     },
     "metadata": {},
     "output_type": "display_data"
    },
    {
     "data": {
      "application/vnd.jupyter.widget-view+json": {
       "model_id": "ce70a59b261d419f9b04171ed10286b1",
       "version_major": 2,
       "version_minor": 0
      },
      "text/plain": [
       "Video VID_20240602_134954_00_405:   0%|          | 0/288 [00:00<?, ?it/s]"
      ]
     },
     "metadata": {},
     "output_type": "display_data"
    },
    {
     "data": {
      "application/vnd.jupyter.widget-view+json": {
       "model_id": "d9898f4be3c64b208d800bcb5872916c",
       "version_major": 2,
       "version_minor": 0
      },
      "text/plain": [
       "Video VID_20240602_140611_00_406:   0%|          | 0/44 [00:00<?, ?it/s]"
      ]
     },
     "metadata": {},
     "output_type": "display_data"
    },
    {
     "data": {
      "application/vnd.jupyter.widget-view+json": {
       "model_id": "7ab7e8fc51c94704bdb1719a5bb0f40e",
       "version_major": 2,
       "version_minor": 0
      },
      "text/plain": [
       "Video VID_20240608_153455_00_638:   0%|          | 0/9 [00:00<?, ?it/s]"
      ]
     },
     "metadata": {},
     "output_type": "display_data"
    },
    {
     "data": {
      "application/vnd.jupyter.widget-view+json": {
       "model_id": "7569eda84f924f8c957305c7cb8b3a9f",
       "version_major": 2,
       "version_minor": 0
      },
      "text/plain": [
       "Video VID_20240608_155217_00_661:   0%|          | 0/51 [00:00<?, ?it/s]"
      ]
     },
     "metadata": {},
     "output_type": "display_data"
    },
    {
     "data": {
      "application/vnd.jupyter.widget-view+json": {
       "model_id": "a372f9ade1e24d998be4572ac7d055f1",
       "version_major": 2,
       "version_minor": 0
      },
      "text/plain": [
       "Video VID_20240608_155735_00_662:   0%|          | 0/70 [00:00<?, ?it/s]"
      ]
     },
     "metadata": {},
     "output_type": "display_data"
    },
    {
     "data": {
      "application/vnd.jupyter.widget-view+json": {
       "model_id": "81337bc2bf6a4aa3807425232d4c2e2e",
       "version_major": 2,
       "version_minor": 0
      },
      "text/plain": [
       "Video VID_20240608_160554_00_663:   0%|          | 0/100 [00:00<?, ?it/s]"
      ]
     },
     "metadata": {},
     "output_type": "display_data"
    },
    {
     "data": {
      "application/vnd.jupyter.widget-view+json": {
       "model_id": "6ec2fc6e792c4d2ab3332ba6ae9175f4",
       "version_major": 2,
       "version_minor": 0
      },
      "text/plain": [
       "Video VID_20240608_171425_00_757:   0%|          | 0/21 [00:00<?, ?it/s]"
      ]
     },
     "metadata": {},
     "output_type": "display_data"
    },
    {
     "data": {
      "application/vnd.jupyter.widget-view+json": {
       "model_id": "fa3d3e0c80c94451bae3c19c998af507",
       "version_major": 2,
       "version_minor": 0
      },
      "text/plain": [
       "Video VID_20240608_171656_00_758:   0%|          | 0/40 [00:00<?, ?it/s]"
      ]
     },
     "metadata": {},
     "output_type": "display_data"
    },
    {
     "data": {
      "application/vnd.jupyter.widget-view+json": {
       "model_id": "ac1d4d3ad94d49f5b3e942963544f5a6",
       "version_major": 2,
       "version_minor": 0
      },
      "text/plain": [
       "Video VID_20240608_173506_00_810:   0%|          | 0/265 [00:00<?, ?it/s]"
      ]
     },
     "metadata": {},
     "output_type": "display_data"
    },
    {
     "data": {
      "application/vnd.jupyter.widget-view+json": {
       "model_id": "52978f253fa24f0f9238557e0c208d82",
       "version_major": 2,
       "version_minor": 0
      },
      "text/plain": [
       "Video VID_20240608_174236_00_639:   0%|          | 0/48 [00:00<?, ?it/s]"
      ]
     },
     "metadata": {},
     "output_type": "display_data"
    },
    {
     "data": {
      "application/vnd.jupyter.widget-view+json": {
       "model_id": "6bf1d3fc4c37478999f9be215dbd6085",
       "version_major": 2,
       "version_minor": 0
      },
      "text/plain": [
       "Video VID_20240608_124205_00_076:   0%|          | 0/49 [00:00<?, ?it/s]"
      ]
     },
     "metadata": {},
     "output_type": "display_data"
    },
    {
     "data": {
      "application/vnd.jupyter.widget-view+json": {
       "model_id": "6d41da97c6fd42e8b87d0cc1a851e798",
       "version_major": 2,
       "version_minor": 0
      },
      "text/plain": [
       "Video VID_20240608_124529_00_077:   0%|          | 0/42 [00:00<?, ?it/s]"
      ]
     },
     "metadata": {},
     "output_type": "display_data"
    },
    {
     "data": {
      "application/vnd.jupyter.widget-view+json": {
       "model_id": "315094a42ed041869305ed72580b76eb",
       "version_major": 2,
       "version_minor": 0
      },
      "text/plain": [
       "Video VID_20240608_165139_00_135:   0%|          | 0/12 [00:00<?, ?it/s]"
      ]
     },
     "metadata": {},
     "output_type": "display_data"
    },
    {
     "data": {
      "application/vnd.jupyter.widget-view+json": {
       "model_id": "a8a332f1e5cb447badd9d1f069041c36",
       "version_major": 2,
       "version_minor": 0
      },
      "text/plain": [
       "Video VID_20240615_114927_00_262:   0%|          | 0/398 [00:00<?, ?it/s]"
      ]
     },
     "metadata": {},
     "output_type": "display_data"
    },
    {
     "data": {
      "application/vnd.jupyter.widget-view+json": {
       "model_id": "b6bd2728b22c46aca90ed48060be86a0",
       "version_major": 2,
       "version_minor": 0
      },
      "text/plain": [
       "Video VID_20240615_122020_00_263:   0%|          | 0/521 [00:00<?, ?it/s]"
      ]
     },
     "metadata": {},
     "output_type": "display_data"
    },
    {
     "data": {
      "application/vnd.jupyter.widget-view+json": {
       "model_id": "1a4071f13ab24be8abd943ac923eeee5",
       "version_major": 2,
       "version_minor": 0
      },
      "text/plain": [
       "Video VID_20240615_124935_00_264:   0%|          | 0/223 [00:00<?, ?it/s]"
      ]
     },
     "metadata": {},
     "output_type": "display_data"
    },
    {
     "data": {
      "application/vnd.jupyter.widget-view+json": {
       "model_id": "8207e28064ef47f39966cab08367e54c",
       "version_major": 2,
       "version_minor": 0
      },
      "text/plain": [
       "Video VID_20240615_114927_00_262:   0%|          | 0/398 [00:00<?, ?it/s]"
      ]
     },
     "metadata": {},
     "output_type": "display_data"
    }
   ],
   "source": [
    "for path_video in path_videos:\n",
    "    count = 0\n",
    "    cap = cv2.VideoCapture(path_video)\n",
    "    length = int(cap.get(cv2.CAP_PROP_FRAME_COUNT))\n",
    "    \n",
    "    bar = tqdm(total=length // 100, desc=f'Video {Path(path_video).stem}')\n",
    "    \n",
    "    while(cap.isOpened() and count < length):\n",
    "        count += 1\n",
    "        ret, frame = cap.read()\n",
    "        if ret:\n",
    "            if (count % multiplier == 0):\n",
    "                bar.update(1)\n",
    "                path_save_img = f'{PATH_SAVE}/{Path(path_video).stem}_{count}.jpg'\n",
    "                status = cv2.imwrite(path_save_img, frame)\n",
    "\n",
    "    cap.release()\n",
    "    bar.close()"
   ]
  },
  {
   "cell_type": "markdown",
   "id": "6146163a-de7e-4c4f-b40c-e229dd4315c8",
   "metadata": {},
   "source": [
    "### Resize"
   ]
  },
  {
   "cell_type": "markdown",
   "id": "9b8870b4-ee52-4215-95db-6979aa710d94",
   "metadata": {},
   "source": [
    "Изображения получились очень большими 5888х2944, данные изображения в будущем нужно будет хранить, передавать по сети. Поэтому было принято решение уменьшить изображение до 2048х"
   ]
  },
  {
   "cell_type": "code",
   "execution_count": 18,
   "id": "14fe71cb-42d4-44b2-ae0d-6346f0a7d020",
   "metadata": {
    "tags": []
   },
   "outputs": [],
   "source": [
    "import numpy as np\n",
    "\n",
    "dir_imgs = '../data/row/stills'"
   ]
  },
  {
   "cell_type": "code",
   "execution_count": 16,
   "id": "a7050979-067b-4f69-a6f2-8a51bd79da92",
   "metadata": {
    "tags": []
   },
   "outputs": [],
   "source": [
    "path_imgs = [str(p) for p in Path(path_imgs).rglob('*.jpg')]"
   ]
  },
  {
   "cell_type": "code",
   "execution_count": 19,
   "id": "a0194671-637b-4c51-b45f-7c79d148f000",
   "metadata": {
    "tags": []
   },
   "outputs": [],
   "source": [
    "def get_new_height(img: np.array, new_width: int = 2048) -> int:\n",
    "    aspect_ratio = img.shape[1] / img.shape[0]\n",
    "    return int(new_width / aspect_ratio)"
   ]
  },
  {
   "cell_type": "code",
   "execution_count": 33,
   "id": "d6464b41-6594-425a-8e42-3d59017bc95a",
   "metadata": {
    "tags": []
   },
   "outputs": [
    {
     "data": {
      "application/vnd.jupyter.widget-view+json": {
       "model_id": "3e89a765c54a4dc0af64878610af1d5b",
       "version_major": 2,
       "version_minor": 0
      },
      "text/plain": [
       "  0%|          | 0/5608 [00:00<?, ?it/s]"
      ]
     },
     "metadata": {},
     "output_type": "display_data"
    }
   ],
   "source": [
    "new_width = 2048\n",
    "\n",
    "for path_img in tqdm(path_imgs):\n",
    "    img = cv2.imread(path_img)\n",
    "    new_height = get_new_height(img, new_width)\n",
    "    resized_img = cv2.resize(img, (new_width, new_height))\n",
    "    \n",
    "    path_save = f'{dir_save}/{Path(path_img).stem}.jpg'\n",
    "    cv2.imwrite(path_save, resized_img)"
   ]
  },
  {
   "cell_type": "code",
   "execution_count": null,
   "id": "16668ce2-8342-415c-8f2e-eaeeab33f2ec",
   "metadata": {},
   "outputs": [],
   "source": []
  }
 ],
 "metadata": {
  "kernelspec": {
   "display_name": "csm-3d-sc-eq",
   "language": "python",
   "name": "csm-3d-sc-eq"
  },
  "language_info": {
   "codemirror_mode": {
    "name": "ipython",
    "version": 3
   },
   "file_extension": ".py",
   "mimetype": "text/x-python",
   "name": "python",
   "nbconvert_exporter": "python",
   "pygments_lexer": "ipython3",
   "version": "3.10.13"
  }
 },
 "nbformat": 4,
 "nbformat_minor": 5
}
