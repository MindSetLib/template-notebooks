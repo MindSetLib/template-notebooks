{
 "cells": [
  {
   "cell_type": "markdown",
   "id": "8f7e88b0",
   "metadata": {},
   "source": [
    "### Задача"
   ]
  },
  {
   "cell_type": "markdown",
   "id": "d30bf970",
   "metadata": {},
   "source": [
    "Нарезать видео на кадры из которых будет формироваться датасет для обучения."
   ]
  },
  {
   "cell_type": "markdown",
   "id": "c5361b35",
   "metadata": {},
   "source": [
    "### Mount"
   ]
  },
  {
   "cell_type": "markdown",
   "id": "a220fc45",
   "metadata": {},
   "source": [
    "Подмонтируем папку из сервера к докер контейнеру Jupyter Lab."
   ]
  },
  {
   "cell_type": "code",
   "execution_count": null,
   "id": "7de06146",
   "metadata": {},
   "outputs": [],
   "source": [
    "sudo mount --bind /home/samolet/decor_fsk_video/decor /var/lib/docker/volumes/jupyterhub-user-{git-username}/_data/csm_inner_ds/cv/classification/multi/decor/v0.2/data/row/original"
   ]
  },
  {
   "cell_type": "markdown",
   "id": "c32420d3-4765-47bf-b01b-65ebd37c3904",
   "metadata": {},
   "source": [
    "### Import"
   ]
  },
  {
   "cell_type": "code",
   "execution_count": 50,
   "id": "441069a1-fb85-4a4f-a695-ab3e8c6e19ab",
   "metadata": {
    "tags": []
   },
   "outputs": [],
   "source": [
    "import re\n",
    "import cv2\n",
    "from pathlib import Path\n",
    "from tqdm.notebook import tqdm"
   ]
  },
  {
   "cell_type": "markdown",
   "id": "add96b39-214a-45db-9165-f9e36f6d3fb4",
   "metadata": {},
   "source": [
    "### Статистика"
   ]
  },
  {
   "cell_type": "markdown",
   "id": "07e026de-a4f8-499e-b00b-2d52e3f0e01a",
   "metadata": {},
   "source": [
    "Общее время и количество кадров, чтобы понимать сколько получится данных. Нам необходимо отобрать кадры с финальной отделкой внешнего коридора, а отделка в данном статусе есть только в видео снятых в мае и июне, поэтому нам необходимо изначально отобрать видео с этими датами."
   ]
  },
  {
   "cell_type": "code",
   "execution_count": 48,
   "id": "46e1d59f-124b-4887-ba8d-379580ef78dc",
   "metadata": {
    "tags": []
   },
   "outputs": [],
   "source": [
    "path_videos = []\n",
    "\n",
    "for p in Path(dir_videos).rglob('*.mp4'):\n",
    "\n",
    "    date = re.findall(r'\\d{2}-\\d{2}-\\d{2}', str(p))\n",
    "    if int(date[0].split('-')[1]) in [5, 6]:\n",
    "        path_videos.append(p)"
   ]
  },
  {
   "cell_type": "code",
   "execution_count": 51,
   "id": "b759a340-3698-4647-b2b5-ab112d126e09",
   "metadata": {
    "tags": []
   },
   "outputs": [
    {
     "data": {
      "application/vnd.jupyter.widget-view+json": {
       "model_id": "7945dee0edc746dc9839ecf4af3eb056",
       "version_major": 2,
       "version_minor": 0
      },
      "text/plain": [
       "  0%|          | 0/500 [00:00<?, ?it/s]"
      ]
     },
     "metadata": {},
     "output_type": "display_data"
    },
    {
     "name": "stdout",
     "output_type": "stream",
     "text": [
      "Всего минут: 1179\n",
      "Всего кадров: 2556071.0\n"
     ]
    }
   ],
   "source": [
    "total_time, total_frames = 0, 0\n",
    "\n",
    "for path_video in tqdm(path_videos, total=len(path_videos)):\n",
    "\n",
    "    cap = cv2.VideoCapture(path_video)\n",
    "    \n",
    "    frames = cap.get(cv2.CAP_PROP_FRAME_COUNT)\n",
    "\n",
    "    # Получить частоту кадров (FPS)\n",
    "    fps = cap.get(cv2.CAP_PROP_FPS)\n",
    "\n",
    "    # Вычислить длительность видео в минутах\n",
    "    duration_in_sec = frames / fps\n",
    "    duration_in_min = duration_in_sec / 60\n",
    "    \n",
    "    total_time += int(duration_in_min)\n",
    "    total_frames += frames\n",
    "    \n",
    "print(f'Всего минут: {total_time}')\n",
    "print(f'Всего кадров: {total_frames}')"
   ]
  },
  {
   "cell_type": "markdown",
   "id": "2f36b5a8",
   "metadata": {},
   "source": [
    "### Config"
   ]
  },
  {
   "cell_type": "code",
   "execution_count": 52,
   "id": "9120746a",
   "metadata": {},
   "outputs": [],
   "source": [
    "PATH_SAVE = '../data/row/stills'\n",
    "multiplier = 100"
   ]
  },
  {
   "cell_type": "markdown",
   "id": "119dde83-7f4d-4852-9019-1a0f3884af55",
   "metadata": {},
   "source": [
    "### Cutting"
   ]
  },
  {
   "cell_type": "code",
   "execution_count": null,
   "id": "4dd4adfd-fda5-4d7c-89e9-dfe1fc6fdc11",
   "metadata": {
    "collapsed": true,
    "jupyter": {
     "outputs_hidden": true
    },
    "tags": []
   },
   "outputs": [
    {
     "data": {
      "application/vnd.jupyter.widget-view+json": {
       "model_id": "25e4d105da694e58a1c9b0c2cfcc98fe",
       "version_major": 2,
       "version_minor": 0
      },
      "text/plain": [
       "Video QR_Московская обл._БИТЦА_[7й корпус]_1_23_3_dI8aMF_19-06-24_decor:   0%|          | 0/54 [00:00<?, ?it/s…"
      ]
     },
     "metadata": {},
     "output_type": "display_data"
    },
    {
     "data": {
      "application/vnd.jupyter.widget-view+json": {
       "model_id": "609ad39b92c948b3b9d5219f4e8f79e3",
       "version_major": 2,
       "version_minor": 0
      },
      "text/plain": [
       "Video Hand_Московская обл._БИТЦА_[7й корпус]_1_19_3_tkQJ8l_19-06-24_decor:   0%|          | 0/49 [00:00<?, ?it…"
      ]
     },
     "metadata": {},
     "output_type": "display_data"
    },
    {
     "data": {
      "application/vnd.jupyter.widget-view+json": {
       "model_id": "80a047b3fa3f4fa1ba51292f7075ae76",
       "version_major": 2,
       "version_minor": 0
      },
      "text/plain": [
       "Video QR_Московская обл._БИТЦА_[7й корпус]_2_10_3_iuIYFH_10-06-24_decor:   0%|          | 0/63 [00:00<?, ?it/s…"
      ]
     },
     "metadata": {},
     "output_type": "display_data"
    },
    {
     "data": {
      "application/vnd.jupyter.widget-view+json": {
       "model_id": "6aee02f7629444739bc6fbd0dc4e2644",
       "version_major": 2,
       "version_minor": 0
      },
      "text/plain": [
       "Video QR_Московская обл._БИТЦА_[7й корпус]_4_2_3_os9gl2_24-06-24_decor:   0%|          | 0/31 [00:00<?, ?it/s]"
      ]
     },
     "metadata": {},
     "output_type": "display_data"
    },
    {
     "data": {
      "application/vnd.jupyter.widget-view+json": {
       "model_id": "2aff6d2d8bbe48d1b747c3158155e0ff",
       "version_major": 2,
       "version_minor": 0
      },
      "text/plain": [
       "Video QR_Московская обл._БИТЦА_[7й корпус]_5_21_3_p46OOn_21-06-24_decor:   0%|          | 0/42 [00:00<?, ?it/s…"
      ]
     },
     "metadata": {},
     "output_type": "display_data"
    },
    {
     "data": {
      "application/vnd.jupyter.widget-view+json": {
       "model_id": "eee9b1ad53f54620992600dfaf5dd0c4",
       "version_major": 2,
       "version_minor": 0
      },
      "text/plain": [
       "Video QR_Московская обл._БИТЦА_[7й корпус]_1_13_3_KI8XUr_19-06-24_decor:   0%|          | 0/57 [00:00<?, ?it/s…"
      ]
     },
     "metadata": {},
     "output_type": "display_data"
    },
    {
     "data": {
      "application/vnd.jupyter.widget-view+json": {
       "model_id": "eafe2e695df04be884ed6781fa0a3734",
       "version_major": 2,
       "version_minor": 0
      },
      "text/plain": [
       "Video QR_Московская обл._БИТЦА_[7й корпус]_1_1_3_ChpayV_24-06-24_decor:   0%|          | 0/23 [00:00<?, ?it/s]"
      ]
     },
     "metadata": {},
     "output_type": "display_data"
    },
    {
     "data": {
      "application/vnd.jupyter.widget-view+json": {
       "model_id": "160b19cb7497464b985d0a188241583a",
       "version_major": 2,
       "version_minor": 0
      },
      "text/plain": [
       "Video Hand_Московская обл._БИТЦА_[7й корпус]_4_11_3_hjDkW4_21-06-24_decor:   0%|          | 0/60 [00:00<?, ?it…"
      ]
     },
     "metadata": {},
     "output_type": "display_data"
    },
    {
     "data": {
      "application/vnd.jupyter.widget-view+json": {
       "model_id": "9e77bb28e5824a28bc5c2b573e14e487",
       "version_major": 2,
       "version_minor": 0
      },
      "text/plain": [
       "Video QR_Московская обл._БИТЦА_[7й корпус]_5_10_3_OnxMvZ_21-06-24_decor:   0%|          | 0/48 [00:00<?, ?it/s…"
      ]
     },
     "metadata": {},
     "output_type": "display_data"
    },
    {
     "data": {
      "application/vnd.jupyter.widget-view+json": {
       "model_id": "36ee0148e44143c48ad5bca99de8f61e",
       "version_major": 2,
       "version_minor": 0
      },
      "text/plain": [
       "Video QR_Московская обл._БИТЦА_[7й корпус]_2_9_3_AwBBHt_19-06-24_decor:   0%|          | 0/57 [00:00<?, ?it/s]"
      ]
     },
     "metadata": {},
     "output_type": "display_data"
    },
    {
     "data": {
      "application/vnd.jupyter.widget-view+json": {
       "model_id": "d4b11e6843634420b17d149d930f7b2f",
       "version_major": 2,
       "version_minor": 0
      },
      "text/plain": [
       "Video QR_Московская обл._БИТЦА_[7й корпус]_1_12_3_erMlOM_10-06-24_decor:   0%|          | 0/10 [00:00<?, ?it/s…"
      ]
     },
     "metadata": {},
     "output_type": "display_data"
    },
    {
     "data": {
      "application/vnd.jupyter.widget-view+json": {
       "model_id": "81a3c371c2014678a50a145850c4843f",
       "version_major": 2,
       "version_minor": 0
      },
      "text/plain": [
       "Video QR_Московская обл._БИТЦА_[7й корпус]_3_23_3_gccZ3x_19-06-24_decor:   0%|          | 0/61 [00:00<?, ?it/s…"
      ]
     },
     "metadata": {},
     "output_type": "display_data"
    },
    {
     "data": {
      "application/vnd.jupyter.widget-view+json": {
       "model_id": "1dfaad8aeab74b779e214d3e6b8c4847",
       "version_major": 2,
       "version_minor": 0
      },
      "text/plain": [
       "Video QR_Московская обл._БИТЦА_[7й корпус]_8_2_3_tmYQsX_22-06-24_decor:   0%|          | 0/53 [00:00<?, ?it/s]"
      ]
     },
     "metadata": {},
     "output_type": "display_data"
    },
    {
     "data": {
      "application/vnd.jupyter.widget-view+json": {
       "model_id": "950f1b2091fa4d41a514a99d29d93047",
       "version_major": 2,
       "version_minor": 0
      },
      "text/plain": [
       "Video QR_Московская обл._БИТЦА_[7й корпус]_1_17_3_kbd6Ol_19-06-24_decor:   0%|          | 0/59 [00:00<?, ?it/s…"
      ]
     },
     "metadata": {},
     "output_type": "display_data"
    },
    {
     "data": {
      "application/vnd.jupyter.widget-view+json": {
       "model_id": "4635662e991f43d18129711df3f7349b",
       "version_major": 2,
       "version_minor": 0
      },
      "text/plain": [
       "Video QR_Московская обл._БИТЦА_[7й корпус]_1_17_3_fwrpzC_24-06-24_decor:   0%|          | 0/53 [00:00<?, ?it/s…"
      ]
     },
     "metadata": {},
     "output_type": "display_data"
    },
    {
     "data": {
      "application/vnd.jupyter.widget-view+json": {
       "model_id": "ca8c3f446600440b83735bf03be280b9",
       "version_major": 2,
       "version_minor": 0
      },
      "text/plain": [
       "Video QR_Московская обл._БИТЦА_[7й корпус]_2_14_3_8J4hHQ_10-06-24_decor:   0%|          | 0/63 [00:00<?, ?it/s…"
      ]
     },
     "metadata": {},
     "output_type": "display_data"
    },
    {
     "data": {
      "application/vnd.jupyter.widget-view+json": {
       "model_id": "7548e66ae386470dab570b4b5e39e4fb",
       "version_major": 2,
       "version_minor": 0
      },
      "text/plain": [
       "Video QR_Московская обл._БИТЦА_[7й корпус]_7_21_3_IfG1i7_15-06-24_decor:   0%|          | 0/60 [00:00<?, ?it/s…"
      ]
     },
     "metadata": {},
     "output_type": "display_data"
    },
    {
     "data": {
      "application/vnd.jupyter.widget-view+json": {
       "model_id": "e5eae03d805a436abca099c22ed24b30",
       "version_major": 2,
       "version_minor": 0
      },
      "text/plain": [
       "Video QR_Московская обл._БИТЦА_[7й корпус]_2_2_3_fmTK8P_19-06-24_decor:   0%|          | 0/35 [00:00<?, ?it/s]"
      ]
     },
     "metadata": {},
     "output_type": "display_data"
    },
    {
     "data": {
      "application/vnd.jupyter.widget-view+json": {
       "model_id": "67c67f747e1746dbafdbf87edfbc9c6d",
       "version_major": 2,
       "version_minor": 0
      },
      "text/plain": [
       "Video Hand_Московская обл._БИТЦА_[7й корпус]_3_7_3_JG3ls4_19-06-24_decor:   0%|          | 0/67 [00:00<?, ?it/…"
      ]
     },
     "metadata": {},
     "output_type": "display_data"
    },
    {
     "data": {
      "application/vnd.jupyter.widget-view+json": {
       "model_id": "e9e8b24f57084b818818d059b8398a0f",
       "version_major": 2,
       "version_minor": 0
      },
      "text/plain": [
       "Video QR_Московская обл._БИТЦА_[7й корпус]_1_17_3_YmS7ie_10-06-24_decor:   0%|          | 0/61 [00:00<?, ?it/s…"
      ]
     },
     "metadata": {},
     "output_type": "display_data"
    },
    {
     "data": {
      "application/vnd.jupyter.widget-view+json": {
       "model_id": "c70168762042480cae8f639502e6f65e",
       "version_major": 2,
       "version_minor": 0
      },
      "text/plain": [
       "Video Hand_Московская обл._БИТЦА_[7й корпус]_5_3_3_q1GrF6_14-06-24_decor:   0%|          | 0/48 [00:00<?, ?it/…"
      ]
     },
     "metadata": {},
     "output_type": "display_data"
    },
    {
     "data": {
      "application/vnd.jupyter.widget-view+json": {
       "model_id": "6f0b2e4644ca423ca0c755ee11550ce3",
       "version_major": 2,
       "version_minor": 0
      },
      "text/plain": [
       "Video QR_Московская обл._БИТЦА_[7й корпус]_5_18_3_HeTLUf_21-06-24_decor:   0%|          | 0/44 [00:00<?, ?it/s…"
      ]
     },
     "metadata": {},
     "output_type": "display_data"
    },
    {
     "data": {
      "application/vnd.jupyter.widget-view+json": {
       "model_id": "e99e05c92e734ad8b1139f5c6333b9e1",
       "version_major": 2,
       "version_minor": 0
      },
      "text/plain": [
       "Video QR_Московская обл._БИТЦА_[7й корпус]_6_20_3_HEeo2j_21-06-24_decor:   0%|          | 0/45 [00:00<?, ?it/s…"
      ]
     },
     "metadata": {},
     "output_type": "display_data"
    },
    {
     "data": {
      "application/vnd.jupyter.widget-view+json": {
       "model_id": "36cd742d422c47818e8d8ff8a71c484d",
       "version_major": 2,
       "version_minor": 0
      },
      "text/plain": [
       "Video QR_Московская обл._БИТЦА_[7й корпус]_8_11_3_Cm0HZn_15-06-24_decor:   0%|          | 0/58 [00:00<?, ?it/s…"
      ]
     },
     "metadata": {},
     "output_type": "display_data"
    },
    {
     "data": {
      "application/vnd.jupyter.widget-view+json": {
       "model_id": "35ac9fd48bd54aa984452b9c8316d441",
       "version_major": 2,
       "version_minor": 0
      },
      "text/plain": [
       "Video QR_Московская обл._БИТЦА_[7й корпус]_3_21_3_r5WSgE_24-06-24_decor:   0%|          | 0/57 [00:00<?, ?it/s…"
      ]
     },
     "metadata": {},
     "output_type": "display_data"
    },
    {
     "data": {
      "application/vnd.jupyter.widget-view+json": {
       "model_id": "ea789374fd7d408a9a8beb079c0bba75",
       "version_major": 2,
       "version_minor": 0
      },
      "text/plain": [
       "Video QR_Московская обл._БИТЦА_[7й корпус]_3_18_3_1fM4ev_19-06-24_decor:   0%|          | 0/67 [00:00<?, ?it/s…"
      ]
     },
     "metadata": {},
     "output_type": "display_data"
    },
    {
     "data": {
      "application/vnd.jupyter.widget-view+json": {
       "model_id": "114075a77e4147c8b93f76cc1c7b41bd",
       "version_major": 2,
       "version_minor": 0
      },
      "text/plain": [
       "Video QR_Московская обл._БИТЦА_[7й корпус]_4_21_3_DQJBoB_24-06-24_decor:   0%|          | 0/50 [00:00<?, ?it/s…"
      ]
     },
     "metadata": {},
     "output_type": "display_data"
    },
    {
     "data": {
      "application/vnd.jupyter.widget-view+json": {
       "model_id": "4980db319922427ca00f8ff29ec3c375",
       "version_major": 2,
       "version_minor": 0
      },
      "text/plain": [
       "Video Hand_Московская обл._БИТЦА_[7й корпус]_4_6_3_emcA9o_14-06-24_decor:   0%|          | 0/51 [00:00<?, ?it/…"
      ]
     },
     "metadata": {},
     "output_type": "display_data"
    },
    {
     "data": {
      "application/vnd.jupyter.widget-view+json": {
       "model_id": "19a9bc2bb0314ffba61c5aa601dcb489",
       "version_major": 2,
       "version_minor": 0
      },
      "text/plain": [
       "Video Hand_Московская обл._БИТЦА_[7й корпус]_4_8_3_09Rg88_14-06-24_decor:   0%|          | 0/53 [00:00<?, ?it/…"
      ]
     },
     "metadata": {},
     "output_type": "display_data"
    },
    {
     "data": {
      "application/vnd.jupyter.widget-view+json": {
       "model_id": "24133de415564b6c8b17e7331a485096",
       "version_major": 2,
       "version_minor": 0
      },
      "text/plain": [
       "Video QR_Московская обл._БИТЦА_[7й корпус]_8_9_3_FBInEs_15-06-24_decor:   0%|          | 0/58 [00:00<?, ?it/s]"
      ]
     },
     "metadata": {},
     "output_type": "display_data"
    },
    {
     "data": {
      "application/vnd.jupyter.widget-view+json": {
       "model_id": "f3179459f5e9465e854169d419d1d9f3",
       "version_major": 2,
       "version_minor": 0
      },
      "text/plain": [
       "Video QR_Московская обл._БИТЦА_[7й корпус]_4_21_3_FUmoBt_14-06-24_decor:   0%|          | 0/58 [00:00<?, ?it/s…"
      ]
     },
     "metadata": {},
     "output_type": "display_data"
    },
    {
     "data": {
      "application/vnd.jupyter.widget-view+json": {
       "model_id": "8c366ba160534ca6a9025561f4da4f8e",
       "version_major": 2,
       "version_minor": 0
      },
      "text/plain": [
       "Video QR_Московская обл._БИТЦА_[7й корпус]_6_6_3_ZObGOY_21-06-24_decor:   0%|          | 0/25 [00:00<?, ?it/s]"
      ]
     },
     "metadata": {},
     "output_type": "display_data"
    },
    {
     "data": {
      "application/vnd.jupyter.widget-view+json": {
       "model_id": "2a717db82bde427e998d21157d710710",
       "version_major": 2,
       "version_minor": 0
      },
      "text/plain": [
       "Video QR_Московская обл._БИТЦА_[7й корпус]_2_7_3_8APKwO_24-06-24_decor:   0%|          | 0/67 [00:00<?, ?it/s]"
      ]
     },
     "metadata": {},
     "output_type": "display_data"
    },
    {
     "data": {
      "application/vnd.jupyter.widget-view+json": {
       "model_id": "fea4e1a4c086433d90a76b8a10694ead",
       "version_major": 2,
       "version_minor": 0
      },
      "text/plain": [
       "Video QR_Московская обл._БИТЦА_[7й корпус]_3_16_3_IGFx0i_14-06-24_decor:   0%|          | 0/63 [00:00<?, ?it/s…"
      ]
     },
     "metadata": {},
     "output_type": "display_data"
    },
    {
     "data": {
      "application/vnd.jupyter.widget-view+json": {
       "model_id": "7a1c0f6f76a24b58b411fddd63bfa801",
       "version_major": 2,
       "version_minor": 0
      },
      "text/plain": [
       "Video Hand_Московская обл._БИТЦА_[7й корпус]_3_7_3_rOecyR_10-06-24_decor:   0%|          | 0/62 [00:00<?, ?it/…"
      ]
     },
     "metadata": {},
     "output_type": "display_data"
    },
    {
     "data": {
      "application/vnd.jupyter.widget-view+json": {
       "model_id": "5a6ea47a8e08414987b873949e5adfac",
       "version_major": 2,
       "version_minor": 0
      },
      "text/plain": [
       "Video Hand_Московская обл._БИТЦА_[7й корпус]_5_3_3_hpF3Si_02-05-24_decor:   0%|          | 0/61 [00:00<?, ?it/…"
      ]
     },
     "metadata": {},
     "output_type": "display_data"
    },
    {
     "data": {
      "application/vnd.jupyter.widget-view+json": {
       "model_id": "6be3aa54916d4e0fa7bd5b1d20f86bd8",
       "version_major": 2,
       "version_minor": 0
      },
      "text/plain": [
       "Video QR_Московская обл._БИТЦА_[7й корпус]_1_17_3_GEQl4o_24-06-24_decor:   0%|          | 0/55 [00:00<?, ?it/s…"
      ]
     },
     "metadata": {},
     "output_type": "display_data"
    },
    {
     "data": {
      "application/vnd.jupyter.widget-view+json": {
       "model_id": "6131084deec74258af9677bf59ba68d1",
       "version_major": 2,
       "version_minor": 0
      },
      "text/plain": [
       "Video Hand_Московская обл._БИТЦА_[7й корпус]_6_2_3_Ab8MlE_21-06-24_decor:   0%|          | 0/22 [00:00<?, ?it/…"
      ]
     },
     "metadata": {},
     "output_type": "display_data"
    },
    {
     "data": {
      "application/vnd.jupyter.widget-view+json": {
       "model_id": "8283a8dd0fdf4cfdbeabbab0166f2ca1",
       "version_major": 2,
       "version_minor": 0
      },
      "text/plain": [
       "Video QR_Московская обл._БИТЦА_[7й корпус]_3_8_3_TZvm4B_19-06-24_decor:   0%|          | 0/51 [00:00<?, ?it/s]"
      ]
     },
     "metadata": {},
     "output_type": "display_data"
    },
    {
     "data": {
      "application/vnd.jupyter.widget-view+json": {
       "model_id": "4a8b38e43fb6402cacc018214cc93517",
       "version_major": 2,
       "version_minor": 0
      },
      "text/plain": [
       "Video QR_Московская обл._БИТЦА_[7й корпус]_1_2_3_wAcdGx_19-06-24_decor:   0%|          | 0/57 [00:00<?, ?it/s]"
      ]
     },
     "metadata": {},
     "output_type": "display_data"
    },
    {
     "data": {
      "application/vnd.jupyter.widget-view+json": {
       "model_id": "9a788468d4134e70a67898f0802ab568",
       "version_major": 2,
       "version_minor": 0
      },
      "text/plain": [
       "Video QR_Московская обл._БИТЦА_[7й корпус]_8_6_3_BB9Fgz_02-05-24_decor:   0%|          | 0/61 [00:00<?, ?it/s]"
      ]
     },
     "metadata": {},
     "output_type": "display_data"
    },
    {
     "data": {
      "application/vnd.jupyter.widget-view+json": {
       "model_id": "ffb9d406ce554d24bce4bb7dce18c739",
       "version_major": 2,
       "version_minor": 0
      },
      "text/plain": [
       "Video Hand_Московская обл._БИТЦА_[7й корпус]_4_7_3_1rtDAQ_24-06-24_decor:   0%|          | 0/48 [00:00<?, ?it/…"
      ]
     },
     "metadata": {},
     "output_type": "display_data"
    },
    {
     "data": {
      "application/vnd.jupyter.widget-view+json": {
       "model_id": "0a8f48e8b2bf4dce937e055b67bf79b7",
       "version_major": 2,
       "version_minor": 0
      },
      "text/plain": [
       "Video Hand_Московская обл._БИТЦА_[7й корпус]_8_1_3_ZsAbu6_15-06-24_decor:   0%|          | 0/18 [00:00<?, ?it/…"
      ]
     },
     "metadata": {},
     "output_type": "display_data"
    },
    {
     "data": {
      "application/vnd.jupyter.widget-view+json": {
       "model_id": "f7c264f8b146468580aaa52304132e53",
       "version_major": 2,
       "version_minor": 0
      },
      "text/plain": [
       "Video QR_Московская обл._БИТЦА_[7й корпус]_5_6_3_2G2mjT_02-05-24_decor:   0%|          | 0/30 [00:00<?, ?it/s]"
      ]
     },
     "metadata": {},
     "output_type": "display_data"
    },
    {
     "data": {
      "application/vnd.jupyter.widget-view+json": {
       "model_id": "d8ff94d1800a427b96d7f75c9f2aa7d8",
       "version_major": 2,
       "version_minor": 0
      },
      "text/plain": [
       "Video QR_Московская обл._БИТЦА_[7й корпус]_5_15_3_wTj9tG_21-06-24_decor:   0%|          | 0/48 [00:00<?, ?it/s…"
      ]
     },
     "metadata": {},
     "output_type": "display_data"
    },
    {
     "data": {
      "application/vnd.jupyter.widget-view+json": {
       "model_id": "55432554db224f21b72b6198403fae6d",
       "version_major": 2,
       "version_minor": 0
      },
      "text/plain": [
       "Video Hand_Московская обл._БИТЦА_[7й корпус]_7_4_3_uUtpAB_10-06-24_decor:   0%|          | 0/60 [00:00<?, ?it/…"
      ]
     },
     "metadata": {},
     "output_type": "display_data"
    },
    {
     "data": {
      "application/vnd.jupyter.widget-view+json": {
       "model_id": "62e1a3eddb3f43b3b6ac7073d3093f81",
       "version_major": 2,
       "version_minor": 0
      },
      "text/plain": [
       "Video QR_Московская обл._БИТЦА_[7й корпус]_2_17_3_Qi9eap_24-06-24_decor:   0%|          | 0/56 [00:00<?, ?it/s…"
      ]
     },
     "metadata": {},
     "output_type": "display_data"
    },
    {
     "data": {
      "application/vnd.jupyter.widget-view+json": {
       "model_id": "91575e6862c940a8881eb57611c44768",
       "version_major": 2,
       "version_minor": 0
      },
      "text/plain": [
       "Video QR_Московская обл._БИТЦА_[7й корпус]_2_7_3_awyrwl_19-06-24_decor:   0%|          | 0/61 [00:00<?, ?it/s]"
      ]
     },
     "metadata": {},
     "output_type": "display_data"
    },
    {
     "data": {
      "application/vnd.jupyter.widget-view+json": {
       "model_id": "539fce90435f4584972b2387b563f3cd",
       "version_major": 2,
       "version_minor": 0
      },
      "text/plain": [
       "Video QR_Московская обл._БИТЦА_[7й корпус]_3_5_3_E2vOMh_10-06-24_decor:   0%|          | 0/49 [00:00<?, ?it/s]"
      ]
     },
     "metadata": {},
     "output_type": "display_data"
    },
    {
     "data": {
      "application/vnd.jupyter.widget-view+json": {
       "model_id": "41ada4dbfb3247e8b9d9e54e9c86c92d",
       "version_major": 2,
       "version_minor": 0
      },
      "text/plain": [
       "Video QR_Московская обл._БИТЦА_[7й корпус]_8_16_3_FIFiqM_15-06-24_decor:   0%|          | 0/56 [00:00<?, ?it/s…"
      ]
     },
     "metadata": {},
     "output_type": "display_data"
    },
    {
     "data": {
      "application/vnd.jupyter.widget-view+json": {
       "model_id": "6cd5512359b14287a11259ef84f6a82a",
       "version_major": 2,
       "version_minor": 0
      },
      "text/plain": [
       "Video Hand_Московская обл._БИТЦА_[7й корпус]_2_19_3_bLuVgw_24-06-24_decor:   0%|          | 0/54 [00:00<?, ?it…"
      ]
     },
     "metadata": {},
     "output_type": "display_data"
    },
    {
     "data": {
      "application/vnd.jupyter.widget-view+json": {
       "model_id": "21bb7c3c61154bebb8f168bf65e742f9",
       "version_major": 2,
       "version_minor": 0
      },
      "text/plain": [
       "Video Hand_Московская обл._БИТЦА_[7й корпус]_1_2_3_3rA9Ti_07-06-24_decor:   0%|          | 0/7 [00:00<?, ?it/s…"
      ]
     },
     "metadata": {},
     "output_type": "display_data"
    },
    {
     "data": {
      "application/vnd.jupyter.widget-view+json": {
       "model_id": "970a651693254d45895bacf5a8a7ff1b",
       "version_major": 2,
       "version_minor": 0
      },
      "text/plain": [
       "Video QR_Московская обл._БИТЦА_[7й корпус]_1_20_3_rVNyoi_10-06-24_decor:   0%|          | 0/68 [00:00<?, ?it/s…"
      ]
     },
     "metadata": {},
     "output_type": "display_data"
    },
    {
     "data": {
      "application/vnd.jupyter.widget-view+json": {
       "model_id": "a21a0605999d492c80a42070130d4d14",
       "version_major": 2,
       "version_minor": 0
      },
      "text/plain": [
       "Video QR_Московская обл._БИТЦА_[7й корпус]_3_16_3_8WnJwe_24-06-24_decor:   0%|          | 0/53 [00:00<?, ?it/s…"
      ]
     },
     "metadata": {},
     "output_type": "display_data"
    },
    {
     "data": {
      "application/vnd.jupyter.widget-view+json": {
       "model_id": "40802de451ee4d4daaf163439b4c4fb9",
       "version_major": 2,
       "version_minor": 0
      },
      "text/plain": [
       "Video QR_Московская обл._БИТЦА_[7й корпус]_1_22_3_LDdxE0_19-06-24_decor:   0%|          | 0/55 [00:00<?, ?it/s…"
      ]
     },
     "metadata": {},
     "output_type": "display_data"
    },
    {
     "data": {
      "application/vnd.jupyter.widget-view+json": {
       "model_id": "b6e7e082aab04906a0eb7d51c6c06a7c",
       "version_major": 2,
       "version_minor": 0
      },
      "text/plain": [
       "Video QR_Московская обл._БИТЦА_[7й корпус]_5_10_3_y8qPQW_14-06-24_decor:   0%|          | 0/43 [00:00<?, ?it/s…"
      ]
     },
     "metadata": {},
     "output_type": "display_data"
    },
    {
     "data": {
      "application/vnd.jupyter.widget-view+json": {
       "model_id": "ce06d8acc758425eaa615e0bf0f570e3",
       "version_major": 2,
       "version_minor": 0
      },
      "text/plain": [
       "Video QR_Московская обл._БИТЦА_[7й корпус]_6_8_3_TO8HOO_14-06-24_decor:   0%|          | 0/43 [00:00<?, ?it/s]"
      ]
     },
     "metadata": {},
     "output_type": "display_data"
    },
    {
     "data": {
      "application/vnd.jupyter.widget-view+json": {
       "model_id": "6439a0b92dea4c0394c36f785347ffd6",
       "version_major": 2,
       "version_minor": 0
      },
      "text/plain": [
       "Video QR_Московская обл._БИТЦА_[7й корпус]_7_24_3_t8GskE_15-06-24_decor:   0%|          | 0/56 [00:00<?, ?it/s…"
      ]
     },
     "metadata": {},
     "output_type": "display_data"
    },
    {
     "data": {
      "application/vnd.jupyter.widget-view+json": {
       "model_id": "ab1dfec6b59b412ab3e088df2ff85a4e",
       "version_major": 2,
       "version_minor": 0
      },
      "text/plain": [
       "Video QR_Московская обл._БИТЦА_[7й корпус]_4_3_3_ZEfBse_24-06-24_decor:   0%|          | 0/34 [00:00<?, ?it/s]"
      ]
     },
     "metadata": {},
     "output_type": "display_data"
    },
    {
     "data": {
      "application/vnd.jupyter.widget-view+json": {
       "model_id": "5b468f09619d4bdb8a325767f95c0fba",
       "version_major": 2,
       "version_minor": 0
      },
      "text/plain": [
       "Video QR_Московская обл._БИТЦА_[7й корпус]_8_8_3_jIpGgM_15-06-24_decor:   0%|          | 0/62 [00:00<?, ?it/s]"
      ]
     },
     "metadata": {},
     "output_type": "display_data"
    },
    {
     "data": {
      "application/vnd.jupyter.widget-view+json": {
       "model_id": "4e2beb0f536c499e9fa03205d4dfe18b",
       "version_major": 2,
       "version_minor": 0
      },
      "text/plain": [
       "Video QR_Московская обл._БИТЦА_[7й корпус]_1_5_3_sASO8U_24-06-24_decor:   0%|          | 0/63 [00:00<?, ?it/s]"
      ]
     },
     "metadata": {},
     "output_type": "display_data"
    },
    {
     "data": {
      "application/vnd.jupyter.widget-view+json": {
       "model_id": "2d09249957d140828a877963948513a6",
       "version_major": 2,
       "version_minor": 0
      },
      "text/plain": [
       "Video QR_Московская обл._БИТЦА_[7й корпус]_3_12_3_5fbUHl_24-06-24_decor:   0%|          | 0/55 [00:00<?, ?it/s…"
      ]
     },
     "metadata": {},
     "output_type": "display_data"
    },
    {
     "data": {
      "application/vnd.jupyter.widget-view+json": {
       "model_id": "b6a71826854a4757a4d7588abf117a6c",
       "version_major": 2,
       "version_minor": 0
      },
      "text/plain": [
       "Video QR_Московская обл._БИТЦА_[7й корпус]_6_6_3_v3vAVy_14-06-24_decor:   0%|          | 0/32 [00:00<?, ?it/s]"
      ]
     },
     "metadata": {},
     "output_type": "display_data"
    },
    {
     "data": {
      "application/vnd.jupyter.widget-view+json": {
       "model_id": "235f04cde70d4c8fbf3dc84e0fdfa449",
       "version_major": 2,
       "version_minor": 0
      },
      "text/plain": [
       "Video Hand_Московская обл._БИТЦА_[7й корпус]_1_6_3_Dz1bmv_19-06-24_decor:   0%|          | 0/31 [00:00<?, ?it/…"
      ]
     },
     "metadata": {},
     "output_type": "display_data"
    },
    {
     "data": {
      "application/vnd.jupyter.widget-view+json": {
       "model_id": "288e83efd3554731afb6f631f3521fc1",
       "version_major": 2,
       "version_minor": 0
      },
      "text/plain": [
       "Video Hand_Московская обл._БИТЦА_[7й корпус]_3_24_3_cBmWux_24-06-24_decor:   0%|          | 0/57 [00:00<?, ?it…"
      ]
     },
     "metadata": {},
     "output_type": "display_data"
    },
    {
     "data": {
      "application/vnd.jupyter.widget-view+json": {
       "model_id": "e09ca32fb0794cecb01c595f9a862250",
       "version_major": 2,
       "version_minor": 0
      },
      "text/plain": [
       "Video QR_Московская обл._БИТЦА_[7й корпус]_6_15_3_yxJWIm_21-06-24_decor:   0%|          | 0/35 [00:00<?, ?it/s…"
      ]
     },
     "metadata": {},
     "output_type": "display_data"
    },
    {
     "data": {
      "application/vnd.jupyter.widget-view+json": {
       "model_id": "9fd41938ec84446cae27183f373e134a",
       "version_major": 2,
       "version_minor": 0
      },
      "text/plain": [
       "Video QR_Московская обл._БИТЦА_[7й корпус]_3_23_3_cIKeEI_24-06-24_decor:   0%|          | 0/52 [00:00<?, ?it/s…"
      ]
     },
     "metadata": {},
     "output_type": "display_data"
    },
    {
     "data": {
      "application/vnd.jupyter.widget-view+json": {
       "model_id": "5acaba350d89459190ec72981f1aaf18",
       "version_major": 2,
       "version_minor": 0
      },
      "text/plain": [
       "Video Hand_Московская обл._БИТЦА_[7й корпус]_8_21_3_gUs22B_15-06-24_decor:   0%|          | 0/56 [00:00<?, ?it…"
      ]
     },
     "metadata": {},
     "output_type": "display_data"
    },
    {
     "data": {
      "application/vnd.jupyter.widget-view+json": {
       "model_id": "0eb8acd1282746078549009120a0234d",
       "version_major": 2,
       "version_minor": 0
      },
      "text/plain": [
       "Video QR_Московская обл._БИТЦА_[7й корпус]_7_15_3_qtsyiX_15-06-24_decor:   0%|          | 0/56 [00:00<?, ?it/s…"
      ]
     },
     "metadata": {},
     "output_type": "display_data"
    },
    {
     "data": {
      "application/vnd.jupyter.widget-view+json": {
       "model_id": "c3be73bea3ee4d16a5ac83a701698c46",
       "version_major": 2,
       "version_minor": 0
      },
      "text/plain": [
       "Video QR_Московская обл._БИТЦА_[7й корпус]_5_13_3_y7HGe3_21-06-24_decor:   0%|          | 0/41 [00:00<?, ?it/s…"
      ]
     },
     "metadata": {},
     "output_type": "display_data"
    },
    {
     "data": {
      "application/vnd.jupyter.widget-view+json": {
       "model_id": "07de445859eb485f8069406caee7377f",
       "version_major": 2,
       "version_minor": 0
      },
      "text/plain": [
       "Video QR_Московская обл._БИТЦА_[7й корпус]_3_21_3_sAnHRu_19-06-24_decor:   0%|          | 0/65 [00:00<?, ?it/s…"
      ]
     },
     "metadata": {},
     "output_type": "display_data"
    },
    {
     "data": {
      "application/vnd.jupyter.widget-view+json": {
       "model_id": "e6e69b3f11b5419abfc0164d00eb4d24",
       "version_major": 2,
       "version_minor": 0
      },
      "text/plain": [
       "Video Hand_Московская обл._БИТЦА_[7й корпус]_1_10_3_XBWy6L_24-06-24_decor:   0%|          | 0/56 [00:00<?, ?it…"
      ]
     },
     "metadata": {},
     "output_type": "display_data"
    },
    {
     "data": {
      "application/vnd.jupyter.widget-view+json": {
       "model_id": "eb7a6e8f5cae4874b505bc75ecd4a197",
       "version_major": 2,
       "version_minor": 0
      },
      "text/plain": [
       "Video QR_Московская обл._БИТЦА_[7й корпус]_2_20_3_9681mL_10-06-24_decor:   0%|          | 0/62 [00:00<?, ?it/s…"
      ]
     },
     "metadata": {},
     "output_type": "display_data"
    },
    {
     "data": {
      "application/vnd.jupyter.widget-view+json": {
       "model_id": "f5143a07f7d74f4cb9e5c1e00b115401",
       "version_major": 2,
       "version_minor": 0
      },
      "text/plain": [
       "Video QR_Московская обл._БИТЦА_[7й корпус]_8_13_3_eWlOr0_22-06-24_decor:   0%|          | 0/58 [00:00<?, ?it/s…"
      ]
     },
     "metadata": {},
     "output_type": "display_data"
    },
    {
     "data": {
      "application/vnd.jupyter.widget-view+json": {
       "model_id": "8fae4c0899944320a73fc424f73f16e6",
       "version_major": 2,
       "version_minor": 0
      },
      "text/plain": [
       "Video QR_Московская обл._БИТЦА_[7й корпус]_3_9_3_T1Xy2Q_10-06-24_decor:   0%|          | 0/58 [00:00<?, ?it/s]"
      ]
     },
     "metadata": {},
     "output_type": "display_data"
    },
    {
     "data": {
      "application/vnd.jupyter.widget-view+json": {
       "model_id": "9bbf3279d47e4608a83ccd48ff36aee0",
       "version_major": 2,
       "version_minor": 0
      },
      "text/plain": [
       "Video QR_Московская обл._БИТЦА_[7й корпус]_4_20_3_glOYRI_24-06-24_decor:   0%|          | 0/51 [00:00<?, ?it/s…"
      ]
     },
     "metadata": {},
     "output_type": "display_data"
    },
    {
     "data": {
      "application/vnd.jupyter.widget-view+json": {
       "model_id": "6622e57ebb9c48d8be111c9ef5debee7",
       "version_major": 2,
       "version_minor": 0
      },
      "text/plain": [
       "Video QR_Московская обл._БИТЦА_[7й корпус]_4_12_3_PSqUMc_14-06-24_decor:   0%|          | 0/55 [00:00<?, ?it/s…"
      ]
     },
     "metadata": {},
     "output_type": "display_data"
    },
    {
     "data": {
      "application/vnd.jupyter.widget-view+json": {
       "model_id": "7f26d1fdaf194865a7fff3fb696cb805",
       "version_major": 2,
       "version_minor": 0
      },
      "text/plain": [
       "Video Hand_Московская обл._БИТЦА_[7й корпус]_4_19_3_zDEDUa_21-06-24_decor:   0%|          | 0/56 [00:00<?, ?it…"
      ]
     },
     "metadata": {},
     "output_type": "display_data"
    },
    {
     "data": {
      "application/vnd.jupyter.widget-view+json": {
       "model_id": "30e7d1cab688408dbde4458158f56f4e",
       "version_major": 2,
       "version_minor": 0
      },
      "text/plain": [
       "Video Hand_Московская обл._БИТЦА_[7й корпус]_4_5_3_RTK6km_24-06-24_decor:   0%|          | 0/38 [00:00<?, ?it/…"
      ]
     },
     "metadata": {},
     "output_type": "display_data"
    },
    {
     "data": {
      "application/vnd.jupyter.widget-view+json": {
       "model_id": "8e832c3cd02e4516a9d7f56693e4a839",
       "version_major": 2,
       "version_minor": 0
      },
      "text/plain": [
       "Video QR_Московская обл._БИТЦА_[7й корпус]_2_15_3_T4H0R6_19-06-24_decor:   0%|          | 0/60 [00:00<?, ?it/s…"
      ]
     },
     "metadata": {},
     "output_type": "display_data"
    },
    {
     "data": {
      "application/vnd.jupyter.widget-view+json": {
       "model_id": "794e7494f6ee4ac59f7e85d1c18a99a0",
       "version_major": 2,
       "version_minor": 0
      },
      "text/plain": [
       "Video QR_Московская обл._БИТЦА_[7й корпус]_7_3_3_OTJvwR_10-06-24_decor:   0%|          | 0/57 [00:00<?, ?it/s]"
      ]
     },
     "metadata": {},
     "output_type": "display_data"
    },
    {
     "data": {
      "application/vnd.jupyter.widget-view+json": {
       "model_id": "c8db22c28a2342959f9b264b9bb47695",
       "version_major": 2,
       "version_minor": 0
      },
      "text/plain": [
       "Video QR_Московская обл._БИТЦА_[7й корпус]_5_9_3_VlpY5v_21-06-24_decor:   0%|          | 0/48 [00:00<?, ?it/s]"
      ]
     },
     "metadata": {},
     "output_type": "display_data"
    },
    {
     "data": {
      "application/vnd.jupyter.widget-view+json": {
       "model_id": "9eb2878f838e43c2bd0bf6335f25a90f",
       "version_major": 2,
       "version_minor": 0
      },
      "text/plain": [
       "Video QR_Московская обл._БИТЦА_[7й корпус]_8_4_3_gImC4N_10-06-24_decor:   0%|          | 0/58 [00:00<?, ?it/s]"
      ]
     },
     "metadata": {},
     "output_type": "display_data"
    },
    {
     "data": {
      "application/vnd.jupyter.widget-view+json": {
       "model_id": "e1879ea1b9c14dc2a2b0cc6bbc541bdc",
       "version_major": 2,
       "version_minor": 0
      },
      "text/plain": [
       "Video QR_Московская обл._БИТЦА_[7й корпус]_7_14_3_bMHeFt_15-06-24_decor:   0%|          | 0/59 [00:00<?, ?it/s…"
      ]
     },
     "metadata": {},
     "output_type": "display_data"
    },
    {
     "data": {
      "application/vnd.jupyter.widget-view+json": {
       "model_id": "a7711de1f209448c926ed2962602ecda",
       "version_major": 2,
       "version_minor": 0
      },
      "text/plain": [
       "Video QR_Московская обл._БИТЦА_[7й корпус]_2_16_3_5NbMvI_19-06-24_decor:   0%|          | 0/59 [00:00<?, ?it/s…"
      ]
     },
     "metadata": {},
     "output_type": "display_data"
    },
    {
     "data": {
      "application/vnd.jupyter.widget-view+json": {
       "model_id": "b1ca59a0a4e44f5597f81d223c303529",
       "version_major": 2,
       "version_minor": 0
      },
      "text/plain": [
       "Video QR_Московская обл._БИТЦА_[7й корпус]_3_12_3_O3EtRm_19-06-24_decor:   0%|          | 0/62 [00:00<?, ?it/s…"
      ]
     },
     "metadata": {},
     "output_type": "display_data"
    },
    {
     "data": {
      "application/vnd.jupyter.widget-view+json": {
       "model_id": "7401d3df87ba4d25b757b39679cbc1d9",
       "version_major": 2,
       "version_minor": 0
      },
      "text/plain": [
       "Video QR_Московская обл._БИТЦА_[7й корпус]_2_16_3_FanPAk_24-06-24_decor:   0%|          | 0/55 [00:00<?, ?it/s…"
      ]
     },
     "metadata": {},
     "output_type": "display_data"
    },
    {
     "data": {
      "application/vnd.jupyter.widget-view+json": {
       "model_id": "acb42ca4d2b3491295a77e9759ceaf40",
       "version_major": 2,
       "version_minor": 0
      },
      "text/plain": [
       "Video QR_Московская обл._БИТЦА_[7й корпус]_4_14_3_2Wb7K3_24-06-24_decor:   0%|          | 0/47 [00:00<?, ?it/s…"
      ]
     },
     "metadata": {},
     "output_type": "display_data"
    },
    {
     "data": {
      "application/vnd.jupyter.widget-view+json": {
       "model_id": "bfa61c719d634a53b28cff9a2d2e6f1b",
       "version_major": 2,
       "version_minor": 0
      },
      "text/plain": [
       "Video QR_Московская обл._БИТЦА_[7й корпус]_5_2_3_dPD17C_14-06-24_decor:   0%|          | 0/27 [00:00<?, ?it/s]"
      ]
     },
     "metadata": {},
     "output_type": "display_data"
    },
    {
     "data": {
      "application/vnd.jupyter.widget-view+json": {
       "model_id": "b248d60ca99d4c5a9eee9c9d9070fce4",
       "version_major": 2,
       "version_minor": 0
      },
      "text/plain": [
       "Video QR_Московская обл._БИТЦА_[7й корпус]_4_4_3_iaGHj5_14-06-24_decor:   0%|          | 0/40 [00:00<?, ?it/s]"
      ]
     },
     "metadata": {},
     "output_type": "display_data"
    },
    {
     "data": {
      "application/vnd.jupyter.widget-view+json": {
       "model_id": "c03714f2f3e14f6fa3b6f5fda14a0f43",
       "version_major": 2,
       "version_minor": 0
      },
      "text/plain": [
       "Video QR_Московская обл._БИТЦА_[7й корпус]_2_18_3_dXSsd3_19-06-24_decor:   0%|          | 0/62 [00:00<?, ?it/s…"
      ]
     },
     "metadata": {},
     "output_type": "display_data"
    },
    {
     "data": {
      "application/vnd.jupyter.widget-view+json": {
       "model_id": "328c6485eaf44d0c9766ebd9db206710",
       "version_major": 2,
       "version_minor": 0
      },
      "text/plain": [
       "Video QR_Московская обл._БИТЦА_[7й корпус]_2_23_3_bm1QNE_10-06-24_decor:   0%|          | 0/60 [00:00<?, ?it/s…"
      ]
     },
     "metadata": {},
     "output_type": "display_data"
    },
    {
     "data": {
      "application/vnd.jupyter.widget-view+json": {
       "model_id": "b802124342e244bcaee56541ad242c1a",
       "version_major": 2,
       "version_minor": 0
      },
      "text/plain": [
       "Video QR_Московская обл._БИТЦА_[7й корпус]_4_23_3_qiTQiy_24-06-24_decor:   0%|          | 0/52 [00:00<?, ?it/s…"
      ]
     },
     "metadata": {},
     "output_type": "display_data"
    },
    {
     "data": {
      "application/vnd.jupyter.widget-view+json": {
       "model_id": "ec8f785d8f13432dad7f092d0cc7a2dd",
       "version_major": 2,
       "version_minor": 0
      },
      "text/plain": [
       "Video QR_Московская обл._БИТЦА_[7й корпус]_2_15_3_BeZZgu_24-06-24_decor:   0%|          | 0/47 [00:00<?, ?it/s…"
      ]
     },
     "metadata": {},
     "output_type": "display_data"
    },
    {
     "data": {
      "application/vnd.jupyter.widget-view+json": {
       "model_id": "31078af4b1ba4c6e8e860891ecebc766",
       "version_major": 2,
       "version_minor": 0
      },
      "text/plain": [
       "Video QR_Московская обл._БИТЦА_[7й корпус]_4_1_3_JzqTZU_24-06-24_decor:   0%|          | 0/13 [00:00<?, ?it/s]"
      ]
     },
     "metadata": {},
     "output_type": "display_data"
    },
    {
     "data": {
      "application/vnd.jupyter.widget-view+json": {
       "model_id": "5bdc2709dfd84fb68eb260d54abd4377",
       "version_major": 2,
       "version_minor": 0
      },
      "text/plain": [
       "Video QR_Московская обл._БИТЦА_[7й корпус]_6_17_3_LagrDH_21-06-24_decor:   0%|          | 0/46 [00:00<?, ?it/s…"
      ]
     },
     "metadata": {},
     "output_type": "display_data"
    },
    {
     "data": {
      "application/vnd.jupyter.widget-view+json": {
       "model_id": "83619f83b65240ecac73b01bb9c8f24f",
       "version_major": 2,
       "version_minor": 0
      },
      "text/plain": [
       "Video QR_Московская обл._БИТЦА_[7й корпус]_3_20_3_fDZysT_19-06-24_decor:   0%|          | 0/64 [00:00<?, ?it/s…"
      ]
     },
     "metadata": {},
     "output_type": "display_data"
    },
    {
     "data": {
      "application/vnd.jupyter.widget-view+json": {
       "model_id": "5ab3676f72ba4f2d90a63bc66d8c87c8",
       "version_major": 2,
       "version_minor": 0
      },
      "text/plain": [
       "Video QR_Московская обл._БИТЦА_[7й корпус]_6_19_3_GoiJrX_14-06-24_decor:   0%|          | 0/45 [00:00<?, ?it/s…"
      ]
     },
     "metadata": {},
     "output_type": "display_data"
    },
    {
     "data": {
      "application/vnd.jupyter.widget-view+json": {
       "model_id": "a91c95d7f5974e46b2970c577fc0ca44",
       "version_major": 2,
       "version_minor": 0
      },
      "text/plain": [
       "Video QR_Московская обл._БИТЦА_[7й корпус]_6_9_3_vCgTkX_21-06-24_decor:   0%|          | 0/46 [00:00<?, ?it/s]"
      ]
     },
     "metadata": {},
     "output_type": "display_data"
    },
    {
     "data": {
      "application/vnd.jupyter.widget-view+json": {
       "model_id": "c8bf2d7323854dc3b3dd1a90d15e8c3b",
       "version_major": 2,
       "version_minor": 0
      },
      "text/plain": [
       "Video QR_Московская обл._БИТЦА_[7й корпус]_8_7_3_dYUR8y_15-06-24_decor:   0%|          | 0/54 [00:00<?, ?it/s]"
      ]
     },
     "metadata": {},
     "output_type": "display_data"
    },
    {
     "data": {
      "application/vnd.jupyter.widget-view+json": {
       "model_id": "218715f4589647c3b30074d47a48d27a",
       "version_major": 2,
       "version_minor": 0
      },
      "text/plain": [
       "Video Hand_Московская обл._БИТЦА_[7й корпус]_7_5_3_DEPb57_10-06-24_decor:   0%|          | 0/67 [00:00<?, ?it/…"
      ]
     },
     "metadata": {},
     "output_type": "display_data"
    },
    {
     "data": {
      "application/vnd.jupyter.widget-view+json": {
       "model_id": "0729a708fc1742fc813a91ac05eff174",
       "version_major": 2,
       "version_minor": 0
      },
      "text/plain": [
       "Video QR_Московская обл._БИТЦА_[7й корпус]_2_5_3_So1T1p_19-06-24_decor:   0%|          | 0/22 [00:00<?, ?it/s]"
      ]
     },
     "metadata": {},
     "output_type": "display_data"
    },
    {
     "data": {
      "application/vnd.jupyter.widget-view+json": {
       "model_id": "da9569e935104ff2920390c6da082613",
       "version_major": 2,
       "version_minor": 0
      },
      "text/plain": [
       "Video QR_Московская обл._БИТЦА_[7й корпус]_7_21_3_jG0tcx_22-06-24_decor:   0%|          | 0/55 [00:00<?, ?it/s…"
      ]
     },
     "metadata": {},
     "output_type": "display_data"
    },
    {
     "data": {
      "application/vnd.jupyter.widget-view+json": {
       "model_id": "f369e0352b65413091d6944c89e85645",
       "version_major": 2,
       "version_minor": 0
      },
      "text/plain": [
       "Video QR_Московская обл._БИТЦА_[7й корпус]_2_4_3_6MtvwQ_19-06-24_decor:   0%|          | 0/22 [00:00<?, ?it/s]"
      ]
     },
     "metadata": {},
     "output_type": "display_data"
    },
    {
     "data": {
      "application/vnd.jupyter.widget-view+json": {
       "model_id": "9d99c6576b5b4d0a80e8afb8d32c5f5f",
       "version_major": 2,
       "version_minor": 0
      },
      "text/plain": [
       "Video QR_Московская обл._БИТЦА_[7й корпус]_4_22_3_k0Qj3J_21-06-24_decor:   0%|          | 0/56 [00:00<?, ?it/s…"
      ]
     },
     "metadata": {},
     "output_type": "display_data"
    },
    {
     "data": {
      "application/vnd.jupyter.widget-view+json": {
       "model_id": "acde576f208a453f9dffb0f8d79cdb05",
       "version_major": 2,
       "version_minor": 0
      },
      "text/plain": [
       "Video QR_Московская обл._БИТЦА_[7й корпус]_5_6_3_vRYZfd_14-06-24_decor:   0%|          | 0/35 [00:00<?, ?it/s]"
      ]
     },
     "metadata": {},
     "output_type": "display_data"
    },
    {
     "data": {
      "application/vnd.jupyter.widget-view+json": {
       "model_id": "3705ab3006354b7bb64eec160056f2c1",
       "version_major": 2,
       "version_minor": 0
      },
      "text/plain": [
       "Video QR_Московская обл._БИТЦА_[7й корпус]_1_5_3_nC91oC_10-06-24_decor:   0%|          | 0/44 [00:00<?, ?it/s]"
      ]
     },
     "metadata": {},
     "output_type": "display_data"
    },
    {
     "data": {
      "application/vnd.jupyter.widget-view+json": {
       "model_id": "7c3b6e5158564e9aa53fc7049367c342",
       "version_major": 2,
       "version_minor": 0
      },
      "text/plain": [
       "Video QR_Московская обл._БИТЦА_[7й корпус]_6_20_3_aqHQMc_14-06-24_decor:   0%|          | 0/45 [00:00<?, ?it/s…"
      ]
     },
     "metadata": {},
     "output_type": "display_data"
    },
    {
     "data": {
      "application/vnd.jupyter.widget-view+json": {
       "model_id": "c6387e9aaccd4d148ac83ae1e0305de6",
       "version_major": 2,
       "version_minor": 0
      },
      "text/plain": [
       "Video QR_Московская обл._БИТЦА_[7й корпус]_7_12_3_7VOETE_15-06-24_decor:   0%|          | 0/61 [00:00<?, ?it/s…"
      ]
     },
     "metadata": {},
     "output_type": "display_data"
    },
    {
     "data": {
      "application/vnd.jupyter.widget-view+json": {
       "model_id": "f152663aec6c41ca81e2232921a51500",
       "version_major": 2,
       "version_minor": 0
      },
      "text/plain": [
       "Video QR_Московская обл._БИТЦА_[7й корпус]_7_7_3_cEb5Ub_22-06-24_decor:   0%|          | 0/56 [00:00<?, ?it/s]"
      ]
     },
     "metadata": {},
     "output_type": "display_data"
    },
    {
     "data": {
      "application/vnd.jupyter.widget-view+json": {
       "model_id": "83ac52aafe404b049382f366145d25b7",
       "version_major": 2,
       "version_minor": 0
      },
      "text/plain": [
       "Video QR_Московская обл._БИТЦА_[7й корпус]_4_15_3_Fjevpc_21-06-24_decor:   0%|          | 0/58 [00:00<?, ?it/s…"
      ]
     },
     "metadata": {},
     "output_type": "display_data"
    },
    {
     "data": {
      "application/vnd.jupyter.widget-view+json": {
       "model_id": "b55a0af957d44139826f1da5c6282f0d",
       "version_major": 2,
       "version_minor": 0
      },
      "text/plain": [
       "Video QR_Московская обл._БИТЦА_[7й корпус]_4_14_3_CLCGRM_21-06-24_decor:   0%|          | 0/57 [00:00<?, ?it/s…"
      ]
     },
     "metadata": {},
     "output_type": "display_data"
    },
    {
     "data": {
      "application/vnd.jupyter.widget-view+json": {
       "model_id": "6f5bd86ddb16468fb121ac45b472838c",
       "version_major": 2,
       "version_minor": 0
      },
      "text/plain": [
       "Video QR_Московская обл._БИТЦА_[7й корпус]_3_21_3_NG8OSl_14-06-24_decor:   0%|          | 0/71 [00:00<?, ?it/s…"
      ]
     },
     "metadata": {},
     "output_type": "display_data"
    },
    {
     "data": {
      "application/vnd.jupyter.widget-view+json": {
       "model_id": "611ac13d6594436a9f62a02f64cd6360",
       "version_major": 2,
       "version_minor": 0
      },
      "text/plain": [
       "Video Hand_Московская обл._БИТЦА_[7й корпус]_1_4_3_FKbEtb_10-06-24_decor:   0%|          | 0/60 [00:00<?, ?it/…"
      ]
     },
     "metadata": {},
     "output_type": "display_data"
    },
    {
     "data": {
      "application/vnd.jupyter.widget-view+json": {
       "model_id": "42e61b25c3a34050a71bbb0e2a143d5d",
       "version_major": 2,
       "version_minor": 0
      },
      "text/plain": [
       "Video QR_Московская обл._БИТЦА_[7й корпус]_4_24_3_LgUJRm_21-06-24_decor:   0%|          | 0/52 [00:00<?, ?it/s…"
      ]
     },
     "metadata": {},
     "output_type": "display_data"
    },
    {
     "data": {
      "application/vnd.jupyter.widget-view+json": {
       "model_id": "0674f1a0f81741d68988c81eb1b8e51e",
       "version_major": 2,
       "version_minor": 0
      },
      "text/plain": [
       "Video Hand_Московская обл._БИТЦА_[7й корпус]_8_15_3_4VMdtA_22-06-24_decor:   0%|          | 0/42 [00:00<?, ?it…"
      ]
     },
     "metadata": {},
     "output_type": "display_data"
    },
    {
     "data": {
      "application/vnd.jupyter.widget-view+json": {
       "model_id": "63622e5947334402a1012e248b4ed746",
       "version_major": 2,
       "version_minor": 0
      },
      "text/plain": [
       "Video QR_Московская обл._БИТЦА_[7й корпус]_4_14_3_uylsb7_14-06-24_decor:   0%|          | 0/51 [00:00<?, ?it/s…"
      ]
     },
     "metadata": {},
     "output_type": "display_data"
    },
    {
     "data": {
      "application/vnd.jupyter.widget-view+json": {
       "model_id": "289ec931ab834896b884d252ce57ef3c",
       "version_major": 2,
       "version_minor": 0
      },
      "text/plain": [
       "Video QR_Московская обл._БИТЦА_[7й корпус]_6_5_3_3dsWQc_14-06-24_decor:   0%|          | 0/39 [00:00<?, ?it/s]"
      ]
     },
     "metadata": {},
     "output_type": "display_data"
    },
    {
     "data": {
      "application/vnd.jupyter.widget-view+json": {
       "model_id": "11c68d5155614509bb87123c48fc8336",
       "version_major": 2,
       "version_minor": 0
      },
      "text/plain": [
       "Video QR_Московская обл._БИТЦА_[7й корпус]_7_18_3_WUCCq6_22-06-24_decor:   0%|          | 0/49 [00:00<?, ?it/s…"
      ]
     },
     "metadata": {},
     "output_type": "display_data"
    },
    {
     "data": {
      "application/vnd.jupyter.widget-view+json": {
       "model_id": "77c67ebf06de47e2a727631efc5d4c33",
       "version_major": 2,
       "version_minor": 0
      },
      "text/plain": [
       "Video QR_Московская обл._БИТЦА_[7й корпус]_2_14_3_QMWYvf_24-06-24_decor:   0%|          | 0/29 [00:00<?, ?it/s…"
      ]
     },
     "metadata": {},
     "output_type": "display_data"
    },
    {
     "data": {
      "application/vnd.jupyter.widget-view+json": {
       "model_id": "dc360abce4a8494f9407d71a60432ada",
       "version_major": 2,
       "version_minor": 0
      },
      "text/plain": [
       "Video QR_Московская обл._БИТЦА_[7й корпус]_2_9_3_6uTh8q_10-06-24_decor:   0%|          | 0/61 [00:00<?, ?it/s]"
      ]
     },
     "metadata": {},
     "output_type": "display_data"
    },
    {
     "data": {
      "application/vnd.jupyter.widget-view+json": {
       "model_id": "fddb5906372e4e3090bb23a4cf1e6011",
       "version_major": 2,
       "version_minor": 0
      },
      "text/plain": [
       "Video QR_Московская обл._БИТЦА_[7й корпус]_5_19_3_yI6o6h_14-06-24_decor:   0%|          | 0/43 [00:00<?, ?it/s…"
      ]
     },
     "metadata": {},
     "output_type": "display_data"
    },
    {
     "data": {
      "application/vnd.jupyter.widget-view+json": {
       "model_id": "619be0a370f9458c945edc0e2fc51548",
       "version_major": 2,
       "version_minor": 0
      },
      "text/plain": [
       "Video QR_Московская обл._БИТЦА_[7й корпус]_4_10_3_6gZzWU_14-06-24_decor:   0%|          | 0/51 [00:00<?, ?it/s…"
      ]
     },
     "metadata": {},
     "output_type": "display_data"
    },
    {
     "data": {
      "application/vnd.jupyter.widget-view+json": {
       "model_id": "e6ba2d33cf4943cb8007db948107b1b1",
       "version_major": 2,
       "version_minor": 0
      },
      "text/plain": [
       "Video QR_Московская обл._БИТЦА_[7й корпус]_3_2_3_T9TnIr_24-06-24_decor:   0%|          | 0/48 [00:00<?, ?it/s]"
      ]
     },
     "metadata": {},
     "output_type": "display_data"
    },
    {
     "data": {
      "application/vnd.jupyter.widget-view+json": {
       "model_id": "2d723fdb089b42b9976cd8bd687aa34e",
       "version_major": 2,
       "version_minor": 0
      },
      "text/plain": [
       "Video QR_Московская обл._БИТЦА_[7й корпус]_7_17_3_RaJe0a_22-06-24_decor:   0%|          | 0/57 [00:00<?, ?it/s…"
      ]
     },
     "metadata": {},
     "output_type": "display_data"
    },
    {
     "data": {
      "application/vnd.jupyter.widget-view+json": {
       "model_id": "a8bb44e33e344974b0c1131fc9eaff63",
       "version_major": 2,
       "version_minor": 0
      },
      "text/plain": [
       "Video QR_Московская обл._БИТЦА_[7й корпус]_2_1_3_Odnv0Z_10-06-24_decor:   0%|          | 0/30 [00:00<?, ?it/s]"
      ]
     },
     "metadata": {},
     "output_type": "display_data"
    },
    {
     "data": {
      "application/vnd.jupyter.widget-view+json": {
       "model_id": "080341c8180c4c78b3f6ff9f4c27d924",
       "version_major": 2,
       "version_minor": 0
      },
      "text/plain": [
       "Video QR_Московская обл._БИТЦА_[7й корпус]_2_8_3_tHUy9U_10-06-24_decor:   0%|          | 0/61 [00:00<?, ?it/s]"
      ]
     },
     "metadata": {},
     "output_type": "display_data"
    },
    {
     "data": {
      "application/vnd.jupyter.widget-view+json": {
       "model_id": "c11343c367224153853a18b094783049",
       "version_major": 2,
       "version_minor": 0
      },
      "text/plain": [
       "Video Hand_Московская обл._БИТЦА_[7й корпус]_4_8_3_zCUKzG_24-06-24_decor:   0%|          | 0/48 [00:00<?, ?it/…"
      ]
     },
     "metadata": {},
     "output_type": "display_data"
    },
    {
     "data": {
      "application/vnd.jupyter.widget-view+json": {
       "model_id": "093f3a3e09bd42e2ac8bcefa4c96f653",
       "version_major": 2,
       "version_minor": 0
      },
      "text/plain": [
       "Video QR_Московская обл._БИТЦА_[7й корпус]_8_3_3_2cW7Xq_22-06-24_decor:   0%|          | 0/52 [00:00<?, ?it/s]"
      ]
     },
     "metadata": {},
     "output_type": "display_data"
    },
    {
     "data": {
      "application/vnd.jupyter.widget-view+json": {
       "model_id": "9146a4c4f5804ff09aea861baa17db7d",
       "version_major": 2,
       "version_minor": 0
      },
      "text/plain": [
       "Video Hand_Московская обл._БИТЦА_[7й корпус]_2_6_3_39Adg8_24-06-24_decor:   0%|          | 0/57 [00:00<?, ?it/…"
      ]
     },
     "metadata": {},
     "output_type": "display_data"
    },
    {
     "data": {
      "application/vnd.jupyter.widget-view+json": {
       "model_id": "d7aa17d7709d488eadc37e5ba6b734a6",
       "version_major": 2,
       "version_minor": 0
      },
      "text/plain": [
       "Video Hand_Московская обл._БИТЦА_[7й корпус]_4_19_3_eXFT97_14-06-24_decor:   0%|          | 0/48 [00:00<?, ?it…"
      ]
     },
     "metadata": {},
     "output_type": "display_data"
    },
    {
     "data": {
      "application/vnd.jupyter.widget-view+json": {
       "model_id": "f77fc046053b460ca25ad1aecda97094",
       "version_major": 2,
       "version_minor": 0
      },
      "text/plain": [
       "Video QR_Московская обл._БИТЦА_[7й корпус]_6_11_3_s1hXHN_14-06-24_decor:   0%|          | 0/37 [00:00<?, ?it/s…"
      ]
     },
     "metadata": {},
     "output_type": "display_data"
    },
    {
     "data": {
      "application/vnd.jupyter.widget-view+json": {
       "model_id": "26c28f646db44541a77c460da8fcd14f",
       "version_major": 2,
       "version_minor": 0
      },
      "text/plain": [
       "Video QR_Московская обл._БИТЦА_[7й корпус]_2_22_3_cu9zZB_10-06-24_decor:   0%|          | 0/66 [00:00<?, ?it/s…"
      ]
     },
     "metadata": {},
     "output_type": "display_data"
    },
    {
     "data": {
      "application/vnd.jupyter.widget-view+json": {
       "model_id": "c0d6dd34b7e34be39ea66829c0a5b8dc",
       "version_major": 2,
       "version_minor": 0
      },
      "text/plain": [
       "Video Hand_Московская обл._БИТЦА_[7й корпус]_7_22_3_1Oeuva_15-06-24_decor:   0%|          | 0/64 [00:00<?, ?it…"
      ]
     },
     "metadata": {},
     "output_type": "display_data"
    },
    {
     "data": {
      "application/vnd.jupyter.widget-view+json": {
       "model_id": "30cbfdf1228c43699f7729ff03ca9165",
       "version_major": 2,
       "version_minor": 0
      },
      "text/plain": [
       "Video QR_Московская обл._БИТЦА_[7й корпус]_6_16_3_F9tNPF_14-06-24_decor:   0%|          | 0/16 [00:00<?, ?it/s…"
      ]
     },
     "metadata": {},
     "output_type": "display_data"
    },
    {
     "data": {
      "application/vnd.jupyter.widget-view+json": {
       "model_id": "2dbe2b0b71044c03829ba4a1e3adb375",
       "version_major": 2,
       "version_minor": 0
      },
      "text/plain": [
       "Video Hand_Московская обл._БИТЦА_[7й корпус]_2_24_3_9Y9yvh_24-06-24_decor:   0%|          | 0/47 [00:00<?, ?it…"
      ]
     },
     "metadata": {},
     "output_type": "display_data"
    },
    {
     "data": {
      "application/vnd.jupyter.widget-view+json": {
       "model_id": "e1d3233635a74d159db4a825771f59d9",
       "version_major": 2,
       "version_minor": 0
      },
      "text/plain": [
       "Video QR_Московская обл._БИТЦА_[7й корпус]_8_14_3_4g6VWg_22-06-24_decor:   0%|          | 0/52 [00:00<?, ?it/s…"
      ]
     },
     "metadata": {},
     "output_type": "display_data"
    },
    {
     "data": {
      "application/vnd.jupyter.widget-view+json": {
       "model_id": "56ec03afe9e440d6973b705e8ca23b0f",
       "version_major": 2,
       "version_minor": 0
      },
      "text/plain": [
       "Video Hand_Московская обл._БИТЦА_[7й корпус]_1_18_3_KpUkFA_10-06-24_decor:   0%|          | 0/66 [00:00<?, ?it…"
      ]
     },
     "metadata": {},
     "output_type": "display_data"
    },
    {
     "data": {
      "application/vnd.jupyter.widget-view+json": {
       "model_id": "4fbe877bfce64216a0f2f8acd8d63e3e",
       "version_major": 2,
       "version_minor": 0
      },
      "text/plain": [
       "Video QR_Московская обл._БИТЦА_[7й корпус]_2_23_3_cWar2v_19-06-24_decor:   0%|          | 0/58 [00:00<?, ?it/s…"
      ]
     },
     "metadata": {},
     "output_type": "display_data"
    },
    {
     "data": {
      "application/vnd.jupyter.widget-view+json": {
       "model_id": "047581d12424475eaa3b2d3cbfbdda04",
       "version_major": 2,
       "version_minor": 0
      },
      "text/plain": [
       "Video QR_Московская обл._БИТЦА_[7й корпус]_1_21_3_CLV3xN_24-06-24_decor:   0%|          | 0/33 [00:00<?, ?it/s…"
      ]
     },
     "metadata": {},
     "output_type": "display_data"
    },
    {
     "data": {
      "application/vnd.jupyter.widget-view+json": {
       "model_id": "859ed6ca089a4a72a8c5e9e31a084995",
       "version_major": 2,
       "version_minor": 0
      },
      "text/plain": [
       "Video QR_Московская обл._БИТЦА_[7й корпус]_7_6_3_frn0Tr_22-06-24_decor:   0%|          | 0/58 [00:00<?, ?it/s]"
      ]
     },
     "metadata": {},
     "output_type": "display_data"
    },
    {
     "data": {
      "application/vnd.jupyter.widget-view+json": {
       "model_id": "6cc1ad1247a943cd9212aee9b4d397d5",
       "version_major": 2,
       "version_minor": 0
      },
      "text/plain": [
       "Video QR_Московская обл._БИТЦА_[7й корпус]_3_14_3_LeaBuN_24-06-24_decor:   0%|          | 0/55 [00:00<?, ?it/s…"
      ]
     },
     "metadata": {},
     "output_type": "display_data"
    },
    {
     "data": {
      "application/vnd.jupyter.widget-view+json": {
       "model_id": "67219085ddc4497ea41003fe00ec926b",
       "version_major": 2,
       "version_minor": 0
      },
      "text/plain": [
       "Video QR_Московская обл._БИТЦА_[7й корпус]_3_11_3_WtCMS6_24-06-24_decor:   0%|          | 0/56 [00:00<?, ?it/s…"
      ]
     },
     "metadata": {},
     "output_type": "display_data"
    },
    {
     "data": {
      "application/vnd.jupyter.widget-view+json": {
       "model_id": "3461e803e8b54b6b8c3e450b8b4ff4e9",
       "version_major": 2,
       "version_minor": 0
      },
      "text/plain": [
       "Video QR_Московская обл._БИТЦА_[7й корпус]_8_10_3_bMj5t0_02-05-24_decor:   0%|          | 0/64 [00:00<?, ?it/s…"
      ]
     },
     "metadata": {},
     "output_type": "display_data"
    },
    {
     "data": {
      "application/vnd.jupyter.widget-view+json": {
       "model_id": "0b674db30a2348ac86bed2b8951521f0",
       "version_major": 2,
       "version_minor": 0
      },
      "text/plain": [
       "Video QR_Московская обл._БИТЦА_[7й корпус]_2_18_3_JX50wy_10-06-24_decor:   0%|          | 0/64 [00:00<?, ?it/s…"
      ]
     },
     "metadata": {},
     "output_type": "display_data"
    },
    {
     "data": {
      "application/vnd.jupyter.widget-view+json": {
       "model_id": "ea27ed64ff45423eba99ea236298c848",
       "version_major": 2,
       "version_minor": 0
      },
      "text/plain": [
       "Video QR_Московская обл._БИТЦА_[7й корпус]_2_20_3_iz5JdM_24-06-24_decor:   0%|          | 0/54 [00:00<?, ?it/s…"
      ]
     },
     "metadata": {},
     "output_type": "display_data"
    },
    {
     "data": {
      "application/vnd.jupyter.widget-view+json": {
       "model_id": "d01543875e2443cfad388fca0686655c",
       "version_major": 2,
       "version_minor": 0
      },
      "text/plain": [
       "Video Hand_Московская обл._БИТЦА_[7й корпус]_3_24_3_k0bCS9_19-06-24_decor:   0%|          | 0/73 [00:00<?, ?it…"
      ]
     },
     "metadata": {},
     "output_type": "display_data"
    },
    {
     "data": {
      "application/vnd.jupyter.widget-view+json": {
       "model_id": "7388202c4ede4817b9ed010a8c91bf1f",
       "version_major": 2,
       "version_minor": 0
      },
      "text/plain": [
       "Video QR_Московская обл._БИТЦА_[7й корпус]_6_10_3_AHTrRt_14-06-24_decor:   0%|          | 0/43 [00:00<?, ?it/s…"
      ]
     },
     "metadata": {},
     "output_type": "display_data"
    },
    {
     "data": {
      "application/vnd.jupyter.widget-view+json": {
       "model_id": "e507eecac489459dbb2fd18276345953",
       "version_major": 2,
       "version_minor": 0
      },
      "text/plain": [
       "Video QR_Московская обл._БИТЦА_[7й корпус]_6_4_3_8aKcU8_21-06-24_decor:   0%|          | 0/36 [00:00<?, ?it/s]"
      ]
     },
     "metadata": {},
     "output_type": "display_data"
    },
    {
     "data": {
      "application/vnd.jupyter.widget-view+json": {
       "model_id": "399278a230c644c8a8814d30d8bd88e8",
       "version_major": 2,
       "version_minor": 0
      },
      "text/plain": [
       "Video QR_Московская обл._БИТЦА_[7й корпус]_7_3_3_DDcKtK_22-06-24_decor:   0%|          | 0/49 [00:00<?, ?it/s]"
      ]
     },
     "metadata": {},
     "output_type": "display_data"
    },
    {
     "data": {
      "application/vnd.jupyter.widget-view+json": {
       "model_id": "1f96cd52fc72430ea490d37efeef6695",
       "version_major": 2,
       "version_minor": 0
      },
      "text/plain": [
       "Video QR_Московская обл._БИТЦА_[7й корпус]_4_7_3_YSGRh3_14-06-24_decor:   0%|          | 0/54 [00:00<?, ?it/s]"
      ]
     },
     "metadata": {},
     "output_type": "display_data"
    },
    {
     "data": {
      "application/vnd.jupyter.widget-view+json": {
       "model_id": "315c5f16b4c34b72a1223ea2c76eb556",
       "version_major": 2,
       "version_minor": 0
      },
      "text/plain": [
       "Video QR_Московская обл._БИТЦА_[7й корпус]_7_6_3_d8kwZx_15-06-24_decor:   0%|          | 0/57 [00:00<?, ?it/s]"
      ]
     },
     "metadata": {},
     "output_type": "display_data"
    },
    {
     "data": {
      "application/vnd.jupyter.widget-view+json": {
       "model_id": "aab645e8ab17466c98402011c60fc29e",
       "version_major": 2,
       "version_minor": 0
      },
      "text/plain": [
       "Video QR_Московская обл._БИТЦА_[7й корпус]_2_22_3_dwbK2C_24-06-24_decor:   0%|          | 0/55 [00:00<?, ?it/s…"
      ]
     },
     "metadata": {},
     "output_type": "display_data"
    },
    {
     "data": {
      "application/vnd.jupyter.widget-view+json": {
       "model_id": "d8c027a2887c47659618fe976455321d",
       "version_major": 2,
       "version_minor": 0
      },
      "text/plain": [
       "Video QR_Московская обл._БИТЦА_[7й корпус]_2_20_3_3onTWe_19-06-24_decor:   0%|          | 0/52 [00:00<?, ?it/s…"
      ]
     },
     "metadata": {},
     "output_type": "display_data"
    },
    {
     "data": {
      "application/vnd.jupyter.widget-view+json": {
       "model_id": "43d6c07309654f5e986313ce06c4fb1b",
       "version_major": 2,
       "version_minor": 0
      },
      "text/plain": [
       "Video QR_Московская обл._БИТЦА_[7й корпус]_2_5_3_saKF1s_10-06-24_decor:   0%|          | 0/58 [00:00<?, ?it/s]"
      ]
     },
     "metadata": {},
     "output_type": "display_data"
    },
    {
     "data": {
      "application/vnd.jupyter.widget-view+json": {
       "model_id": "5ce5d1d8bbe943dda39cc2ccf6e2585c",
       "version_major": 2,
       "version_minor": 0
      },
      "text/plain": [
       "Video QR_Московская обл._БИТЦА_[7й корпус]_4_18_3_GbSXdK_21-06-24_decor:   0%|          | 0/52 [00:00<?, ?it/s…"
      ]
     },
     "metadata": {},
     "output_type": "display_data"
    },
    {
     "data": {
      "application/vnd.jupyter.widget-view+json": {
       "model_id": "2271d69da2e34f3fa47d361afc28181c",
       "version_major": 2,
       "version_minor": 0
      },
      "text/plain": [
       "Video QR_Московская обл._БИТЦА_[7й корпус]_2_12_3_s7EnnO_19-06-24_decor:   0%|          | 0/61 [00:00<?, ?it/s…"
      ]
     },
     "metadata": {},
     "output_type": "display_data"
    },
    {
     "data": {
      "application/vnd.jupyter.widget-view+json": {
       "model_id": "1803fe8244134f098a4ff580ce8becbf",
       "version_major": 2,
       "version_minor": 0
      },
      "text/plain": [
       "Video QR_Московская обл._БИТЦА_[7й корпус]_5_12_3_ilyf9L_21-06-24_decor:   0%|          | 0/45 [00:00<?, ?it/s…"
      ]
     },
     "metadata": {},
     "output_type": "display_data"
    },
    {
     "data": {
      "application/vnd.jupyter.widget-view+json": {
       "model_id": "a2d8e72b0842498c9ea5e653535f869c",
       "version_major": 2,
       "version_minor": 0
      },
      "text/plain": [
       "Video QR_Московская обл._БИТЦА_[7й корпус]_5_5_3_KPAfYw_02-05-24:   0%|          | 0/67 [00:00<?, ?it/s]"
      ]
     },
     "metadata": {},
     "output_type": "display_data"
    },
    {
     "data": {
      "application/vnd.jupyter.widget-view+json": {
       "model_id": "fbb7dbfb1c924210a9d09feb7553ed11",
       "version_major": 2,
       "version_minor": 0
      },
      "text/plain": [
       "Video QR_Московская обл._БИТЦА_[7й корпус]_8_17_3_TYyxIH_15-06-24_decor:   0%|          | 0/53 [00:00<?, ?it/s…"
      ]
     },
     "metadata": {},
     "output_type": "display_data"
    },
    {
     "data": {
      "application/vnd.jupyter.widget-view+json": {
       "model_id": "5a88b61c69544ce7a1ce3ce303b764e0",
       "version_major": 2,
       "version_minor": 0
      },
      "text/plain": [
       "Video QR_Московская обл._БИТЦА_[7й корпус]_3_11_3_cJmKQk_14-06-24_decor:   0%|          | 0/62 [00:00<?, ?it/s…"
      ]
     },
     "metadata": {},
     "output_type": "display_data"
    },
    {
     "data": {
      "application/vnd.jupyter.widget-view+json": {
       "model_id": "05036cd777624f82a17512f73ed67a4f",
       "version_major": 2,
       "version_minor": 0
      },
      "text/plain": [
       "Video QR_Московская обл._БИТЦА_[7й корпус]_5_13_3_bUakcn_14-06-24_decor:   0%|          | 0/48 [00:00<?, ?it/s…"
      ]
     },
     "metadata": {},
     "output_type": "display_data"
    },
    {
     "data": {
      "application/vnd.jupyter.widget-view+json": {
       "model_id": "9434bde82c8b460d937e2aa23589c2bd",
       "version_major": 2,
       "version_minor": 0
      },
      "text/plain": [
       "Video QR_Московская обл._БИТЦА_[7й корпус]_1_17_3_JxqKv1_10-06-24_decor:   0%|          | 0/53 [00:00<?, ?it/s…"
      ]
     },
     "metadata": {},
     "output_type": "display_data"
    },
    {
     "data": {
      "application/vnd.jupyter.widget-view+json": {
       "model_id": "7c8a46cf0a334d5383148b6449f08f4e",
       "version_major": 2,
       "version_minor": 0
      },
      "text/plain": [
       "Video QR_Московская обл._БИТЦА_[7й корпус]_6_8_3_VlXpr7_21-06-24_decor:   0%|          | 0/51 [00:00<?, ?it/s]"
      ]
     },
     "metadata": {},
     "output_type": "display_data"
    },
    {
     "data": {
      "application/vnd.jupyter.widget-view+json": {
       "model_id": "835f1bb5ded1466e9a31566aca13f561",
       "version_major": 2,
       "version_minor": 0
      },
      "text/plain": [
       "Video QR_Московская обл._БИТЦА_[7й корпус]_2_21_3_nTXfY9_10-06-24_decor:   0%|          | 0/61 [00:00<?, ?it/s…"
      ]
     },
     "metadata": {},
     "output_type": "display_data"
    },
    {
     "data": {
      "application/vnd.jupyter.widget-view+json": {
       "model_id": "bf138bc9c43d49eca888ed5d60f4ce08",
       "version_major": 2,
       "version_minor": 0
      },
      "text/plain": [
       "Video Hand_Московская обл._БИТЦА_[7й корпус]_4_5_3_A4Tkxb_14-06-24_decor:   0%|          | 0/43 [00:00<?, ?it/…"
      ]
     },
     "metadata": {},
     "output_type": "display_data"
    },
    {
     "data": {
      "application/vnd.jupyter.widget-view+json": {
       "model_id": "0a18703235344d4b9ac65f0a68c5648d",
       "version_major": 2,
       "version_minor": 0
      },
      "text/plain": [
       "Video QR_Московская обл._БИТЦА_[7й корпус]_1_13_3_m79T1G_24-06-24_decor:   0%|          | 0/54 [00:00<?, ?it/s…"
      ]
     },
     "metadata": {},
     "output_type": "display_data"
    },
    {
     "data": {
      "application/vnd.jupyter.widget-view+json": {
       "model_id": "7ec3de20a9da4b5eb3ad0350a9f38325",
       "version_major": 2,
       "version_minor": 0
      },
      "text/plain": [
       "Video QR_Московская обл._БИТЦА_[7й корпус]_7_19_3_2bRueX_15-06-24_decor:   0%|          | 0/58 [00:00<?, ?it/s…"
      ]
     },
     "metadata": {},
     "output_type": "display_data"
    },
    {
     "data": {
      "application/vnd.jupyter.widget-view+json": {
       "model_id": "490d657d2f3f40bdbf710284ed1302d2",
       "version_major": 2,
       "version_minor": 0
      },
      "text/plain": [
       "Video QR_Московская обл._БИТЦА_[7й корпус]_5_7_3_PFe0xP_14-06-24_decor:   0%|          | 0/33 [00:00<?, ?it/s]"
      ]
     },
     "metadata": {},
     "output_type": "display_data"
    },
    {
     "data": {
      "application/vnd.jupyter.widget-view+json": {
       "model_id": "d67513485fd04b1fa65f60d8e81610ae",
       "version_major": 2,
       "version_minor": 0
      },
      "text/plain": [
       "Video QR_Московская обл._БИТЦА_[7й корпус]_6_19_3_DlNbYJ_21-06-24_decor:   0%|          | 0/49 [00:00<?, ?it/s…"
      ]
     },
     "metadata": {},
     "output_type": "display_data"
    },
    {
     "data": {
      "application/vnd.jupyter.widget-view+json": {
       "model_id": "a825cb29c13041088bcf86d750a1e898",
       "version_major": 2,
       "version_minor": 0
      },
      "text/plain": [
       "Video QR_Московская обл._БИТЦА_[7й корпус]_7_22_3_m4vR1Y_15-06-24_decor:   0%|          | 0/63 [00:00<?, ?it/s…"
      ]
     },
     "metadata": {},
     "output_type": "display_data"
    },
    {
     "data": {
      "application/vnd.jupyter.widget-view+json": {
       "model_id": "e5f659ab368942bfb9b247473b11a4fd",
       "version_major": 2,
       "version_minor": 0
      },
      "text/plain": [
       "Video QR_Московская обл._БИТЦА_[7й корпус]_7_5_3_hxGYFx_15-06-24_decor:   0%|          | 0/63 [00:00<?, ?it/s]"
      ]
     },
     "metadata": {},
     "output_type": "display_data"
    },
    {
     "data": {
      "application/vnd.jupyter.widget-view+json": {
       "model_id": "4b499220a75a4f338e35df205a4cae86",
       "version_major": 2,
       "version_minor": 0
      },
      "text/plain": [
       "Video QR_Московская обл._БИТЦА_[7й корпус]_1_16_3_lfbhrr_10-06-24_decor:   0%|          | 0/71 [00:00<?, ?it/s…"
      ]
     },
     "metadata": {},
     "output_type": "display_data"
    },
    {
     "data": {
      "application/vnd.jupyter.widget-view+json": {
       "model_id": "9aac3792c8eb4c7981e2b5b39fe1c388",
       "version_major": 2,
       "version_minor": 0
      },
      "text/plain": [
       "Video QR_Московская обл._БИТЦА_[7й корпус]_3_1_3_1Y7hqt_10-06-24_decor:   0%|          | 0/24 [00:00<?, ?it/s]"
      ]
     },
     "metadata": {},
     "output_type": "display_data"
    },
    {
     "data": {
      "application/vnd.jupyter.widget-view+json": {
       "model_id": "7523bc72b65e42dc94afce662d3a50e0",
       "version_major": 2,
       "version_minor": 0
      },
      "text/plain": [
       "Video QR_Московская обл._БИТЦА_[7й корпус]_3_1_3_uyxYnD_24-06-24_decor:   0%|          | 0/22 [00:00<?, ?it/s]"
      ]
     },
     "metadata": {},
     "output_type": "display_data"
    },
    {
     "data": {
      "application/vnd.jupyter.widget-view+json": {
       "model_id": "8b619ffee05f4e23898f32ab89d7ef61",
       "version_major": 2,
       "version_minor": 0
      },
      "text/plain": [
       "Video QR_Московская обл._БИТЦА_[7й корпус]_6_7_3_GZKpnj_14-06-24_decor:   0%|          | 0/47 [00:00<?, ?it/s]"
      ]
     },
     "metadata": {},
     "output_type": "display_data"
    },
    {
     "data": {
      "application/vnd.jupyter.widget-view+json": {
       "model_id": "e14f589f86964b7280531ffcb7636a0d",
       "version_major": 2,
       "version_minor": 0
      },
      "text/plain": [
       "Video Hand_Московская обл._БИТЦА_[7й корпус]_4_11_3_Q0s0G2_24-06-24_decor:   0%|          | 0/47 [00:00<?, ?it…"
      ]
     },
     "metadata": {},
     "output_type": "display_data"
    },
    {
     "data": {
      "application/vnd.jupyter.widget-view+json": {
       "model_id": "5d401a4af1484ca2b9efadbe6a5e94fe",
       "version_major": 2,
       "version_minor": 0
      },
      "text/plain": [
       "Video QR_Московская обл._БИТЦА_[7й корпус]_2_2_3_uEbO4R_10-06-24_decor:   0%|          | 0/71 [00:00<?, ?it/s]"
      ]
     },
     "metadata": {},
     "output_type": "display_data"
    },
    {
     "data": {
      "application/vnd.jupyter.widget-view+json": {
       "model_id": "6e84e39167674f3d9a7d8b4eb0d26126",
       "version_major": 2,
       "version_minor": 0
      },
      "text/plain": [
       "Video QR_Московская обл._БИТЦА_[7й корпус]_8_3_3_LGAi0k_15-06-24_decor:   0%|          | 0/60 [00:00<?, ?it/s]"
      ]
     },
     "metadata": {},
     "output_type": "display_data"
    },
    {
     "data": {
      "application/vnd.jupyter.widget-view+json": {
       "model_id": "f54d0d1dddf148c6bdd1d08f3162698a",
       "version_major": 2,
       "version_minor": 0
      },
      "text/plain": [
       "Video QR_Московская обл._БИТЦА_[7й корпус]_1_12_3_CrQrXQ_19-06-24_decor:   0%|          | 0/67 [00:00<?, ?it/s…"
      ]
     },
     "metadata": {},
     "output_type": "display_data"
    },
    {
     "data": {
      "application/vnd.jupyter.widget-view+json": {
       "model_id": "6d7f82fbe5f64c79b21a7181c2265cc9",
       "version_major": 2,
       "version_minor": 0
      },
      "text/plain": [
       "Video QR_Московская обл._БИТЦА_[7й корпус]_3_2_3_QKLGo3_10-06-24_decor:   0%|          | 0/51 [00:00<?, ?it/s]"
      ]
     },
     "metadata": {},
     "output_type": "display_data"
    },
    {
     "data": {
      "application/vnd.jupyter.widget-view+json": {
       "model_id": "7c6aa85acdb642bf88d4d8c835ce64b0",
       "version_major": 2,
       "version_minor": 0
      },
      "text/plain": [
       "Video QR_Московская обл._БИТЦА_[7й корпус]_1_5_3_vkYici_02-05-24:   0%|          | 0/59 [00:00<?, ?it/s]"
      ]
     },
     "metadata": {},
     "output_type": "display_data"
    },
    {
     "data": {
      "application/vnd.jupyter.widget-view+json": {
       "model_id": "5f427dc13d124864847407628cb5278f",
       "version_major": 2,
       "version_minor": 0
      },
      "text/plain": [
       "Video Hand_Московская обл._БИТЦА_[7й корпус]_1_19_3_BEoY95_24-06-24_decor:   0%|          | 0/30 [00:00<?, ?it…"
      ]
     },
     "metadata": {},
     "output_type": "display_data"
    },
    {
     "data": {
      "application/vnd.jupyter.widget-view+json": {
       "model_id": "c275a57c8cc94a82bf42012133b03fd1",
       "version_major": 2,
       "version_minor": 0
      },
      "text/plain": [
       "Video QR_Московская обл._БИТЦА_[7й корпус]_2_4_3_ZY21LA_10-06-24_decor:   0%|          | 0/60 [00:00<?, ?it/s]"
      ]
     },
     "metadata": {},
     "output_type": "display_data"
    },
    {
     "data": {
      "application/vnd.jupyter.widget-view+json": {
       "model_id": "5ca4754d17f34b6fa7cdb5c2a7b324bd",
       "version_major": 2,
       "version_minor": 0
      },
      "text/plain": [
       "Video Hand_Московская обл._БИТЦА_[7й корпус]_5_1_3_REcetW_21-06-24_decor:   0%|          | 0/17 [00:00<?, ?it/…"
      ]
     },
     "metadata": {},
     "output_type": "display_data"
    },
    {
     "data": {
      "application/vnd.jupyter.widget-view+json": {
       "model_id": "c79814b9d1fb4f61b7777da2f77ce9d6",
       "version_major": 2,
       "version_minor": 0
      },
      "text/plain": [
       "Video Hand_Московская обл._БИТЦА_[7й корпус]_8_22_3_zaPyNn_15-06-24_decor:   0%|          | 0/55 [00:00<?, ?it…"
      ]
     },
     "metadata": {},
     "output_type": "display_data"
    },
    {
     "data": {
      "application/vnd.jupyter.widget-view+json": {
       "model_id": "226a9dbc673e40b59e3a8fe764c4ba5f",
       "version_major": 2,
       "version_minor": 0
      },
      "text/plain": [
       "Video QR_Московская обл._БИТЦА_[7й корпус]_3_19_3_r4sII3_24-06-24_decor:   0%|          | 0/40 [00:00<?, ?it/s…"
      ]
     },
     "metadata": {},
     "output_type": "display_data"
    },
    {
     "data": {
      "application/vnd.jupyter.widget-view+json": {
       "model_id": "3b6d215385bd44f6bd3d5b79f7e6c874",
       "version_major": 2,
       "version_minor": 0
      },
      "text/plain": [
       "Video QR_Московская обл._БИТЦА_[7й корпус]_4_7_3_186qeU_24-06-24_decor:   0%|          | 0/48 [00:00<?, ?it/s]"
      ]
     },
     "metadata": {},
     "output_type": "display_data"
    },
    {
     "data": {
      "application/vnd.jupyter.widget-view+json": {
       "model_id": "11824e98cc1b4788955b4be7dd200745",
       "version_major": 2,
       "version_minor": 0
      },
      "text/plain": [
       "Video QR_Московская обл._БИТЦА_[7й корпус]_6_18_3_vczW3Q_21-06-24_decor:   0%|          | 0/50 [00:00<?, ?it/s…"
      ]
     },
     "metadata": {},
     "output_type": "display_data"
    },
    {
     "data": {
      "application/vnd.jupyter.widget-view+json": {
       "model_id": "c92e406525bf49329a21fe2c9c9eeae2",
       "version_major": 2,
       "version_minor": 0
      },
      "text/plain": [
       "Video QR_Московская обл._БИТЦА_[7й корпус]_4_17_3_VSSKSL_24-06-24_decor:   0%|          | 0/45 [00:00<?, ?it/s…"
      ]
     },
     "metadata": {},
     "output_type": "display_data"
    },
    {
     "data": {
      "application/vnd.jupyter.widget-view+json": {
       "model_id": "cbad92d5e45443639c7c36e17e5f8a49",
       "version_major": 2,
       "version_minor": 0
      },
      "text/plain": [
       "Video QR_Московская обл._БИТЦА_[7й корпус]_5_20_3_Owwmc0_14-06-24_decor:   0%|          | 0/46 [00:00<?, ?it/s…"
      ]
     },
     "metadata": {},
     "output_type": "display_data"
    },
    {
     "data": {
      "application/vnd.jupyter.widget-view+json": {
       "model_id": "3b034ac43fa7439682b0bcd2cc4185eb",
       "version_major": 2,
       "version_minor": 0
      },
      "text/plain": [
       "Video QR_Московская обл._БИТЦА_[7й корпус]_3_8_3_hmdbSk_10-06-24_decor:   0%|          | 0/59 [00:00<?, ?it/s]"
      ]
     },
     "metadata": {},
     "output_type": "display_data"
    },
    {
     "data": {
      "application/vnd.jupyter.widget-view+json": {
       "model_id": "bac0d5f532b049a888be5b19b9c50b88",
       "version_major": 2,
       "version_minor": 0
      },
      "text/plain": [
       "Video QR_Московская обл._БИТЦА_[7й корпус]_6_21_3_aIxVgn_21-06-24_decor:   0%|          | 0/44 [00:00<?, ?it/s…"
      ]
     },
     "metadata": {},
     "output_type": "display_data"
    },
    {
     "data": {
      "application/vnd.jupyter.widget-view+json": {
       "model_id": "1b44e5a3bf374984bda157cfaf5cb8e2",
       "version_major": 2,
       "version_minor": 0
      },
      "text/plain": [
       "Video QR_Московская обл._БИТЦА_[7й корпус]_8_2_3_dL4b2X_15-06-24_decor:   0%|          | 0/58 [00:00<?, ?it/s]"
      ]
     },
     "metadata": {},
     "output_type": "display_data"
    },
    {
     "data": {
      "application/vnd.jupyter.widget-view+json": {
       "model_id": "2d9d49f65ef14f9e9cc08df6d85b9771",
       "version_major": 2,
       "version_minor": 0
      },
      "text/plain": [
       "Video QR_Московская обл._БИТЦА_[7й корпус]_5_22_3_vnYyoa_21-06-24_decor:   0%|          | 0/47 [00:00<?, ?it/s…"
      ]
     },
     "metadata": {},
     "output_type": "display_data"
    },
    {
     "data": {
      "application/vnd.jupyter.widget-view+json": {
       "model_id": "200072e5221b488bb856982a2630da94",
       "version_major": 2,
       "version_minor": 0
      },
      "text/plain": [
       "Video QR_Московская обл._БИТЦА_[7й корпус]_2_11_3_NavREV_24-06-24_decor:   0%|          | 0/60 [00:00<?, ?it/s…"
      ]
     },
     "metadata": {},
     "output_type": "display_data"
    },
    {
     "data": {
      "application/vnd.jupyter.widget-view+json": {
       "model_id": "38e0f43a7eac4fc9900e36177eb01c7f",
       "version_major": 2,
       "version_minor": 0
      },
      "text/plain": [
       "Video QR_Московская обл._БИТЦА_[7й корпус]_6_17_3_8WRQW1_14-06-24_decor:   0%|          | 0/46 [00:00<?, ?it/s…"
      ]
     },
     "metadata": {},
     "output_type": "display_data"
    },
    {
     "data": {
      "application/vnd.jupyter.widget-view+json": {
       "model_id": "057808d5621d4d99841a1eee1ab1dc11",
       "version_major": 2,
       "version_minor": 0
      },
      "text/plain": [
       "Video QR_Московская обл._БИТЦА_[7й корпус]_1_12_3_lamNCo_24-06-24_decor:   0%|          | 0/61 [00:00<?, ?it/s…"
      ]
     },
     "metadata": {},
     "output_type": "display_data"
    },
    {
     "data": {
      "application/vnd.jupyter.widget-view+json": {
       "model_id": "beb496c04351447d8aad65656a6b7e6f",
       "version_major": 2,
       "version_minor": 0
      },
      "text/plain": [
       "Video QR_Московская обл._БИТЦА_[7й корпус]_2_12_3_SAtS7A_24-06-24_decor:   0%|          | 0/57 [00:00<?, ?it/s…"
      ]
     },
     "metadata": {},
     "output_type": "display_data"
    },
    {
     "data": {
      "application/vnd.jupyter.widget-view+json": {
       "model_id": "7654f25fd0ef4295af30693b173d2915",
       "version_major": 2,
       "version_minor": 0
      },
      "text/plain": [
       "Video QR_Московская обл._БИТЦА_[7й корпус]_8_16_3_Pf5Kfw_22-06-24_decor:   0%|          | 0/54 [00:00<?, ?it/s…"
      ]
     },
     "metadata": {},
     "output_type": "display_data"
    },
    {
     "data": {
      "application/vnd.jupyter.widget-view+json": {
       "model_id": "8104066c9e96401fa4c1c0608712be02",
       "version_major": 2,
       "version_minor": 0
      },
      "text/plain": [
       "Video QR_Московская обл._БИТЦА_[7й корпус]_3_6_3_fuA6D3_19-06-24_decor:   0%|          | 0/58 [00:00<?, ?it/s]"
      ]
     },
     "metadata": {},
     "output_type": "display_data"
    },
    {
     "data": {
      "application/vnd.jupyter.widget-view+json": {
       "model_id": "5473c0dfc9b94fd0b9833f22bf8c2cb9",
       "version_major": 2,
       "version_minor": 0
      },
      "text/plain": [
       "Video QR_Московская обл._БИТЦА_[7й корпус]_3_16_3_rTEUBE_19-06-24_decor:   0%|          | 0/44 [00:00<?, ?it/s…"
      ]
     },
     "metadata": {},
     "output_type": "display_data"
    },
    {
     "data": {
      "application/vnd.jupyter.widget-view+json": {
       "model_id": "742f0cf1f8c4462285240f30958c2349",
       "version_major": 2,
       "version_minor": 0
      },
      "text/plain": [
       "Video QR_Московская обл._БИТЦА_[7й корпус]_8_18_3_YA5TgV_15-06-24_decor:   0%|          | 0/56 [00:00<?, ?it/s…"
      ]
     },
     "metadata": {},
     "output_type": "display_data"
    },
    {
     "data": {
      "application/vnd.jupyter.widget-view+json": {
       "model_id": "aba13dd3172a40219649fb44acafe17b",
       "version_major": 2,
       "version_minor": 0
      },
      "text/plain": [
       "Video Hand_Московская обл._БИТЦА_[7й корпус]_5_3_3_qfQKGm_10-06-24_decor:   0%|          | 0/86 [00:00<?, ?it/…"
      ]
     },
     "metadata": {},
     "output_type": "display_data"
    },
    {
     "data": {
      "application/vnd.jupyter.widget-view+json": {
       "model_id": "82a2b9ab2b6b460ea16400893ee64e1a",
       "version_major": 2,
       "version_minor": 0
      },
      "text/plain": [
       "Video QR_Московская обл._БИТЦА_[7й корпус]_4_4_3_x3BmWH_24-06-24_decor:   0%|          | 0/35 [00:00<?, ?it/s]"
      ]
     },
     "metadata": {},
     "output_type": "display_data"
    },
    {
     "data": {
      "application/vnd.jupyter.widget-view+json": {
       "model_id": "b82fd75ded4a4a70a52543a073a493f9",
       "version_major": 2,
       "version_minor": 0
      },
      "text/plain": [
       "Video QR_Московская обл._БИТЦА_[7й корпус]_6_12_3_THOFu2_21-06-24_decor:   0%|          | 0/46 [00:00<?, ?it/s…"
      ]
     },
     "metadata": {},
     "output_type": "display_data"
    },
    {
     "data": {
      "application/vnd.jupyter.widget-view+json": {
       "model_id": "045fefd9b23b4e949d79c5868dedba28",
       "version_major": 2,
       "version_minor": 0
      },
      "text/plain": [
       "Video QR_Московская обл._БИТЦА_[7й корпус]_3_22_3_Gay8Ov_19-06-24_decor:   0%|          | 0/65 [00:00<?, ?it/s…"
      ]
     },
     "metadata": {},
     "output_type": "display_data"
    },
    {
     "data": {
      "application/vnd.jupyter.widget-view+json": {
       "model_id": "04d0fb5735964922a9e871d35358f1df",
       "version_major": 2,
       "version_minor": 0
      },
      "text/plain": [
       "Video QR_Московская обл._БИТЦА_[7й корпус]_2_17_3_evwboY_10-06-24_decor:   0%|          | 0/59 [00:00<?, ?it/s…"
      ]
     },
     "metadata": {},
     "output_type": "display_data"
    },
    {
     "data": {
      "application/vnd.jupyter.widget-view+json": {
       "model_id": "df049bdef55c452ebab66de4b28bd819",
       "version_major": 2,
       "version_minor": 0
      },
      "text/plain": [
       "Video QR_Московская обл._БИТЦА_[7й корпус]_8_12_3_C8haFQ_22-06-24_decor:   0%|          | 0/53 [00:00<?, ?it/s…"
      ]
     },
     "metadata": {},
     "output_type": "display_data"
    },
    {
     "data": {
      "application/vnd.jupyter.widget-view+json": {
       "model_id": "833ab61828ef4e7e93b62c1c0f7609e8",
       "version_major": 2,
       "version_minor": 0
      },
      "text/plain": [
       "Video QR_Московская обл._БИТЦА_[7й корпус]_4_22_3_q5Ufzc_24-06-24_decor:   0%|          | 0/51 [00:00<?, ?it/s…"
      ]
     },
     "metadata": {},
     "output_type": "display_data"
    },
    {
     "data": {
      "application/vnd.jupyter.widget-view+json": {
       "model_id": "06e37f45f65143da985916a861a2ce8d",
       "version_major": 2,
       "version_minor": 0
      },
      "text/plain": [
       "Video QR_Московская обл._БИТЦА_[7й корпус]_2_10_3_fFImXB_19-06-24_decor:   0%|          | 0/58 [00:00<?, ?it/s…"
      ]
     },
     "metadata": {},
     "output_type": "display_data"
    },
    {
     "data": {
      "application/vnd.jupyter.widget-view+json": {
       "model_id": "ba1633f7461f4148abaea2f54e05f4aa",
       "version_major": 2,
       "version_minor": 0
      },
      "text/plain": [
       "Video QR_Московская обл._БИТЦА_[7й корпус]_7_8_3_b9JDVc_15-06-24_decor:   0%|          | 0/58 [00:00<?, ?it/s]"
      ]
     },
     "metadata": {},
     "output_type": "display_data"
    },
    {
     "data": {
      "application/vnd.jupyter.widget-view+json": {
       "model_id": "6a9c656f05e44f0b88446dc999180709",
       "version_major": 2,
       "version_minor": 0
      },
      "text/plain": [
       "Video QR_Московская обл._БИТЦА_[7й корпус]_3_6_3_qUVaHN_24-06-24_decor:   0%|          | 0/62 [00:00<?, ?it/s]"
      ]
     },
     "metadata": {},
     "output_type": "display_data"
    },
    {
     "data": {
      "application/vnd.jupyter.widget-view+json": {
       "model_id": "e8d2e233e401434cbf7e2967673aa5ba",
       "version_major": 2,
       "version_minor": 0
      },
      "text/plain": [
       "Video QR_Московская обл._БИТЦА_[7й корпус]_2_2_3_RxMgo4_24-06-24_decor:   0%|          | 0/44 [00:00<?, ?it/s]"
      ]
     },
     "metadata": {},
     "output_type": "display_data"
    },
    {
     "data": {
      "application/vnd.jupyter.widget-view+json": {
       "model_id": "447f360814e24f72ad680b587211ea05",
       "version_major": 2,
       "version_minor": 0
      },
      "text/plain": [
       "Video QR_Московская обл._БИТЦА_[7й корпус]_8_23_3_kDfFNg_22-06-24_decor:   0%|          | 0/44 [00:00<?, ?it/s…"
      ]
     },
     "metadata": {},
     "output_type": "display_data"
    },
    {
     "data": {
      "application/vnd.jupyter.widget-view+json": {
       "model_id": "ddae22212efd45a38a7d317e09a96dfa",
       "version_major": 2,
       "version_minor": 0
      },
      "text/plain": [
       "Video QR_Московская обл._БИТЦА_[7й корпус]_1_3_3_Z97505_19-06-24_decor:   0%|          | 0/47 [00:00<?, ?it/s]"
      ]
     },
     "metadata": {},
     "output_type": "display_data"
    },
    {
     "data": {
      "application/vnd.jupyter.widget-view+json": {
       "model_id": "0ab5303f685b415483f05d6de07113e5",
       "version_major": 2,
       "version_minor": 0
      },
      "text/plain": [
       "Video QR_Московская обл._БИТЦА_[7й корпус]_6_16_3_KOJqjF_21-06-24_decor:   0%|          | 0/44 [00:00<?, ?it/s…"
      ]
     },
     "metadata": {},
     "output_type": "display_data"
    },
    {
     "data": {
      "application/vnd.jupyter.widget-view+json": {
       "model_id": "1c78ee431af44bfda3acf84173b41d80",
       "version_major": 2,
       "version_minor": 0
      },
      "text/plain": [
       "Video QR_Московская обл._БИТЦА_[7й корпус]_3_2_3_5KxyFh_19-06-24_decor:   0%|          | 0/56 [00:00<?, ?it/s]"
      ]
     },
     "metadata": {},
     "output_type": "display_data"
    },
    {
     "data": {
      "application/vnd.jupyter.widget-view+json": {
       "model_id": "56de3dc3492a44b78f09250ef115c114",
       "version_major": 2,
       "version_minor": 0
      },
      "text/plain": [
       "Video QR_Московская обл._БИТЦА_[7й корпус]_7_24_3_QabUnJ_22-06-24_decor:   0%|          | 0/65 [00:00<?, ?it/s…"
      ]
     },
     "metadata": {},
     "output_type": "display_data"
    },
    {
     "data": {
      "application/vnd.jupyter.widget-view+json": {
       "model_id": "516c3949ebbc4ad082a6be05c5e833e2",
       "version_major": 2,
       "version_minor": 0
      },
      "text/plain": [
       "Video QR_Московская обл._БИТЦА_[7й корпус]_8_9_3_1DYF23_22-06-24_decor:   0%|          | 0/50 [00:00<?, ?it/s]"
      ]
     },
     "metadata": {},
     "output_type": "display_data"
    },
    {
     "data": {
      "application/vnd.jupyter.widget-view+json": {
       "model_id": "0f92331781d34db28a2a660cbc2a9416",
       "version_major": 2,
       "version_minor": 0
      },
      "text/plain": [
       "Video Hand_Московская обл._БИТЦА_[7й корпус]_8_1_3_mYfStO_10-06-24_decor:   0%|          | 0/8 [00:00<?, ?it/s…"
      ]
     },
     "metadata": {},
     "output_type": "display_data"
    },
    {
     "data": {
      "application/vnd.jupyter.widget-view+json": {
       "model_id": "cc535a1535f34303a1f7df59b421bd36",
       "version_major": 2,
       "version_minor": 0
      },
      "text/plain": [
       "Video QR_Московская обл._БИТЦА_[7й корпус]_5_16_3_EeJn1c_21-06-24_decor:   0%|          | 0/47 [00:00<?, ?it/s…"
      ]
     },
     "metadata": {},
     "output_type": "display_data"
    },
    {
     "data": {
      "application/vnd.jupyter.widget-view+json": {
       "model_id": "e7b694de3da4495dba8a8f54a3d116cb",
       "version_major": 2,
       "version_minor": 0
      },
      "text/plain": [
       "Video QR_Московская обл._БИТЦА_[7й корпус]_7_8_3_voJauX_22-06-24_decor:   0%|          | 0/60 [00:00<?, ?it/s]"
      ]
     },
     "metadata": {},
     "output_type": "display_data"
    },
    {
     "data": {
      "application/vnd.jupyter.widget-view+json": {
       "model_id": "2c62349813684db4a076cb3b03a7933f",
       "version_major": 2,
       "version_minor": 0
      },
      "text/plain": [
       "Video QR_Московская обл._БИТЦА_[7й корпус]_6_3_3_fDVCtp_14-06-24_decor:   0%|          | 0/37 [00:00<?, ?it/s]"
      ]
     },
     "metadata": {},
     "output_type": "display_data"
    },
    {
     "data": {
      "application/vnd.jupyter.widget-view+json": {
       "model_id": "090a0700af2d457bbca5641fb4fe433f",
       "version_major": 2,
       "version_minor": 0
      },
      "text/plain": [
       "Video QR_Московская обл._БИТЦА_[7й корпус]_8_7_3_dWXupf_22-06-24_decor:   0%|          | 0/36 [00:00<?, ?it/s]"
      ]
     },
     "metadata": {},
     "output_type": "display_data"
    },
    {
     "data": {
      "application/vnd.jupyter.widget-view+json": {
       "model_id": "1305aeb8b4904c0eba30528321ad2f71",
       "version_major": 2,
       "version_minor": 0
      },
      "text/plain": [
       "Video QR_Московская обл._БИТЦА_[7й корпус]_3_23_3_Bx8fH3_14-06-24_decor:   0%|          | 0/68 [00:00<?, ?it/s…"
      ]
     },
     "metadata": {},
     "output_type": "display_data"
    },
    {
     "data": {
      "application/vnd.jupyter.widget-view+json": {
       "model_id": "7b2eaad67dcd4b0d9461fa8599d02215",
       "version_major": 2,
       "version_minor": 0
      },
      "text/plain": [
       "Video QR_Московская обл._БИТЦА_[7й корпус]_4_23_3_oowvuz_14-06-24_decor:   0%|          | 0/61 [00:00<?, ?it/s…"
      ]
     },
     "metadata": {},
     "output_type": "display_data"
    },
    {
     "data": {
      "application/vnd.jupyter.widget-view+json": {
       "model_id": "32b522a73a4944cea21f8330e2f3826d",
       "version_major": 2,
       "version_minor": 0
      },
      "text/plain": [
       "Video QR_Московская обл._БИТЦА_[7й корпус]_4_21_3_2jYTjF_21-06-24_decor:   0%|          | 0/53 [00:00<?, ?it/s…"
      ]
     },
     "metadata": {},
     "output_type": "display_data"
    },
    {
     "data": {
      "application/vnd.jupyter.widget-view+json": {
       "model_id": "43f9f470cdaa49c19418d6b0e63710a9",
       "version_major": 2,
       "version_minor": 0
      },
      "text/plain": [
       "Video QR_Московская обл._БИТЦА_[7й корпус]_1_6_3_KM0MJj_24-06-24_decor:   0%|          | 0/60 [00:00<?, ?it/s]"
      ]
     },
     "metadata": {},
     "output_type": "display_data"
    },
    {
     "data": {
      "application/vnd.jupyter.widget-view+json": {
       "model_id": "c921cb4cba84433689db2c477b867947",
       "version_major": 2,
       "version_minor": 0
      },
      "text/plain": [
       "Video QR_Московская обл._БИТЦА_[7й корпус]_5_22_3_zKCAIj_14-06-24_decor:   0%|          | 0/43 [00:00<?, ?it/s…"
      ]
     },
     "metadata": {},
     "output_type": "display_data"
    },
    {
     "data": {
      "application/vnd.jupyter.widget-view+json": {
       "model_id": "a36a20dcf08b41d1bfae3fcaae617d22",
       "version_major": 2,
       "version_minor": 0
      },
      "text/plain": [
       "Video QR_Московская обл._БИТЦА_[7й корпус]_3_18_3_KjBfw4_14-06-24_decor:   0%|          | 0/73 [00:00<?, ?it/s…"
      ]
     },
     "metadata": {},
     "output_type": "display_data"
    },
    {
     "data": {
      "application/vnd.jupyter.widget-view+json": {
       "model_id": "8e9a2b0f33e6479bb4293415b449c18a",
       "version_major": 2,
       "version_minor": 0
      },
      "text/plain": [
       "Video QR_Московская обл._БИТЦА_[7й корпус]_5_2_3_wBHH41_21-06-24_decor:   0%|          | 0/23 [00:00<?, ?it/s]"
      ]
     },
     "metadata": {},
     "output_type": "display_data"
    },
    {
     "data": {
      "application/vnd.jupyter.widget-view+json": {
       "model_id": "a7c04a6ae60f42609b24ff2c51c550ff",
       "version_major": 2,
       "version_minor": 0
      },
      "text/plain": [
       "Video QR_Московская обл._БИТЦА_[7й корпус]_2_13_3_mQJL7A_19-06-24_decor:   0%|          | 0/64 [00:00<?, ?it/s…"
      ]
     },
     "metadata": {},
     "output_type": "display_data"
    },
    {
     "data": {
      "application/vnd.jupyter.widget-view+json": {
       "model_id": "200c9194bb66434db6f472f34c5353c8",
       "version_major": 2,
       "version_minor": 0
      },
      "text/plain": [
       "Video QR_Московская обл._БИТЦА_[7й корпус]_2_13_3_cZT0V4_10-06-24_decor:   0%|          | 0/67 [00:00<?, ?it/s…"
      ]
     },
     "metadata": {},
     "output_type": "display_data"
    },
    {
     "data": {
      "application/vnd.jupyter.widget-view+json": {
       "model_id": "e7b7e067b85d40d9b5a43994e5dfd36c",
       "version_major": 2,
       "version_minor": 0
      },
      "text/plain": [
       "Video QR_Московская обл._БИТЦА_[7й корпус]_4_16_3_yp2SVi_21-06-24_decor:   0%|          | 0/52 [00:00<?, ?it/s…"
      ]
     },
     "metadata": {},
     "output_type": "display_data"
    },
    {
     "data": {
      "application/vnd.jupyter.widget-view+json": {
       "model_id": "03b14c36235f4a5e9f7666b7b27681d3",
       "version_major": 2,
       "version_minor": 0
      },
      "text/plain": [
       "Video QR_Московская обл._БИТЦА_[7й корпус]_3_12_3_ToqUJD_14-06-24_decor:   0%|          | 0/61 [00:00<?, ?it/s…"
      ]
     },
     "metadata": {},
     "output_type": "display_data"
    },
    {
     "data": {
      "application/vnd.jupyter.widget-view+json": {
       "model_id": "8657b3e7606d4144a6c95b1625661364",
       "version_major": 2,
       "version_minor": 0
      },
      "text/plain": [
       "Video QR_Московская обл._БИТЦА_[7й корпус]_4_16_3_EROW0R_24-06-24_decor:   0%|          | 0/45 [00:00<?, ?it/s…"
      ]
     },
     "metadata": {},
     "output_type": "display_data"
    },
    {
     "data": {
      "application/vnd.jupyter.widget-view+json": {
       "model_id": "a7beb6d4d1514796a86415bc212e6020",
       "version_major": 2,
       "version_minor": 0
      },
      "text/plain": [
       "Video QR_Московская обл._БИТЦА_[7й корпус]_3_5_3_vL2aSF_19-06-24_decor:   0%|          | 0/49 [00:00<?, ?it/s]"
      ]
     },
     "metadata": {},
     "output_type": "display_data"
    },
    {
     "data": {
      "application/vnd.jupyter.widget-view+json": {
       "model_id": "0d430eb3d8834fc0b584289068116af0",
       "version_major": 2,
       "version_minor": 0
      },
      "text/plain": [
       "Video QR_Московская обл._БИТЦА_[7й корпус]_2_8_3_piq00h_24-06-24_decor:   0%|          | 0/65 [00:00<?, ?it/s]"
      ]
     },
     "metadata": {},
     "output_type": "display_data"
    },
    {
     "data": {
      "application/vnd.jupyter.widget-view+json": {
       "model_id": "5d8b60d9b53045b1803e20b86000175f",
       "version_major": 2,
       "version_minor": 0
      },
      "text/plain": [
       "Video QR_Московская обл._БИТЦА_[7й корпус]_1_2_3_SjPwOG_10-06-24_decor:   0%|          | 0/43 [00:00<?, ?it/s]"
      ]
     },
     "metadata": {},
     "output_type": "display_data"
    },
    {
     "data": {
      "application/vnd.jupyter.widget-view+json": {
       "model_id": "b224c5a0cbab4862a649609d4b424948",
       "version_major": 2,
       "version_minor": 0
      },
      "text/plain": [
       "Video QR_Московская обл._БИТЦА_[7й корпус]_3_17_3_FcrSLI_19-06-24_decor:   0%|          | 0/63 [00:00<?, ?it/s…"
      ]
     },
     "metadata": {},
     "output_type": "display_data"
    },
    {
     "data": {
      "application/vnd.jupyter.widget-view+json": {
       "model_id": "b733ced1a94149f1a498d606223558b0",
       "version_major": 2,
       "version_minor": 0
      },
      "text/plain": [
       "Video QR_Московская обл._БИТЦА_[7й корпус]_2_18_3_GT7xIk_24-06-24_decor:   0%|          | 0/57 [00:00<?, ?it/s…"
      ]
     },
     "metadata": {},
     "output_type": "display_data"
    },
    {
     "data": {
      "application/vnd.jupyter.widget-view+json": {
       "model_id": "f46a8aeba3d34a97963edafaa81428dc",
       "version_major": 2,
       "version_minor": 0
      },
      "text/plain": [
       "Video Hand_Московская обл._БИТЦА_[7й корпус]_1_7_3_pIsixt_10-06-24_decor:   0%|          | 0/43 [00:00<?, ?it/…"
      ]
     },
     "metadata": {},
     "output_type": "display_data"
    },
    {
     "data": {
      "application/vnd.jupyter.widget-view+json": {
       "model_id": "da53a117b8464ea786f53403aca53524",
       "version_major": 2,
       "version_minor": 0
      },
      "text/plain": [
       "Video QR_Московская обл._БИТЦА_[7й корпус]_6_14_3_1aoOmi_21-06-24_decor:   0%|          | 0/48 [00:00<?, ?it/s…"
      ]
     },
     "metadata": {},
     "output_type": "display_data"
    },
    {
     "data": {
      "application/vnd.jupyter.widget-view+json": {
       "model_id": "f167a7b5678c45c38b83ed9eecc904dc",
       "version_major": 2,
       "version_minor": 0
      },
      "text/plain": [
       "Video QR_Московская обл._БИТЦА_[7й корпус]_3_10_3_1ZLaAP_19-06-24_decor:   0%|          | 0/50 [00:00<?, ?it/s…"
      ]
     },
     "metadata": {},
     "output_type": "display_data"
    },
    {
     "data": {
      "application/vnd.jupyter.widget-view+json": {
       "model_id": "79209cdd860b4cb4b76518abe7f99ff4",
       "version_major": 2,
       "version_minor": 0
      },
      "text/plain": [
       "Video QR_Московская обл._БИТЦА_[7й корпус]_4_3_3_2PkYWB_21-06-24_decor:   0%|          | 0/45 [00:00<?, ?it/s]"
      ]
     },
     "metadata": {},
     "output_type": "display_data"
    },
    {
     "data": {
      "application/vnd.jupyter.widget-view+json": {
       "model_id": "d6d5c7a223984c82a90c4970e13ac40a",
       "version_major": 2,
       "version_minor": 0
      },
      "text/plain": [
       "Video QR_Московская обл._БИТЦА_[7й корпус]_1_3_3_lCQhhr_10-06-24_decor:   0%|          | 0/40 [00:00<?, ?it/s]"
      ]
     },
     "metadata": {},
     "output_type": "display_data"
    },
    {
     "data": {
      "application/vnd.jupyter.widget-view+json": {
       "model_id": "f13ccdada4264f8d96ee7eefe4e46d09",
       "version_major": 2,
       "version_minor": 0
      },
      "text/plain": [
       "Video Hand_Московская обл._БИТЦА_[7й корпус]_3_7_3_WJnFfY_24-06-24_decor:   0%|          | 0/59 [00:00<?, ?it/…"
      ]
     },
     "metadata": {},
     "output_type": "display_data"
    },
    {
     "data": {
      "application/vnd.jupyter.widget-view+json": {
       "model_id": "e99da2cecd5c418ba61eb14da5135096",
       "version_major": 2,
       "version_minor": 0
      },
      "text/plain": [
       "Video QR_Московская обл._БИТЦА_[7й корпус]_1_2_3_Z7joOE_24-06-24_decor:   0%|          | 0/32 [00:00<?, ?it/s]"
      ]
     },
     "metadata": {},
     "output_type": "display_data"
    },
    {
     "data": {
      "application/vnd.jupyter.widget-view+json": {
       "model_id": "30f0cbb68d954f5ab435b43ce911a9a7",
       "version_major": 2,
       "version_minor": 0
      },
      "text/plain": [
       "Video QR_Московская обл._БИТЦА_[7й корпус]_3_3_3_EcL7Sj_24-06-24_decor:   0%|          | 0/57 [00:00<?, ?it/s]"
      ]
     },
     "metadata": {},
     "output_type": "display_data"
    },
    {
     "data": {
      "application/vnd.jupyter.widget-view+json": {
       "model_id": "6e1ea55b1b0445a4ad40fd45982d9fa1",
       "version_major": 2,
       "version_minor": 0
      },
      "text/plain": [
       "Video QR_Московская обл._БИТЦА_[7й корпус]_8_3_3_KvfYF7_02-05-24:   0%|          | 0/93 [00:00<?, ?it/s]"
      ]
     },
     "metadata": {},
     "output_type": "display_data"
    },
    {
     "data": {
      "application/vnd.jupyter.widget-view+json": {
       "model_id": "e84f2633984b4480b307139e0351d13b",
       "version_major": 2,
       "version_minor": 0
      },
      "text/plain": [
       "Video QR_Московская обл._БИТЦА_[7й корпус]_4_12_3_x3wG10_21-06-24_decor:   0%|          | 0/63 [00:00<?, ?it/s…"
      ]
     },
     "metadata": {},
     "output_type": "display_data"
    },
    {
     "data": {
      "application/vnd.jupyter.widget-view+json": {
       "model_id": "50585ebee35a4fedb5e521bf27dcf34c",
       "version_major": 2,
       "version_minor": 0
      },
      "text/plain": [
       "Video QR_Московская обл._БИТЦА_[7й корпус]_2_14_3_TmNeAE_19-06-24_decor:   0%|          | 0/60 [00:00<?, ?it/s…"
      ]
     },
     "metadata": {},
     "output_type": "display_data"
    },
    {
     "data": {
      "application/vnd.jupyter.widget-view+json": {
       "model_id": "ed149d699eec47138814703b512cf0e3",
       "version_major": 2,
       "version_minor": 0
      },
      "text/plain": [
       "Video Hand_Московская обл._БИТЦА_[7й корпус]_3_24_3_nA2hun_14-06-24_decor:   0%|          | 0/67 [00:00<?, ?it…"
      ]
     },
     "metadata": {},
     "output_type": "display_data"
    },
    {
     "data": {
      "application/vnd.jupyter.widget-view+json": {
       "model_id": "d1268a1a80564bd586e56ca5ce8cd5a7",
       "version_major": 2,
       "version_minor": 0
      },
      "text/plain": [
       "Video Hand_Московская обл._БИТЦА_[7й корпус]_1_7_3_idenx6_19-06-24_decor:   0%|          | 0/55 [00:00<?, ?it/…"
      ]
     },
     "metadata": {},
     "output_type": "display_data"
    },
    {
     "data": {
      "application/vnd.jupyter.widget-view+json": {
       "model_id": "3787ed3da8234fcc9ec7af36cd326395",
       "version_major": 2,
       "version_minor": 0
      },
      "text/plain": [
       "Video QR_Московская обл._БИТЦА_[7й корпус]_8_23_3_gyhbQ8_15-06-24_decor:   0%|          | 0/54 [00:00<?, ?it/s…"
      ]
     },
     "metadata": {},
     "output_type": "display_data"
    },
    {
     "data": {
      "application/vnd.jupyter.widget-view+json": {
       "model_id": "e887b38c14994af4ba60daf4bf624bcb",
       "version_major": 2,
       "version_minor": 0
      },
      "text/plain": [
       "Video QR_Московская обл._БИТЦА_[7й корпус]_1_1_3_KUSm5T_19-06-24_decor:   0%|          | 0/32 [00:00<?, ?it/s]"
      ]
     },
     "metadata": {},
     "output_type": "display_data"
    },
    {
     "data": {
      "application/vnd.jupyter.widget-view+json": {
       "model_id": "5975471db83a419e8aa4e75758872c4e",
       "version_major": 2,
       "version_minor": 0
      },
      "text/plain": [
       "Video QR_Московская обл._БИТЦА_[7й корпус]_2_3_3_MjZfW8_19-06-24_decor:   0%|          | 0/47 [00:00<?, ?it/s]"
      ]
     },
     "metadata": {},
     "output_type": "display_data"
    },
    {
     "data": {
      "application/vnd.jupyter.widget-view+json": {
       "model_id": "b9cd43093bac4ff7afb3fb2f9522147a",
       "version_major": 2,
       "version_minor": 0
      },
      "text/plain": [
       "Video QR_Московская обл._БИТЦА_[7й корпус]_3_9_3_D98ODQ_24-06-24_decor:   0%|          | 0/60 [00:00<?, ?it/s]"
      ]
     },
     "metadata": {},
     "output_type": "display_data"
    },
    {
     "data": {
      "application/vnd.jupyter.widget-view+json": {
       "model_id": "2d4b982debca491d8109bb59df99acbd",
       "version_major": 2,
       "version_minor": 0
      },
      "text/plain": [
       "Video QR_Московская обл._БИТЦА_[7й корпус]_8_10_3_lwpCNP_22-06-24_decor:   0%|          | 0/54 [00:00<?, ?it/s…"
      ]
     },
     "metadata": {},
     "output_type": "display_data"
    },
    {
     "data": {
      "application/vnd.jupyter.widget-view+json": {
       "model_id": "97876b5153244940a5720723cd86f598",
       "version_major": 2,
       "version_minor": 0
      },
      "text/plain": [
       "Video QR_Московская обл._БИТЦА_[7й корпус]_8_20_3_4Agbpw_22-06-24_decor:   0%|          | 0/57 [00:00<?, ?it/s…"
      ]
     },
     "metadata": {},
     "output_type": "display_data"
    },
    {
     "data": {
      "application/vnd.jupyter.widget-view+json": {
       "model_id": "27d2fa4f16bb4bdda5b9ebbf150b6ab7",
       "version_major": 2,
       "version_minor": 0
      },
      "text/plain": [
       "Video QR_Московская обл._БИТЦА_[7й корпус]_4_3_3_BYMy8Z_14-06-24_decor:   0%|          | 0/45 [00:00<?, ?it/s]"
      ]
     },
     "metadata": {},
     "output_type": "display_data"
    },
    {
     "data": {
      "application/vnd.jupyter.widget-view+json": {
       "model_id": "951841fcff9045c380d22f687638c5b7",
       "version_major": 2,
       "version_minor": 0
      },
      "text/plain": [
       "Video QR_Московская обл._БИТЦА_[7й корпус]_1_24_3_4Cb3TG_24-06-24_decor:   0%|          | 0/31 [00:00<?, ?it/s…"
      ]
     },
     "metadata": {},
     "output_type": "display_data"
    },
    {
     "data": {
      "application/vnd.jupyter.widget-view+json": {
       "model_id": "ec4be9afcbd945d6b3f742908dbf458d",
       "version_major": 2,
       "version_minor": 0
      },
      "text/plain": [
       "Video Hand_Московская обл._БИТЦА_[7й корпус]_4_9_3_SITvav_21-06-24_decor:   0%|          | 0/58 [00:00<?, ?it/…"
      ]
     },
     "metadata": {},
     "output_type": "display_data"
    },
    {
     "data": {
      "application/vnd.jupyter.widget-view+json": {
       "model_id": "8850ed68150a4691aabdf208971590ae",
       "version_major": 2,
       "version_minor": 0
      },
      "text/plain": [
       "Video QR_Московская обл._БИТЦА_[7й корпус]_5_23_3_EMZqFf_14-06-24_decor:   0%|          | 0/45 [00:00<?, ?it/s…"
      ]
     },
     "metadata": {},
     "output_type": "display_data"
    },
    {
     "data": {
      "application/vnd.jupyter.widget-view+json": {
       "model_id": "88fb2cb240b34f1584c2bdb79c208909",
       "version_major": 2,
       "version_minor": 0
      },
      "text/plain": [
       "Video QR_Московская обл._БИТЦА_[7й корпус]_4_20_3_RWE1US_21-06-24_decor:   0%|          | 0/54 [00:00<?, ?it/s…"
      ]
     },
     "metadata": {},
     "output_type": "display_data"
    },
    {
     "data": {
      "application/vnd.jupyter.widget-view+json": {
       "model_id": "7c7f3dc5c6364bb9ab9eed11e2e4378b",
       "version_major": 2,
       "version_minor": 0
      },
      "text/plain": [
       "Video QR_Московская обл._БИТЦА_[7й корпус]_1_13_3_jPJeTr_10-06-24_decor:   0%|          | 0/12 [00:00<?, ?it/s…"
      ]
     },
     "metadata": {},
     "output_type": "display_data"
    },
    {
     "data": {
      "application/vnd.jupyter.widget-view+json": {
       "model_id": "1a7408914dfe4bbeb938865974b0361b",
       "version_major": 2,
       "version_minor": 0
      },
      "text/plain": [
       "Video QR_Московская обл._БИТЦА_[7й корпус]_1_9_3_P6lAF8_10-06-24_decor:   0%|          | 0/22 [00:00<?, ?it/s]"
      ]
     },
     "metadata": {},
     "output_type": "display_data"
    },
    {
     "data": {
      "application/vnd.jupyter.widget-view+json": {
       "model_id": "1804a3a8080f494093d377f78887e8c6",
       "version_major": 2,
       "version_minor": 0
      },
      "text/plain": [
       "Video QR_Московская обл._БИТЦА_[7й корпус]_1_6_3_88Nu2P_10-06-24_decor:   0%|          | 0/21 [00:00<?, ?it/s]"
      ]
     },
     "metadata": {},
     "output_type": "display_data"
    },
    {
     "data": {
      "application/vnd.jupyter.widget-view+json": {
       "model_id": "a9d2f57aa02448919695f766f0bc4087",
       "version_major": 2,
       "version_minor": 0
      },
      "text/plain": [
       "Video QR_Московская обл._БИТЦА_[7й корпус]_5_6_3_jSdZ5d_21-06-24_decor:   0%|          | 0/35 [00:00<?, ?it/s]"
      ]
     },
     "metadata": {},
     "output_type": "display_data"
    },
    {
     "data": {
      "application/vnd.jupyter.widget-view+json": {
       "model_id": "7d181608d58141fd9cdb85c518a42139",
       "version_major": 2,
       "version_minor": 0
      },
      "text/plain": [
       "Video QR_Московская обл._БИТЦА_[7й корпус]_3_10_3_PWyRtM_10-06-24_decor:   0%|          | 0/63 [00:00<?, ?it/s…"
      ]
     },
     "metadata": {},
     "output_type": "display_data"
    },
    {
     "data": {
      "application/vnd.jupyter.widget-view+json": {
       "model_id": "1b78df65ca9c4990af31df7ba39ed3c4",
       "version_major": 2,
       "version_minor": 0
      },
      "text/plain": [
       "Video QR_Московская обл._БИТЦА_[7й корпус]_1_8_3_dl3Wmv_24-06-24_decor:   0%|          | 0/61 [00:00<?, ?it/s]"
      ]
     },
     "metadata": {},
     "output_type": "display_data"
    },
    {
     "data": {
      "application/vnd.jupyter.widget-view+json": {
       "model_id": "346893f89eaa4e2589545da86b61ac19",
       "version_major": 2,
       "version_minor": 0
      },
      "text/plain": [
       "Video QR_Московская обл._БИТЦА_[7й корпус]_5_12_3_iqBXNI_14-06-24_decor:   0%|          | 0/45 [00:00<?, ?it/s…"
      ]
     },
     "metadata": {},
     "output_type": "display_data"
    },
    {
     "data": {
      "application/vnd.jupyter.widget-view+json": {
       "model_id": "87a0512a40d146f481cbc076fc5e95e5",
       "version_major": 2,
       "version_minor": 0
      },
      "text/plain": [
       "Video QR_Московская обл._БИТЦА_[7й корпус]_3_19_3_VEldZV_14-06-24_decor:   0%|          | 0/68 [00:00<?, ?it/s…"
      ]
     },
     "metadata": {},
     "output_type": "display_data"
    },
    {
     "data": {
      "application/vnd.jupyter.widget-view+json": {
       "model_id": "6077624882634ce6b926f11d461d70bc",
       "version_major": 2,
       "version_minor": 0
      },
      "text/plain": [
       "Video QR_Московская обл._БИТЦА_[7й корпус]_3_11_3_2vyPXe_19-06-24_decor:   0%|          | 0/68 [00:00<?, ?it/s…"
      ]
     },
     "metadata": {},
     "output_type": "display_data"
    },
    {
     "data": {
      "application/vnd.jupyter.widget-view+json": {
       "model_id": "e7237ba096674f36be652397a4191c57",
       "version_major": 2,
       "version_minor": 0
      },
      "text/plain": [
       "Video QR_Московская обл._БИТЦА_[7й корпус]_3_18_3_3jHXIY_24-06-24_decor:   0%|          | 0/62 [00:00<?, ?it/s…"
      ]
     },
     "metadata": {},
     "output_type": "display_data"
    },
    {
     "data": {
      "application/vnd.jupyter.widget-view+json": {
       "model_id": "ed19ab7511124ecfab81350683fc3e84",
       "version_major": 2,
       "version_minor": 0
      },
      "text/plain": [
       "Video QR_Московская обл._БИТЦА_[7й корпус]_7_11_3_HW9gPW_22-06-24_decor:   0%|          | 0/50 [00:00<?, ?it/s…"
      ]
     },
     "metadata": {},
     "output_type": "display_data"
    },
    {
     "data": {
      "application/vnd.jupyter.widget-view+json": {
       "model_id": "0a91451fd74349b796beedd3a90c1dbc",
       "version_major": 2,
       "version_minor": 0
      },
      "text/plain": [
       "Video QR_Московская обл._БИТЦА_[7й корпус]_8_19_3_uJSrS5_22-06-24_decor:   0%|          | 0/50 [00:00<?, ?it/s…"
      ]
     },
     "metadata": {},
     "output_type": "display_data"
    },
    {
     "data": {
      "application/vnd.jupyter.widget-view+json": {
       "model_id": "3daa61ec301548c0bba563a7761d1320",
       "version_major": 2,
       "version_minor": 0
      },
      "text/plain": [
       "Video QR_Московская обл._БИТЦА_[7й корпус]_2_11_3_jQngTr_10-06-24_decor:   0%|          | 0/59 [00:00<?, ?it/s…"
      ]
     },
     "metadata": {},
     "output_type": "display_data"
    },
    {
     "data": {
      "application/vnd.jupyter.widget-view+json": {
       "model_id": "70bbd46933d549a38774fb9c46d9f0f3",
       "version_major": 2,
       "version_minor": 0
      },
      "text/plain": [
       "Video QR_Московская обл._БИТЦА_[7й корпус]_3_9_3_znLwzp_19-06-24_decor:   0%|          | 0/70 [00:00<?, ?it/s]"
      ]
     },
     "metadata": {},
     "output_type": "display_data"
    },
    {
     "data": {
      "application/vnd.jupyter.widget-view+json": {
       "model_id": "185adef02a9d485fbf07033501308482",
       "version_major": 2,
       "version_minor": 0
      },
      "text/plain": [
       "Video QR_Московская обл._БИТЦА_[7й корпус]_1_11_3_uTJdzN_19-06-24_decor:   0%|          | 0/54 [00:00<?, ?it/s…"
      ]
     },
     "metadata": {},
     "output_type": "display_data"
    },
    {
     "data": {
      "application/vnd.jupyter.widget-view+json": {
       "model_id": "fdd185b5976c437da798ae20571ad232",
       "version_major": 2,
       "version_minor": 0
      },
      "text/plain": [
       "Video QR_Московская обл._БИТЦА_[7й корпус]_5_4_3_NhAoU0_10-06-24_decor:   0%|          | 0/68 [00:00<?, ?it/s]"
      ]
     },
     "metadata": {},
     "output_type": "display_data"
    },
    {
     "data": {
      "application/vnd.jupyter.widget-view+json": {
       "model_id": "79a927f27b4949bbb4b8aa30ae1eb89e",
       "version_major": 2,
       "version_minor": 0
      },
      "text/plain": [
       "Video QR_Московская обл._БИТЦА_[7й корпус]_8_4_3_rRsHmY_02-05-24:   0%|          | 0/82 [00:00<?, ?it/s]"
      ]
     },
     "metadata": {},
     "output_type": "display_data"
    },
    {
     "data": {
      "application/vnd.jupyter.widget-view+json": {
       "model_id": "e18571ef0bf04a1883e414ff29e660e9",
       "version_major": 2,
       "version_minor": 0
      },
      "text/plain": [
       "Video Hand_Московская обл._БИТЦА_[7й корпус]_4_9_3_TN3reQ_14-06-24_decor:   0%|          | 0/51 [00:00<?, ?it/…"
      ]
     },
     "metadata": {},
     "output_type": "display_data"
    },
    {
     "data": {
      "application/vnd.jupyter.widget-view+json": {
       "model_id": "729cc971f96f48ccb716cb663a0d276d",
       "version_major": 2,
       "version_minor": 0
      },
      "text/plain": [
       "Video Hand_Московская обл._БИТЦА_[7й корпус]_4_24_3_T9DhIK_24-06-24_decor:   0%|          | 0/47 [00:00<?, ?it…"
      ]
     },
     "metadata": {},
     "output_type": "display_data"
    },
    {
     "data": {
      "application/vnd.jupyter.widget-view+json": {
       "model_id": "817cd26d423745cabae880e7b13f1c0a",
       "version_major": 2,
       "version_minor": 0
      },
      "text/plain": [
       "Video QR_Московская обл._БИТЦА_[7й корпус]_1_3_3_yZ5z3m_02-05-24:   0%|          | 0/50 [00:00<?, ?it/s]"
      ]
     },
     "metadata": {},
     "output_type": "display_data"
    },
    {
     "data": {
      "application/vnd.jupyter.widget-view+json": {
       "model_id": "605080b36ccf43b88d47ab30b789387c",
       "version_major": 2,
       "version_minor": 0
      },
      "text/plain": [
       "Video QR_Московская обл._БИТЦА_[7й корпус]_5_5_3_qhg40E_10-06-24_decor:   0%|          | 0/37 [00:00<?, ?it/s]"
      ]
     },
     "metadata": {},
     "output_type": "display_data"
    },
    {
     "data": {
      "application/vnd.jupyter.widget-view+json": {
       "model_id": "80be5978f21242b3ab16bdc9ba0cf1b4",
       "version_major": 2,
       "version_minor": 0
      },
      "text/plain": [
       "Video QR_Московская обл._БИТЦА_[7й корпус]_8_14_3_4WJ6JK_15-06-24_decor:   0%|          | 0/54 [00:00<?, ?it/s…"
      ]
     },
     "metadata": {},
     "output_type": "display_data"
    },
    {
     "data": {
      "application/vnd.jupyter.widget-view+json": {
       "model_id": "7e249cacc4574e4da8be58b2a8c7d117",
       "version_major": 2,
       "version_minor": 0
      },
      "text/plain": [
       "Video QR_Московская обл._БИТЦА_[7й корпус]_4_18_3_yLndNp_14-06-24_decor:   0%|          | 0/57 [00:00<?, ?it/s…"
      ]
     },
     "metadata": {},
     "output_type": "display_data"
    },
    {
     "data": {
      "application/vnd.jupyter.widget-view+json": {
       "model_id": "a8c4a17312c045b99a1d407c546adc18",
       "version_major": 2,
       "version_minor": 0
      },
      "text/plain": [
       "Video QR_Московская обл._БИТЦА_[7й корпус]_6_12_3_cVSMeL_14-06-24_decor:   0%|          | 0/37 [00:00<?, ?it/s…"
      ]
     },
     "metadata": {},
     "output_type": "display_data"
    },
    {
     "data": {
      "application/vnd.jupyter.widget-view+json": {
       "model_id": "4e2ec884b8944062afc506184ec651e7",
       "version_major": 2,
       "version_minor": 0
      },
      "text/plain": [
       "Video QR_Московская обл._БИТЦА_[7й корпус]_3_8_3_rlE22z_24-06-24_decor:   0%|          | 0/59 [00:00<?, ?it/s]"
      ]
     },
     "metadata": {},
     "output_type": "display_data"
    },
    {
     "data": {
      "application/vnd.jupyter.widget-view+json": {
       "model_id": "f62a677e52dc4ae7862988b29cd7c299",
       "version_major": 2,
       "version_minor": 0
      },
      "text/plain": [
       "Video QR_Московская обл._БИТЦА_[7й корпус]_3_14_3_JFMIK3_14-06-24_decor:   0%|          | 0/62 [00:00<?, ?it/s…"
      ]
     },
     "metadata": {},
     "output_type": "display_data"
    },
    {
     "data": {
      "application/vnd.jupyter.widget-view+json": {
       "model_id": "bd49a452604c4c96b2bc0f15a953b1cb",
       "version_major": 2,
       "version_minor": 0
      },
      "text/plain": [
       "Video QR_Московская обл._БИТЦА_[7й корпус]_3_3_3_UtbuPi_19-06-24_decor:   0%|          | 0/65 [00:00<?, ?it/s]"
      ]
     },
     "metadata": {},
     "output_type": "display_data"
    },
    {
     "data": {
      "application/vnd.jupyter.widget-view+json": {
       "model_id": "9dd4a1b0de734975b4147048b691c768",
       "version_major": 2,
       "version_minor": 0
      },
      "text/plain": [
       "Video QR_Московская обл._БИТЦА_[7й корпус]_8_5_3_DPfWKc_10-06-24_decor:   0%|          | 0/62 [00:00<?, ?it/s]"
      ]
     },
     "metadata": {},
     "output_type": "display_data"
    },
    {
     "data": {
      "application/vnd.jupyter.widget-view+json": {
       "model_id": "6d7e348ec33743f0a0c53bc4ad70fc18",
       "version_major": 2,
       "version_minor": 0
      },
      "text/plain": [
       "Video Hand_Московская обл._БИТЦА_[7й корпус]_1_4_3_ZFuXzJ_19-06-24_decor:   0%|          | 0/55 [00:00<?, ?it/…"
      ]
     },
     "metadata": {},
     "output_type": "display_data"
    },
    {
     "data": {
      "application/vnd.jupyter.widget-view+json": {
       "model_id": "dcb76f7c1d004bab8853b07ece4e29c6",
       "version_major": 2,
       "version_minor": 0
      },
      "text/plain": [
       "Video QR_Московская обл._БИТЦА_[7й корпус]_2_4_3_oVZNDh_24-06-24_decor:   0%|          | 0/53 [00:00<?, ?it/s]"
      ]
     },
     "metadata": {},
     "output_type": "display_data"
    },
    {
     "data": {
      "application/vnd.jupyter.widget-view+json": {
       "model_id": "467ec00541064f0099adc92509ec8b5f",
       "version_major": 2,
       "version_minor": 0
      },
      "text/plain": [
       "Video QR_Московская обл._БИТЦА_[7й корпус]_3_14_3_DKZTfN_19-06-24_decor:   0%|          | 0/47 [00:00<?, ?it/s…"
      ]
     },
     "metadata": {},
     "output_type": "display_data"
    },
    {
     "data": {
      "application/vnd.jupyter.widget-view+json": {
       "model_id": "2fab0fe97423494988e57b145f9df833",
       "version_major": 2,
       "version_minor": 0
      },
      "text/plain": [
       "Video QR_Московская обл._БИТЦА_[7й корпус]_1_8_3_IP55oK_19-06-24_decor:   0%|          | 0/56 [00:00<?, ?it/s]"
      ]
     },
     "metadata": {},
     "output_type": "display_data"
    },
    {
     "data": {
      "application/vnd.jupyter.widget-view+json": {
       "model_id": "89c73e9b67f34b41873376a65cb673db",
       "version_major": 2,
       "version_minor": 0
      },
      "text/plain": [
       "Video QR_Московская обл._БИТЦА_[7й корпус]_4_15_3_KUOBeG_14-06-24_decor:   0%|          | 0/51 [00:00<?, ?it/s…"
      ]
     },
     "metadata": {},
     "output_type": "display_data"
    },
    {
     "data": {
      "application/vnd.jupyter.widget-view+json": {
       "model_id": "d6b8795d8a734b38a966e773f7e82233",
       "version_major": 2,
       "version_minor": 0
      },
      "text/plain": [
       "Video QR_Московская обл._БИТЦА_[7й корпус]_1_22_3_aMhKuH_24-06-24_decor:   0%|          | 0/29 [00:00<?, ?it/s…"
      ]
     },
     "metadata": {},
     "output_type": "display_data"
    },
    {
     "data": {
      "application/vnd.jupyter.widget-view+json": {
       "model_id": "73bc1bcfb8c74a7e8173868998daab0d",
       "version_major": 2,
       "version_minor": 0
      },
      "text/plain": [
       "Video Hand_Московская обл._БИТЦА_[7й корпус]_4_24_3_wRZ1PP_21-06-24_decor:   0%|          | 0/61 [00:00<?, ?it…"
      ]
     },
     "metadata": {},
     "output_type": "display_data"
    },
    {
     "data": {
      "application/vnd.jupyter.widget-view+json": {
       "model_id": "1bd67b4a306f46d38cc1fe711dac20dd",
       "version_major": 2,
       "version_minor": 0
      },
      "text/plain": [
       "Video Hand_Московская обл._БИТЦА_[7й корпус]_4_19_3_vbsTON_24-06-24_decor:   0%|          | 0/47 [00:00<?, ?it…"
      ]
     },
     "metadata": {},
     "output_type": "display_data"
    },
    {
     "data": {
      "application/vnd.jupyter.widget-view+json": {
       "model_id": "eedb1fa855df471ba7c5aa74f2b42972",
       "version_major": 2,
       "version_minor": 0
      },
      "text/plain": [
       "Video QR_Московская обл._БИТЦА_[7й корпус]_2_8_3_nOtPVF_19-06-24_decor:   0%|          | 0/17 [00:00<?, ?it/s]"
      ]
     },
     "metadata": {},
     "output_type": "display_data"
    },
    {
     "data": {
      "application/vnd.jupyter.widget-view+json": {
       "model_id": "427c51d2f6d4405b9351c3d114120109",
       "version_major": 2,
       "version_minor": 0
      },
      "text/plain": [
       "Video QR_Московская обл._БИТЦА_[7й корпус]_5_5_3_cZV6EJ_14-06-24_decor:   0%|          | 0/48 [00:00<?, ?it/s]"
      ]
     },
     "metadata": {},
     "output_type": "display_data"
    },
    {
     "data": {
      "application/vnd.jupyter.widget-view+json": {
       "model_id": "bb719a7fd73b4b568330c2e16cb5bb39",
       "version_major": 2,
       "version_minor": 0
      },
      "text/plain": [
       "Video Hand_Московская обл._БИТЦА_[7й корпус]_1_10_3_JIhqQj_10-06-24_decor:   0%|          | 0/40 [00:00<?, ?it…"
      ]
     },
     "metadata": {},
     "output_type": "display_data"
    },
    {
     "data": {
      "application/vnd.jupyter.widget-view+json": {
       "model_id": "15ae0033568c4d5b81fbc943db6792cc",
       "version_major": 2,
       "version_minor": 0
      },
      "text/plain": [
       "Video QR_Московская обл._БИТЦА_[7й корпус]_8_8_3_ScWmeU_02-05-24_decor:   0%|          | 0/56 [00:00<?, ?it/s]"
      ]
     },
     "metadata": {},
     "output_type": "display_data"
    },
    {
     "data": {
      "application/vnd.jupyter.widget-view+json": {
       "model_id": "7affcb9d92fa4198ae709beb8cd3ca32",
       "version_major": 2,
       "version_minor": 0
      },
      "text/plain": [
       "Video QR_Московская обл._БИТЦА_[7й корпус]_6_13_3_6H8s7T_21-06-24_decor:   0%|          | 0/43 [00:00<?, ?it/s…"
      ]
     },
     "metadata": {},
     "output_type": "display_data"
    },
    {
     "data": {
      "application/vnd.jupyter.widget-view+json": {
       "model_id": "07e26e208c3f403d8d943ec5c614beaf",
       "version_major": 2,
       "version_minor": 0
      },
      "text/plain": [
       "Video QR_Московская обл._БИТЦА_[7й корпус]_3_22_3_VJItnj_24-06-24_decor:   0%|          | 0/57 [00:00<?, ?it/s…"
      ]
     },
     "metadata": {},
     "output_type": "display_data"
    },
    {
     "data": {
      "application/vnd.jupyter.widget-view+json": {
       "model_id": "69d861c7b0c14d678defa7fa2263c113",
       "version_major": 2,
       "version_minor": 0
      },
      "text/plain": [
       "Video QR_Московская обл._БИТЦА_[7й корпус]_8_18_3_xB0wgE_22-06-24_decor:   0%|          | 0/58 [00:00<?, ?it/s…"
      ]
     },
     "metadata": {},
     "output_type": "display_data"
    },
    {
     "data": {
      "application/vnd.jupyter.widget-view+json": {
       "model_id": "9a5ef6d51d4b44169e266e7f230402bd",
       "version_major": 2,
       "version_minor": 0
      },
      "text/plain": [
       "Video Hand_Московская обл._БИТЦА_[7й корпус]_1_4_3_5bkWaV_24-06-24_decor:   0%|          | 0/57 [00:00<?, ?it/…"
      ]
     },
     "metadata": {},
     "output_type": "display_data"
    }
   ],
   "source": [
    "for path_video in path_videos:\n",
    "    count = 0\n",
    "    cap = cv2.VideoCapture(path_video)\n",
    "    length = int(cap.get(cv2.CAP_PROP_FRAME_COUNT))\n",
    "    \n",
    "    bar = tqdm(total=length // 100, desc=f'Video {Path(path_video).stem}')\n",
    "    \n",
    "    while(cap.isOpened() and count < length):\n",
    "        count += 1\n",
    "        ret, frame = cap.read()\n",
    "        if ret:\n",
    "            if (count % multiplier == 0):\n",
    "                bar.update(1)\n",
    "                path_save_img = f'{PATH_SAVE}/{Path(path_video).stem}_{count}.jpg'\n",
    "                status = cv2.imwrite(path_save_img, frame)\n",
    "\n",
    "    cap.release()\n",
    "    bar.close()"
   ]
  },
  {
   "cell_type": "markdown",
   "id": "a828e560-ad18-4065-be27-3b27071ce2eb",
   "metadata": {},
   "source": [
    "### Сбор по папкам"
   ]
  },
  {
   "cell_type": "markdown",
   "id": "179269ba-a789-4f7c-a6a9-b3a7b96d411d",
   "metadata": {},
   "source": [
    "Получилось 25308 изображений, чтобы было удобнее их заливать в облако на разметку, необходимо разлодить их по папкам по 2к штук. "
   ]
  },
  {
   "cell_type": "code",
   "execution_count": 57,
   "id": "d7635c74-1c60-4567-866b-9a4bbb734a51",
   "metadata": {
    "tags": []
   },
   "outputs": [],
   "source": [
    "import os\n",
    "import shutil"
   ]
  },
  {
   "cell_type": "code",
   "execution_count": 73,
   "id": "8017f488-9507-48ed-b1c4-8640a7ad7544",
   "metadata": {
    "tags": []
   },
   "outputs": [
    {
     "name": "stderr",
     "output_type": "stream",
     "text": [
      "  8%|▊         | 2000/25307 [00:00<00:01, 14482.67it/s]\n",
      "  8%|▊         | 2000/25307 [00:00<00:01, 15161.62it/s]\n",
      "  8%|▊         | 2000/25307 [00:00<00:01, 15255.45it/s]\n",
      "  8%|▊         | 2000/25307 [00:00<00:01, 14342.25it/s]\n",
      "  8%|▊         | 2000/25307 [00:00<00:01, 15005.30it/s]\n",
      "  8%|▊         | 2000/25307 [00:00<00:01, 15145.66it/s]\n",
      "  8%|▊         | 2000/25307 [00:00<00:01, 15033.64it/s]\n",
      "  8%|▊         | 2000/25307 [00:00<00:01, 15224.91it/s]\n",
      "  8%|▊         | 2000/25307 [00:00<00:01, 15197.63it/s]\n",
      "  8%|▊         | 2000/25307 [00:00<00:01, 15268.70it/s]\n",
      "  8%|▊         | 2000/25307 [00:00<00:01, 15109.63it/s]\n",
      "  8%|▊         | 2000/25307 [00:00<00:01, 14304.49it/s]\n",
      "  5%|▌         | 1307/25307 [00:00<00:01, 14857.78it/s]\n"
     ]
    }
   ],
   "source": [
    "import os\n",
    "import shutil\n",
    "from tqdm import tqdm\n",
    "\n",
    "\n",
    "# Папка, из которой берем изображения\n",
    "source_folder = '../data/row/stills'\n",
    "\n",
    "# Список всех файлов в папке 'row/stills'\n",
    "files = os.listdir(source_folder)\n",
    "\n",
    "# Создаем папку 'row/combined', если она не существует\n",
    "os.makedirs('../data/row/combined', exist_ok=True)\n",
    "\n",
    "# Количество файлов, которые необходимо переместить в одну папку\n",
    "batch_size = 2000\n",
    "\n",
    "# Цикл по списку файлов с шагом batch_size\n",
    "for i in range(0, len(files), batch_size):\n",
    "    # Создаем папку 'row/combined/n', где n - это номер пакета\n",
    "    os.makedirs(f'../data/row/combined/{i // batch_size}', exist_ok=True)\n",
    "\n",
    "    # Цикл по подсписку файлов размером batch_size\n",
    "    for file in tqdm(files[i:i+batch_size], total=len(files)):\n",
    "        \n",
    "        # Путь к исходному файлу\n",
    "        src_file = os.path.join(source_folder, file)\n",
    "\n",
    "        # Путь к новому файлу\n",
    "        dst_file = os.path.join(f'../data/row/combined/{i // batch_size}', file)\n",
    "\n",
    "        # Перемещаем файл\n",
    "        shutil.move(src_file, dst_file)"
   ]
  },
  {
   "cell_type": "markdown",
   "id": "6146163a-de7e-4c4f-b40c-e229dd4315c8",
   "metadata": {},
   "source": [
    "### Resize"
   ]
  },
  {
   "cell_type": "markdown",
   "id": "9b8870b4-ee52-4215-95db-6979aa710d94",
   "metadata": {},
   "source": [
    "**В данном проекте ресайз делать не нужно, оставим код как инструмент, который может понадобится.**\n",
    "\n",
    "Изображения получились очень большими 5888х2944, данные изображения в будущем нужно будет хранить, передавать по сети. Поэтому было принято решение уменьшить изображение до 2048х"
   ]
  },
  {
   "cell_type": "code",
   "execution_count": 18,
   "id": "14fe71cb-42d4-44b2-ae0d-6346f0a7d020",
   "metadata": {
    "tags": []
   },
   "outputs": [],
   "source": [
    "import numpy as np\n",
    "\n",
    "dir_imgs = '../data/row/stills'"
   ]
  },
  {
   "cell_type": "code",
   "execution_count": 16,
   "id": "a7050979-067b-4f69-a6f2-8a51bd79da92",
   "metadata": {
    "tags": []
   },
   "outputs": [],
   "source": [
    "path_imgs = [str(p) for p in Path(path_imgs).rglob('*.jpg')]"
   ]
  },
  {
   "cell_type": "code",
   "execution_count": 19,
   "id": "a0194671-637b-4c51-b45f-7c79d148f000",
   "metadata": {
    "tags": []
   },
   "outputs": [],
   "source": [
    "def get_new_height(img: np.array, new_width: int = 2048) -> int:\n",
    "    aspect_ratio = img.shape[1] / img.shape[0]\n",
    "    return int(new_width / aspect_ratio)"
   ]
  },
  {
   "cell_type": "code",
   "execution_count": 33,
   "id": "d6464b41-6594-425a-8e42-3d59017bc95a",
   "metadata": {
    "tags": []
   },
   "outputs": [
    {
     "data": {
      "application/vnd.jupyter.widget-view+json": {
       "model_id": "3e89a765c54a4dc0af64878610af1d5b",
       "version_major": 2,
       "version_minor": 0
      },
      "text/plain": [
       "  0%|          | 0/5608 [00:00<?, ?it/s]"
      ]
     },
     "metadata": {},
     "output_type": "display_data"
    }
   ],
   "source": [
    "new_width = 2048\n",
    "\n",
    "for path_img in tqdm(path_imgs):\n",
    "    img = cv2.imread(path_img)\n",
    "    new_height = get_new_height(img, new_width)\n",
    "    resized_img = cv2.resize(img, (new_width, new_height))\n",
    "    \n",
    "    path_save = f'{dir_save}/{Path(path_img).stem}.jpg'\n",
    "    cv2.imwrite(path_save, resized_img)"
   ]
  },
  {
   "cell_type": "code",
   "execution_count": null,
   "id": "16668ce2-8342-415c-8f2e-eaeeab33f2ec",
   "metadata": {},
   "outputs": [],
   "source": []
  }
 ],
 "metadata": {
  "kernelspec": {
   "display_name": "s-iner-cv-clf-multi-decor-v0-2",
   "language": "python",
   "name": "s-iner-cv-clf-multi-decor-v0-2"
  },
  "language_info": {
   "codemirror_mode": {
    "name": "ipython",
    "version": 3
   },
   "file_extension": ".py",
   "mimetype": "text/x-python",
   "name": "python",
   "nbconvert_exporter": "python",
   "pygments_lexer": "ipython3",
   "version": "3.10.13"
  }
 },
 "nbformat": 4,
 "nbformat_minor": 5
}
