{
 "cells": [
  {
   "cell_type": "markdown",
   "id": "00e3a89d",
   "metadata": {},
   "source": [
    "### Задача"
   ]
  },
  {
   "cell_type": "markdown",
   "id": "d177788a",
   "metadata": {},
   "source": [
    "Сделать класс с моделью, где происходил бы весь пайплайн обработки результатов предсказаний модели. Сделать конфигурационный файл, в котором прописать на какой девайс устанавливать модель, какой трешхолд для отбора предсказаний использовать.\n",
    "\n",
    "При обучении модель могла предсказать одновременно `n` классов из группы лейблов `Классификация помещения` и по хорошему она должна была обучить, предсказывать только один класс. Но предсказания одновременно двух классов не исключено, поэтом при предобработке предсказаний нужно учесть, что модель может предсказать одновременно два класса из одной группы. Такая же ситуация и с лейблами `floor_fnish`, `floor_init`, `floor_without` и `wall_finish`, `wall_init`, `wall_without`. Необходимо это учесть и в случае, если модель предсказала одновременно два-три класса, выбирать тот, который имеет большую уверенность модели."
   ]
  },
  {
   "cell_type": "markdown",
   "id": "e6a03de6",
   "metadata": {},
   "source": [
    "### Список классов"
   ]
  },
  {
   "cell_type": "markdown",
   "id": "532c660f",
   "metadata": {},
   "source": [
    "**Лейблы**\n",
    "\n",
    "индекс. tag: описание.\n",
    "\n",
    "0. `room`: комната\n",
    "1. `bathroom`: ванная комната.\n",
    "2. `inner_corridor`: коридор внутри квартиры.\n",
    "3. `public_place`: общественное место.\n",
    "4. `floor_finish`: пол чистовая отделка. \n",
    "5. `floor_init`: пол черновая отделка.\n",
    "6. `ceiling_finish`: потолок чистовая отделка.\n",
    "7. `wall_finish`: стена чистовая отделка.\n",
    "8. `wall_init`: стена черновая отделка.\n",
    "9. `door_room`: дверь межкомнатная.\n",
    "10. `toilet_yes`: унитаз есть.\n",
    "11. `bath_yes`: ванна есть.\n",
    "12. `esocket_yes`: электрическая розетка или выключатель есть.\n",
    "13. `kitchen_furniture_yes`: кухонная мебель есть.\n",
    "14. `radiator`: батарея.\n",
    "15. `floor_without`: пол без отделки.\n",
    "16. `ceiling_without`: потолок без отделки.\n",
    "17. `wall_without`: стены без отделки.\n",
    "18. `window_trim`: отделка окна (подоконник, откосы).\n",
    "19. `window`: проем для окна.\n",
    "20. `floor_pipes`: напольные трубы отопления.\n",
    "21. `garbage`: мусор.\n",
    "22. `place_door`: проем для двери.\n",
    "23. `place_radiator`: место для радиатора.\n",
    "24. `ventilation_shaft`: вентиляционная шахта.\n",
    "25. `sink_yes`: раковина есть.\n",
    "26. `conditioner`: кондиционер.\n",
    "27. `smoke_detector`: датчик дыма.\n",
    "28. `ventilation_grille`: решетка вентиляции.\n",
    "29. `fire_detectors`: извещатель (запуск сигнала о пожаре).\n",
    "30. `dynamics`: динамик.\n",
    "31. `switch_box_flat`: электрический щиток квартирный.\n",
    "32. `switch_box_public`: электрический щиток моп.\n",
    "33. `xbk`: канализационная труба.\n",
    "34. `water_pipes_mop`: стояки ГВС и ХВС в МОП.\n",
    "35. `water_pipes_flat`: стояки ГВС и ХВС в квартире.\n",
    "36. `water_meter`: счетчик воды.\n",
    "37. `heating_riser`: стояк отопления (подводка к батареи).\n",
    "38. `smoke_exhaust_valve`: клапан дымоудаления.\n",
    "39. `electrical_cable`: электрический кабель.\n",
    "40. `electrical_riser`: разводка магистральных стояков.\n",
    "41. `lamp`: светильники.\n",
    "42. `door_mop`: дверь МОП.\n",
    "43. `door_entrance`: дверь входная в квартиру.\n",
    "44. `socket_box`: подрозетники и выключатели.\n",
    "45. `tongue_groove _blocks`: пазогребневые блоки.\n",
    "46. `tile_plinth`: плиточный плинтус.\n",
    "47. `pantry`: кладовка.\n",
    "48. `bad_light`: кадр с плохим освещением."
   ]
  },
  {
   "cell_type": "markdown",
   "id": "145c9b0a",
   "metadata": {},
   "source": [
    "### Разработка"
   ]
  },
  {
   "cell_type": "code",
   "execution_count": 184,
   "id": "1aa7c63b",
   "metadata": {
    "tags": []
   },
   "outputs": [
    {
     "name": "stdout",
     "output_type": "stream",
     "text": [
      "['room', 'bathroom', 'inner_corridor', 'public_place', 'floor_finish', 'floor_init', 'ceiling_finish', 'wall_finish', 'wall_init', 'door_room', 'toilet_yes', 'bath_yes', 'esocket_yes', 'kitchen_furniture_yes', 'radiator', 'floor_without', 'ceiling_without', 'wall_without', 'window_trim', 'window', 'floor_pipes', 'garbage', 'place_door', 'place_radiator', 'ventilation_shaft', 'sink_yes', 'conditioner', 'smoke_detector', 'ventilation_grille', 'fire_detectors', 'dynamics', 'switch_box_flat', 'switch_box_public', 'xbk', 'water_pipes_mop', 'water_pipes_flat', 'water_meter', 'heating_riser', 'smoke_exhaust_valve', 'electrical_cable', 'electrical_riser', 'lamp', 'door_mop', 'door_entrance', 'socket_box', 'tongue_groove _blocks', 'tile_plinth', 'pantry', 'bad_light']\n",
      "49\n"
     ]
    }
   ],
   "source": [
    "import json\n",
    "\n",
    "path_anns = '../data/datasets/original/annotations/default.json'\n",
    "\n",
    "with open(path_anns, 'r') as f:\n",
    "    data = json.load(f)\n",
    "\n",
    "list_labels = [d['name'] for d in data['categories']['label']['labels']]\n",
    "print(list_labels)\n",
    "print(len(list_labels))"
   ]
  },
  {
   "cell_type": "code",
   "execution_count": 185,
   "id": "e3a44b0b",
   "metadata": {
    "tags": []
   },
   "outputs": [],
   "source": [
    "class Config:\n",
    "    \"\"\"Base application configs.\"\"\"\n",
    "    \n",
    "    DEVICE = 'cpu' # 'cuda:2'\n",
    "    THRESHOLD = 0.5\n",
    "    BUILD_MODEL_WEIGHTS_PATH = '../logs/augoff/augoff_prec_0.737.pth'\n",
    "    NUM_CLASSES = 36\n",
    "    BATCH_SIZE = 32"
   ]
  },
  {
   "cell_type": "code",
   "execution_count": 186,
   "id": "dae71510",
   "metadata": {
    "collapsed": true,
    "jupyter": {
     "outputs_hidden": true
    },
    "tags": []
   },
   "outputs": [
    {
     "data": {
      "text/plain": [
       "ConvNeXt(\n",
       "  (stem): Sequential(\n",
       "    (0): Conv2d(3, 192, kernel_size=(4, 4), stride=(4, 4))\n",
       "    (1): LayerNorm2d((192,), eps=1e-06, elementwise_affine=True)\n",
       "  )\n",
       "  (stages): Sequential(\n",
       "    (0): ConvNeXtStage(\n",
       "      (downsample): Identity()\n",
       "      (blocks): Sequential(\n",
       "        (0): ConvNeXtBlock(\n",
       "          (conv_dw): Conv2d(192, 192, kernel_size=(7, 7), stride=(1, 1), padding=(3, 3), groups=192)\n",
       "          (norm): LayerNorm((192,), eps=1e-06, elementwise_affine=True)\n",
       "          (mlp): Mlp(\n",
       "            (fc1): Linear(in_features=192, out_features=768, bias=True)\n",
       "            (act): GELU()\n",
       "            (drop1): Dropout(p=0.0, inplace=False)\n",
       "            (fc2): Linear(in_features=768, out_features=192, bias=True)\n",
       "            (drop2): Dropout(p=0.0, inplace=False)\n",
       "          )\n",
       "          (drop_path): Identity()\n",
       "        )\n",
       "        (1): ConvNeXtBlock(\n",
       "          (conv_dw): Conv2d(192, 192, kernel_size=(7, 7), stride=(1, 1), padding=(3, 3), groups=192)\n",
       "          (norm): LayerNorm((192,), eps=1e-06, elementwise_affine=True)\n",
       "          (mlp): Mlp(\n",
       "            (fc1): Linear(in_features=192, out_features=768, bias=True)\n",
       "            (act): GELU()\n",
       "            (drop1): Dropout(p=0.0, inplace=False)\n",
       "            (fc2): Linear(in_features=768, out_features=192, bias=True)\n",
       "            (drop2): Dropout(p=0.0, inplace=False)\n",
       "          )\n",
       "          (drop_path): Identity()\n",
       "        )\n",
       "        (2): ConvNeXtBlock(\n",
       "          (conv_dw): Conv2d(192, 192, kernel_size=(7, 7), stride=(1, 1), padding=(3, 3), groups=192)\n",
       "          (norm): LayerNorm((192,), eps=1e-06, elementwise_affine=True)\n",
       "          (mlp): Mlp(\n",
       "            (fc1): Linear(in_features=192, out_features=768, bias=True)\n",
       "            (act): GELU()\n",
       "            (drop1): Dropout(p=0.0, inplace=False)\n",
       "            (fc2): Linear(in_features=768, out_features=192, bias=True)\n",
       "            (drop2): Dropout(p=0.0, inplace=False)\n",
       "          )\n",
       "          (drop_path): Identity()\n",
       "        )\n",
       "      )\n",
       "    )\n",
       "    (1): ConvNeXtStage(\n",
       "      (downsample): Sequential(\n",
       "        (0): LayerNorm2d((192,), eps=1e-06, elementwise_affine=True)\n",
       "        (1): Conv2d(192, 384, kernel_size=(2, 2), stride=(2, 2))\n",
       "      )\n",
       "      (blocks): Sequential(\n",
       "        (0): ConvNeXtBlock(\n",
       "          (conv_dw): Conv2d(384, 384, kernel_size=(7, 7), stride=(1, 1), padding=(3, 3), groups=384)\n",
       "          (norm): LayerNorm((384,), eps=1e-06, elementwise_affine=True)\n",
       "          (mlp): Mlp(\n",
       "            (fc1): Linear(in_features=384, out_features=1536, bias=True)\n",
       "            (act): GELU()\n",
       "            (drop1): Dropout(p=0.0, inplace=False)\n",
       "            (fc2): Linear(in_features=1536, out_features=384, bias=True)\n",
       "            (drop2): Dropout(p=0.0, inplace=False)\n",
       "          )\n",
       "          (drop_path): Identity()\n",
       "        )\n",
       "        (1): ConvNeXtBlock(\n",
       "          (conv_dw): Conv2d(384, 384, kernel_size=(7, 7), stride=(1, 1), padding=(3, 3), groups=384)\n",
       "          (norm): LayerNorm((384,), eps=1e-06, elementwise_affine=True)\n",
       "          (mlp): Mlp(\n",
       "            (fc1): Linear(in_features=384, out_features=1536, bias=True)\n",
       "            (act): GELU()\n",
       "            (drop1): Dropout(p=0.0, inplace=False)\n",
       "            (fc2): Linear(in_features=1536, out_features=384, bias=True)\n",
       "            (drop2): Dropout(p=0.0, inplace=False)\n",
       "          )\n",
       "          (drop_path): Identity()\n",
       "        )\n",
       "        (2): ConvNeXtBlock(\n",
       "          (conv_dw): Conv2d(384, 384, kernel_size=(7, 7), stride=(1, 1), padding=(3, 3), groups=384)\n",
       "          (norm): LayerNorm((384,), eps=1e-06, elementwise_affine=True)\n",
       "          (mlp): Mlp(\n",
       "            (fc1): Linear(in_features=384, out_features=1536, bias=True)\n",
       "            (act): GELU()\n",
       "            (drop1): Dropout(p=0.0, inplace=False)\n",
       "            (fc2): Linear(in_features=1536, out_features=384, bias=True)\n",
       "            (drop2): Dropout(p=0.0, inplace=False)\n",
       "          )\n",
       "          (drop_path): Identity()\n",
       "        )\n",
       "      )\n",
       "    )\n",
       "    (2): ConvNeXtStage(\n",
       "      (downsample): Sequential(\n",
       "        (0): LayerNorm2d((384,), eps=1e-06, elementwise_affine=True)\n",
       "        (1): Conv2d(384, 768, kernel_size=(2, 2), stride=(2, 2))\n",
       "      )\n",
       "      (blocks): Sequential(\n",
       "        (0): ConvNeXtBlock(\n",
       "          (conv_dw): Conv2d(768, 768, kernel_size=(7, 7), stride=(1, 1), padding=(3, 3), groups=768)\n",
       "          (norm): LayerNorm((768,), eps=1e-06, elementwise_affine=True)\n",
       "          (mlp): Mlp(\n",
       "            (fc1): Linear(in_features=768, out_features=3072, bias=True)\n",
       "            (act): GELU()\n",
       "            (drop1): Dropout(p=0.0, inplace=False)\n",
       "            (fc2): Linear(in_features=3072, out_features=768, bias=True)\n",
       "            (drop2): Dropout(p=0.0, inplace=False)\n",
       "          )\n",
       "          (drop_path): Identity()\n",
       "        )\n",
       "        (1): ConvNeXtBlock(\n",
       "          (conv_dw): Conv2d(768, 768, kernel_size=(7, 7), stride=(1, 1), padding=(3, 3), groups=768)\n",
       "          (norm): LayerNorm((768,), eps=1e-06, elementwise_affine=True)\n",
       "          (mlp): Mlp(\n",
       "            (fc1): Linear(in_features=768, out_features=3072, bias=True)\n",
       "            (act): GELU()\n",
       "            (drop1): Dropout(p=0.0, inplace=False)\n",
       "            (fc2): Linear(in_features=3072, out_features=768, bias=True)\n",
       "            (drop2): Dropout(p=0.0, inplace=False)\n",
       "          )\n",
       "          (drop_path): Identity()\n",
       "        )\n",
       "        (2): ConvNeXtBlock(\n",
       "          (conv_dw): Conv2d(768, 768, kernel_size=(7, 7), stride=(1, 1), padding=(3, 3), groups=768)\n",
       "          (norm): LayerNorm((768,), eps=1e-06, elementwise_affine=True)\n",
       "          (mlp): Mlp(\n",
       "            (fc1): Linear(in_features=768, out_features=3072, bias=True)\n",
       "            (act): GELU()\n",
       "            (drop1): Dropout(p=0.0, inplace=False)\n",
       "            (fc2): Linear(in_features=3072, out_features=768, bias=True)\n",
       "            (drop2): Dropout(p=0.0, inplace=False)\n",
       "          )\n",
       "          (drop_path): Identity()\n",
       "        )\n",
       "        (3): ConvNeXtBlock(\n",
       "          (conv_dw): Conv2d(768, 768, kernel_size=(7, 7), stride=(1, 1), padding=(3, 3), groups=768)\n",
       "          (norm): LayerNorm((768,), eps=1e-06, elementwise_affine=True)\n",
       "          (mlp): Mlp(\n",
       "            (fc1): Linear(in_features=768, out_features=3072, bias=True)\n",
       "            (act): GELU()\n",
       "            (drop1): Dropout(p=0.0, inplace=False)\n",
       "            (fc2): Linear(in_features=3072, out_features=768, bias=True)\n",
       "            (drop2): Dropout(p=0.0, inplace=False)\n",
       "          )\n",
       "          (drop_path): Identity()\n",
       "        )\n",
       "        (4): ConvNeXtBlock(\n",
       "          (conv_dw): Conv2d(768, 768, kernel_size=(7, 7), stride=(1, 1), padding=(3, 3), groups=768)\n",
       "          (norm): LayerNorm((768,), eps=1e-06, elementwise_affine=True)\n",
       "          (mlp): Mlp(\n",
       "            (fc1): Linear(in_features=768, out_features=3072, bias=True)\n",
       "            (act): GELU()\n",
       "            (drop1): Dropout(p=0.0, inplace=False)\n",
       "            (fc2): Linear(in_features=3072, out_features=768, bias=True)\n",
       "            (drop2): Dropout(p=0.0, inplace=False)\n",
       "          )\n",
       "          (drop_path): Identity()\n",
       "        )\n",
       "        (5): ConvNeXtBlock(\n",
       "          (conv_dw): Conv2d(768, 768, kernel_size=(7, 7), stride=(1, 1), padding=(3, 3), groups=768)\n",
       "          (norm): LayerNorm((768,), eps=1e-06, elementwise_affine=True)\n",
       "          (mlp): Mlp(\n",
       "            (fc1): Linear(in_features=768, out_features=3072, bias=True)\n",
       "            (act): GELU()\n",
       "            (drop1): Dropout(p=0.0, inplace=False)\n",
       "            (fc2): Linear(in_features=3072, out_features=768, bias=True)\n",
       "            (drop2): Dropout(p=0.0, inplace=False)\n",
       "          )\n",
       "          (drop_path): Identity()\n",
       "        )\n",
       "        (6): ConvNeXtBlock(\n",
       "          (conv_dw): Conv2d(768, 768, kernel_size=(7, 7), stride=(1, 1), padding=(3, 3), groups=768)\n",
       "          (norm): LayerNorm((768,), eps=1e-06, elementwise_affine=True)\n",
       "          (mlp): Mlp(\n",
       "            (fc1): Linear(in_features=768, out_features=3072, bias=True)\n",
       "            (act): GELU()\n",
       "            (drop1): Dropout(p=0.0, inplace=False)\n",
       "            (fc2): Linear(in_features=3072, out_features=768, bias=True)\n",
       "            (drop2): Dropout(p=0.0, inplace=False)\n",
       "          )\n",
       "          (drop_path): Identity()\n",
       "        )\n",
       "        (7): ConvNeXtBlock(\n",
       "          (conv_dw): Conv2d(768, 768, kernel_size=(7, 7), stride=(1, 1), padding=(3, 3), groups=768)\n",
       "          (norm): LayerNorm((768,), eps=1e-06, elementwise_affine=True)\n",
       "          (mlp): Mlp(\n",
       "            (fc1): Linear(in_features=768, out_features=3072, bias=True)\n",
       "            (act): GELU()\n",
       "            (drop1): Dropout(p=0.0, inplace=False)\n",
       "            (fc2): Linear(in_features=3072, out_features=768, bias=True)\n",
       "            (drop2): Dropout(p=0.0, inplace=False)\n",
       "          )\n",
       "          (drop_path): Identity()\n",
       "        )\n",
       "        (8): ConvNeXtBlock(\n",
       "          (conv_dw): Conv2d(768, 768, kernel_size=(7, 7), stride=(1, 1), padding=(3, 3), groups=768)\n",
       "          (norm): LayerNorm((768,), eps=1e-06, elementwise_affine=True)\n",
       "          (mlp): Mlp(\n",
       "            (fc1): Linear(in_features=768, out_features=3072, bias=True)\n",
       "            (act): GELU()\n",
       "            (drop1): Dropout(p=0.0, inplace=False)\n",
       "            (fc2): Linear(in_features=3072, out_features=768, bias=True)\n",
       "            (drop2): Dropout(p=0.0, inplace=False)\n",
       "          )\n",
       "          (drop_path): Identity()\n",
       "        )\n",
       "        (9): ConvNeXtBlock(\n",
       "          (conv_dw): Conv2d(768, 768, kernel_size=(7, 7), stride=(1, 1), padding=(3, 3), groups=768)\n",
       "          (norm): LayerNorm((768,), eps=1e-06, elementwise_affine=True)\n",
       "          (mlp): Mlp(\n",
       "            (fc1): Linear(in_features=768, out_features=3072, bias=True)\n",
       "            (act): GELU()\n",
       "            (drop1): Dropout(p=0.0, inplace=False)\n",
       "            (fc2): Linear(in_features=3072, out_features=768, bias=True)\n",
       "            (drop2): Dropout(p=0.0, inplace=False)\n",
       "          )\n",
       "          (drop_path): Identity()\n",
       "        )\n",
       "        (10): ConvNeXtBlock(\n",
       "          (conv_dw): Conv2d(768, 768, kernel_size=(7, 7), stride=(1, 1), padding=(3, 3), groups=768)\n",
       "          (norm): LayerNorm((768,), eps=1e-06, elementwise_affine=True)\n",
       "          (mlp): Mlp(\n",
       "            (fc1): Linear(in_features=768, out_features=3072, bias=True)\n",
       "            (act): GELU()\n",
       "            (drop1): Dropout(p=0.0, inplace=False)\n",
       "            (fc2): Linear(in_features=3072, out_features=768, bias=True)\n",
       "            (drop2): Dropout(p=0.0, inplace=False)\n",
       "          )\n",
       "          (drop_path): Identity()\n",
       "        )\n",
       "        (11): ConvNeXtBlock(\n",
       "          (conv_dw): Conv2d(768, 768, kernel_size=(7, 7), stride=(1, 1), padding=(3, 3), groups=768)\n",
       "          (norm): LayerNorm((768,), eps=1e-06, elementwise_affine=True)\n",
       "          (mlp): Mlp(\n",
       "            (fc1): Linear(in_features=768, out_features=3072, bias=True)\n",
       "            (act): GELU()\n",
       "            (drop1): Dropout(p=0.0, inplace=False)\n",
       "            (fc2): Linear(in_features=3072, out_features=768, bias=True)\n",
       "            (drop2): Dropout(p=0.0, inplace=False)\n",
       "          )\n",
       "          (drop_path): Identity()\n",
       "        )\n",
       "        (12): ConvNeXtBlock(\n",
       "          (conv_dw): Conv2d(768, 768, kernel_size=(7, 7), stride=(1, 1), padding=(3, 3), groups=768)\n",
       "          (norm): LayerNorm((768,), eps=1e-06, elementwise_affine=True)\n",
       "          (mlp): Mlp(\n",
       "            (fc1): Linear(in_features=768, out_features=3072, bias=True)\n",
       "            (act): GELU()\n",
       "            (drop1): Dropout(p=0.0, inplace=False)\n",
       "            (fc2): Linear(in_features=3072, out_features=768, bias=True)\n",
       "            (drop2): Dropout(p=0.0, inplace=False)\n",
       "          )\n",
       "          (drop_path): Identity()\n",
       "        )\n",
       "        (13): ConvNeXtBlock(\n",
       "          (conv_dw): Conv2d(768, 768, kernel_size=(7, 7), stride=(1, 1), padding=(3, 3), groups=768)\n",
       "          (norm): LayerNorm((768,), eps=1e-06, elementwise_affine=True)\n",
       "          (mlp): Mlp(\n",
       "            (fc1): Linear(in_features=768, out_features=3072, bias=True)\n",
       "            (act): GELU()\n",
       "            (drop1): Dropout(p=0.0, inplace=False)\n",
       "            (fc2): Linear(in_features=3072, out_features=768, bias=True)\n",
       "            (drop2): Dropout(p=0.0, inplace=False)\n",
       "          )\n",
       "          (drop_path): Identity()\n",
       "        )\n",
       "        (14): ConvNeXtBlock(\n",
       "          (conv_dw): Conv2d(768, 768, kernel_size=(7, 7), stride=(1, 1), padding=(3, 3), groups=768)\n",
       "          (norm): LayerNorm((768,), eps=1e-06, elementwise_affine=True)\n",
       "          (mlp): Mlp(\n",
       "            (fc1): Linear(in_features=768, out_features=3072, bias=True)\n",
       "            (act): GELU()\n",
       "            (drop1): Dropout(p=0.0, inplace=False)\n",
       "            (fc2): Linear(in_features=3072, out_features=768, bias=True)\n",
       "            (drop2): Dropout(p=0.0, inplace=False)\n",
       "          )\n",
       "          (drop_path): Identity()\n",
       "        )\n",
       "        (15): ConvNeXtBlock(\n",
       "          (conv_dw): Conv2d(768, 768, kernel_size=(7, 7), stride=(1, 1), padding=(3, 3), groups=768)\n",
       "          (norm): LayerNorm((768,), eps=1e-06, elementwise_affine=True)\n",
       "          (mlp): Mlp(\n",
       "            (fc1): Linear(in_features=768, out_features=3072, bias=True)\n",
       "            (act): GELU()\n",
       "            (drop1): Dropout(p=0.0, inplace=False)\n",
       "            (fc2): Linear(in_features=3072, out_features=768, bias=True)\n",
       "            (drop2): Dropout(p=0.0, inplace=False)\n",
       "          )\n",
       "          (drop_path): Identity()\n",
       "        )\n",
       "        (16): ConvNeXtBlock(\n",
       "          (conv_dw): Conv2d(768, 768, kernel_size=(7, 7), stride=(1, 1), padding=(3, 3), groups=768)\n",
       "          (norm): LayerNorm((768,), eps=1e-06, elementwise_affine=True)\n",
       "          (mlp): Mlp(\n",
       "            (fc1): Linear(in_features=768, out_features=3072, bias=True)\n",
       "            (act): GELU()\n",
       "            (drop1): Dropout(p=0.0, inplace=False)\n",
       "            (fc2): Linear(in_features=3072, out_features=768, bias=True)\n",
       "            (drop2): Dropout(p=0.0, inplace=False)\n",
       "          )\n",
       "          (drop_path): Identity()\n",
       "        )\n",
       "        (17): ConvNeXtBlock(\n",
       "          (conv_dw): Conv2d(768, 768, kernel_size=(7, 7), stride=(1, 1), padding=(3, 3), groups=768)\n",
       "          (norm): LayerNorm((768,), eps=1e-06, elementwise_affine=True)\n",
       "          (mlp): Mlp(\n",
       "            (fc1): Linear(in_features=768, out_features=3072, bias=True)\n",
       "            (act): GELU()\n",
       "            (drop1): Dropout(p=0.0, inplace=False)\n",
       "            (fc2): Linear(in_features=3072, out_features=768, bias=True)\n",
       "            (drop2): Dropout(p=0.0, inplace=False)\n",
       "          )\n",
       "          (drop_path): Identity()\n",
       "        )\n",
       "        (18): ConvNeXtBlock(\n",
       "          (conv_dw): Conv2d(768, 768, kernel_size=(7, 7), stride=(1, 1), padding=(3, 3), groups=768)\n",
       "          (norm): LayerNorm((768,), eps=1e-06, elementwise_affine=True)\n",
       "          (mlp): Mlp(\n",
       "            (fc1): Linear(in_features=768, out_features=3072, bias=True)\n",
       "            (act): GELU()\n",
       "            (drop1): Dropout(p=0.0, inplace=False)\n",
       "            (fc2): Linear(in_features=3072, out_features=768, bias=True)\n",
       "            (drop2): Dropout(p=0.0, inplace=False)\n",
       "          )\n",
       "          (drop_path): Identity()\n",
       "        )\n",
       "        (19): ConvNeXtBlock(\n",
       "          (conv_dw): Conv2d(768, 768, kernel_size=(7, 7), stride=(1, 1), padding=(3, 3), groups=768)\n",
       "          (norm): LayerNorm((768,), eps=1e-06, elementwise_affine=True)\n",
       "          (mlp): Mlp(\n",
       "            (fc1): Linear(in_features=768, out_features=3072, bias=True)\n",
       "            (act): GELU()\n",
       "            (drop1): Dropout(p=0.0, inplace=False)\n",
       "            (fc2): Linear(in_features=3072, out_features=768, bias=True)\n",
       "            (drop2): Dropout(p=0.0, inplace=False)\n",
       "          )\n",
       "          (drop_path): Identity()\n",
       "        )\n",
       "        (20): ConvNeXtBlock(\n",
       "          (conv_dw): Conv2d(768, 768, kernel_size=(7, 7), stride=(1, 1), padding=(3, 3), groups=768)\n",
       "          (norm): LayerNorm((768,), eps=1e-06, elementwise_affine=True)\n",
       "          (mlp): Mlp(\n",
       "            (fc1): Linear(in_features=768, out_features=3072, bias=True)\n",
       "            (act): GELU()\n",
       "            (drop1): Dropout(p=0.0, inplace=False)\n",
       "            (fc2): Linear(in_features=3072, out_features=768, bias=True)\n",
       "            (drop2): Dropout(p=0.0, inplace=False)\n",
       "          )\n",
       "          (drop_path): Identity()\n",
       "        )\n",
       "        (21): ConvNeXtBlock(\n",
       "          (conv_dw): Conv2d(768, 768, kernel_size=(7, 7), stride=(1, 1), padding=(3, 3), groups=768)\n",
       "          (norm): LayerNorm((768,), eps=1e-06, elementwise_affine=True)\n",
       "          (mlp): Mlp(\n",
       "            (fc1): Linear(in_features=768, out_features=3072, bias=True)\n",
       "            (act): GELU()\n",
       "            (drop1): Dropout(p=0.0, inplace=False)\n",
       "            (fc2): Linear(in_features=3072, out_features=768, bias=True)\n",
       "            (drop2): Dropout(p=0.0, inplace=False)\n",
       "          )\n",
       "          (drop_path): Identity()\n",
       "        )\n",
       "        (22): ConvNeXtBlock(\n",
       "          (conv_dw): Conv2d(768, 768, kernel_size=(7, 7), stride=(1, 1), padding=(3, 3), groups=768)\n",
       "          (norm): LayerNorm((768,), eps=1e-06, elementwise_affine=True)\n",
       "          (mlp): Mlp(\n",
       "            (fc1): Linear(in_features=768, out_features=3072, bias=True)\n",
       "            (act): GELU()\n",
       "            (drop1): Dropout(p=0.0, inplace=False)\n",
       "            (fc2): Linear(in_features=3072, out_features=768, bias=True)\n",
       "            (drop2): Dropout(p=0.0, inplace=False)\n",
       "          )\n",
       "          (drop_path): Identity()\n",
       "        )\n",
       "        (23): ConvNeXtBlock(\n",
       "          (conv_dw): Conv2d(768, 768, kernel_size=(7, 7), stride=(1, 1), padding=(3, 3), groups=768)\n",
       "          (norm): LayerNorm((768,), eps=1e-06, elementwise_affine=True)\n",
       "          (mlp): Mlp(\n",
       "            (fc1): Linear(in_features=768, out_features=3072, bias=True)\n",
       "            (act): GELU()\n",
       "            (drop1): Dropout(p=0.0, inplace=False)\n",
       "            (fc2): Linear(in_features=3072, out_features=768, bias=True)\n",
       "            (drop2): Dropout(p=0.0, inplace=False)\n",
       "          )\n",
       "          (drop_path): Identity()\n",
       "        )\n",
       "        (24): ConvNeXtBlock(\n",
       "          (conv_dw): Conv2d(768, 768, kernel_size=(7, 7), stride=(1, 1), padding=(3, 3), groups=768)\n",
       "          (norm): LayerNorm((768,), eps=1e-06, elementwise_affine=True)\n",
       "          (mlp): Mlp(\n",
       "            (fc1): Linear(in_features=768, out_features=3072, bias=True)\n",
       "            (act): GELU()\n",
       "            (drop1): Dropout(p=0.0, inplace=False)\n",
       "            (fc2): Linear(in_features=3072, out_features=768, bias=True)\n",
       "            (drop2): Dropout(p=0.0, inplace=False)\n",
       "          )\n",
       "          (drop_path): Identity()\n",
       "        )\n",
       "        (25): ConvNeXtBlock(\n",
       "          (conv_dw): Conv2d(768, 768, kernel_size=(7, 7), stride=(1, 1), padding=(3, 3), groups=768)\n",
       "          (norm): LayerNorm((768,), eps=1e-06, elementwise_affine=True)\n",
       "          (mlp): Mlp(\n",
       "            (fc1): Linear(in_features=768, out_features=3072, bias=True)\n",
       "            (act): GELU()\n",
       "            (drop1): Dropout(p=0.0, inplace=False)\n",
       "            (fc2): Linear(in_features=3072, out_features=768, bias=True)\n",
       "            (drop2): Dropout(p=0.0, inplace=False)\n",
       "          )\n",
       "          (drop_path): Identity()\n",
       "        )\n",
       "        (26): ConvNeXtBlock(\n",
       "          (conv_dw): Conv2d(768, 768, kernel_size=(7, 7), stride=(1, 1), padding=(3, 3), groups=768)\n",
       "          (norm): LayerNorm((768,), eps=1e-06, elementwise_affine=True)\n",
       "          (mlp): Mlp(\n",
       "            (fc1): Linear(in_features=768, out_features=3072, bias=True)\n",
       "            (act): GELU()\n",
       "            (drop1): Dropout(p=0.0, inplace=False)\n",
       "            (fc2): Linear(in_features=3072, out_features=768, bias=True)\n",
       "            (drop2): Dropout(p=0.0, inplace=False)\n",
       "          )\n",
       "          (drop_path): Identity()\n",
       "        )\n",
       "      )\n",
       "    )\n",
       "    (3): ConvNeXtStage(\n",
       "      (downsample): Sequential(\n",
       "        (0): LayerNorm2d((768,), eps=1e-06, elementwise_affine=True)\n",
       "        (1): Conv2d(768, 1536, kernel_size=(2, 2), stride=(2, 2))\n",
       "      )\n",
       "      (blocks): Sequential(\n",
       "        (0): ConvNeXtBlock(\n",
       "          (conv_dw): Conv2d(1536, 1536, kernel_size=(7, 7), stride=(1, 1), padding=(3, 3), groups=1536)\n",
       "          (norm): LayerNorm((1536,), eps=1e-06, elementwise_affine=True)\n",
       "          (mlp): Mlp(\n",
       "            (fc1): Linear(in_features=1536, out_features=6144, bias=True)\n",
       "            (act): GELU()\n",
       "            (drop1): Dropout(p=0.0, inplace=False)\n",
       "            (fc2): Linear(in_features=6144, out_features=1536, bias=True)\n",
       "            (drop2): Dropout(p=0.0, inplace=False)\n",
       "          )\n",
       "          (drop_path): Identity()\n",
       "        )\n",
       "        (1): ConvNeXtBlock(\n",
       "          (conv_dw): Conv2d(1536, 1536, kernel_size=(7, 7), stride=(1, 1), padding=(3, 3), groups=1536)\n",
       "          (norm): LayerNorm((1536,), eps=1e-06, elementwise_affine=True)\n",
       "          (mlp): Mlp(\n",
       "            (fc1): Linear(in_features=1536, out_features=6144, bias=True)\n",
       "            (act): GELU()\n",
       "            (drop1): Dropout(p=0.0, inplace=False)\n",
       "            (fc2): Linear(in_features=6144, out_features=1536, bias=True)\n",
       "            (drop2): Dropout(p=0.0, inplace=False)\n",
       "          )\n",
       "          (drop_path): Identity()\n",
       "        )\n",
       "        (2): ConvNeXtBlock(\n",
       "          (conv_dw): Conv2d(1536, 1536, kernel_size=(7, 7), stride=(1, 1), padding=(3, 3), groups=1536)\n",
       "          (norm): LayerNorm((1536,), eps=1e-06, elementwise_affine=True)\n",
       "          (mlp): Mlp(\n",
       "            (fc1): Linear(in_features=1536, out_features=6144, bias=True)\n",
       "            (act): GELU()\n",
       "            (drop1): Dropout(p=0.0, inplace=False)\n",
       "            (fc2): Linear(in_features=6144, out_features=1536, bias=True)\n",
       "            (drop2): Dropout(p=0.0, inplace=False)\n",
       "          )\n",
       "          (drop_path): Identity()\n",
       "        )\n",
       "      )\n",
       "    )\n",
       "  )\n",
       "  (norm_pre): Identity()\n",
       "  (head): Sequential(\n",
       "    (global_pool): SelectAdaptivePool2d (pool_type=avg, flatten=Identity())\n",
       "    (norm): LayerNorm2d((1536,), eps=1e-06, elementwise_affine=True)\n",
       "    (flatten): Flatten(start_dim=1, end_dim=-1)\n",
       "    (drop): Dropout(p=0.0, inplace=False)\n",
       "    (fc): Linear(in_features=1536, out_features=49, bias=True)\n",
       "  )\n",
       ")"
      ]
     },
     "execution_count": 186,
     "metadata": {},
     "output_type": "execute_result"
    }
   ],
   "source": [
    "import cv2\n",
    "import timm\n",
    "import torch\n",
    "from tqdm import tqdm\n",
    "from pathlib import Path\n",
    "\n",
    "n_classes = len(list_labels)\n",
    "#name_experiment = 'augoff'\n",
    "device = 'cpu' # 'cuda:2'\n",
    "batch_size = 32\n",
    "threshold = 0.5\n",
    "\n",
    "#path_weights = f'../logs/{name_experiment}/{name_experiment}_prec_0.761.pth'\n",
    "\n",
    "model = timm.create_model('convnext_large_in22k', pretrained=False, num_classes=n_classes)\n",
    "#checkpoint = torch.load(path_weights, map_location=torch.device(device))\n",
    "#model.load_state_dict(checkpoint['model_state_dict'])\n",
    "model.to(device)"
   ]
  },
  {
   "cell_type": "code",
   "execution_count": 187,
   "id": "1ef7821a",
   "metadata": {
    "tags": []
   },
   "outputs": [],
   "source": [
    "import albumentations as A\n",
    "import albumentations.pytorch\n",
    "\n",
    "\n",
    "\n",
    "transforms = A.Compose(\n",
    "    [\n",
    "        A.Resize(width=224, height=224),\n",
    "        A.Normalize(\n",
    "                mean=[0.485, 0.456, 0.406],\n",
    "                std=[0.229, 0.224, 0.225],\n",
    "                max_pixel_value=255.0,\n",
    "            ),\n",
    "        A.pytorch.ToTensorV2()\n",
    "    ]\n",
    ")"
   ]
  },
  {
   "cell_type": "code",
   "execution_count": 188,
   "id": "6763b1ac",
   "metadata": {
    "tags": []
   },
   "outputs": [],
   "source": [
    "import cv2\n",
    "import torch\n",
    "import pandas as pd\n",
    "from torch.utils.data import Dataset\n",
    "from torch.utils.data import DataLoader\n",
    "\n",
    "\n",
    "\n",
    "class ImageDataset(Dataset):\n",
    "    def __init__(self, path_imgs: str, transforms=None):\n",
    "        \"\"\"\n",
    "        :param path_imgs: path to image folder.\n",
    "        \"\"\"\n",
    "\n",
    "        self.path_imgs = [str(path_img) for path_img in Path(path_imgs).rglob('*.jpg')]\n",
    "        self.transforms = transforms\n",
    "    \n",
    "    def __len__(self):\n",
    "        return len(self.path_imgs)\n",
    "    \n",
    "    def __getitem__(self, index):\n",
    "        \n",
    "        path_img = self.path_imgs[index]\n",
    "\n",
    "        img = cv2.imread(path_img)\n",
    "        img = cv2.cvtColor(img, cv2.COLOR_BGR2RGB)\n",
    "        \n",
    "        if self.transforms:\n",
    "            transformered = self.transforms(image=img)\n",
    "            image_tensor = transformered['image']\n",
    "                    \n",
    "        return image_tensor"
   ]
  },
  {
   "cell_type": "code",
   "execution_count": 198,
   "id": "0a05fd3d-0b0a-4aad-a8ad-a4426661542b",
   "metadata": {
    "tags": []
   },
   "outputs": [
    {
     "data": {
      "text/plain": [
       "[]"
      ]
     },
     "execution_count": 198,
     "metadata": {},
     "output_type": "execute_result"
    }
   ],
   "source": [
    "[str(path_img) for path_img in Path(path_imgs).rglob('*.jpg')]"
   ]
  },
  {
   "cell_type": "code",
   "execution_count": 199,
   "id": "d36f7a75-cc09-45cd-8980-d246aa00219d",
   "metadata": {
    "tags": []
   },
   "outputs": [
    {
     "data": {
      "text/plain": [
       "'../data/test_pipeline'"
      ]
     },
     "execution_count": 199,
     "metadata": {},
     "output_type": "execute_result"
    }
   ],
   "source": [
    "path_imgs"
   ]
  },
  {
   "cell_type": "code",
   "execution_count": 200,
   "id": "5e4c4375",
   "metadata": {
    "tags": []
   },
   "outputs": [],
   "source": [
    "batch_size = 32\n",
    "\n",
    "path_imgs = '../data/datasets/test_pipeline'\n",
    "\n",
    "ds = ImageDataset(path_imgs, transforms)\n",
    "dl = DataLoader(ds, batch_size=batch_size, shuffle=False)"
   ]
  },
  {
   "cell_type": "markdown",
   "id": "fdec9135-ee07-4bb6-b0fc-5f387856aeae",
   "metadata": {},
   "source": [
    "### Select images by bad_light"
   ]
  },
  {
   "cell_type": "markdown",
   "id": "724e2bae-2707-4967-8e1c-eaaa2f4eb97c",
   "metadata": {},
   "source": [
    "В текущей модели у нас добавлен лейбл `bad_light`, которым помечаются изображения с площим освещением. Данные снимки брать в обработку не нужно, поэтому на первом шаге, необходимо отфильтровать кадры с хорошим освещением."
   ]
  },
  {
   "cell_type": "markdown",
   "id": "9cc60dd4-2bf5-4039-8261-3ea14b388bfd",
   "metadata": {},
   "source": [
    "Смоделируем outputs модели, где по столбцам вероятность принадлежности к классу `i`, по строкам предсказания для `j` кадра."
   ]
  },
  {
   "cell_type": "code",
   "execution_count": 163,
   "id": "0dd8f9f2-60d8-4b8a-a48f-6a2be948868d",
   "metadata": {
    "collapsed": true,
    "jupyter": {
     "outputs_hidden": true
    },
    "tags": []
   },
   "outputs": [
    {
     "data": {
      "text/plain": [
       "tensor([[0.0132, 0.1191, 0.4634, 0.5433, 0.6422, 0.2907, 0.1031, 0.6845, 0.4375,\n",
       "         0.9361, 0.9824, 0.7810, 0.5580, 0.3165, 0.5501, 0.3600, 0.9709, 0.4909,\n",
       "         0.3307, 0.1969, 0.4762, 0.6966, 0.0160, 0.2784, 0.7320, 0.7752, 0.3759,\n",
       "         0.6463, 0.0125, 0.7651, 0.1798, 0.6887, 0.2308, 0.2498, 0.8134, 0.9904,\n",
       "         0.9283, 0.3224, 0.7209, 0.3008, 0.0240, 0.8241, 0.1160, 0.3642, 0.4064,\n",
       "         0.4140, 0.6763, 0.0366, 0.0945],\n",
       "        [0.2843, 0.8375, 0.6709, 0.4286, 0.4039, 0.2979, 0.3247, 0.0804, 0.7437,\n",
       "         0.1550, 0.4121, 0.8519, 0.3496, 0.2050, 0.0592, 0.4823, 0.6536, 0.2913,\n",
       "         0.2144, 0.8003, 0.6498, 0.5177, 0.5357, 0.3939, 0.9848, 0.3882, 0.8695,\n",
       "         0.4248, 0.7572, 0.8036, 0.7851, 0.4504, 0.6061, 0.7080, 0.2611, 0.7825,\n",
       "         0.7100, 0.9793, 0.1161, 0.4674, 0.3864, 0.0169, 0.2645, 0.3319, 0.1123,\n",
       "         0.2996, 0.3205, 0.7803, 0.9383],\n",
       "        [0.2246, 0.0456, 0.6384, 0.7444, 0.5565, 0.2161, 0.7019, 0.3620, 0.3872,\n",
       "         0.4568, 0.2382, 0.8570, 0.6356, 0.5570, 0.6486, 0.3442, 0.8688, 0.3813,\n",
       "         0.6756, 0.4540, 0.0664, 0.4569, 0.2206, 0.4301, 0.8230, 0.5331, 0.3367,\n",
       "         0.5858, 0.4333, 0.0137, 0.7718, 0.7384, 0.0944, 0.8931, 0.5248, 0.7328,\n",
       "         0.4919, 0.6733, 0.7026, 0.2230, 0.4808, 0.5978, 0.2582, 0.0246, 0.1533,\n",
       "         0.1407, 0.8807, 0.3969, 0.1133]])"
      ]
     },
     "execution_count": 163,
     "metadata": {},
     "output_type": "execute_result"
    }
   ],
   "source": [
    "import torch\n",
    "\n",
    "# кол-во кадров\n",
    "num_rows = 3\n",
    "# кол-во лейблов + 1 (функция arange не формирует последний индекс)  \n",
    "num_cols = 49\n",
    "threshold = 0.5\n",
    "\n",
    "outputs = torch.rand((num_rows, num_cols))\n",
    "outputs"
   ]
  },
  {
   "cell_type": "code",
   "execution_count": 164,
   "id": "21207a1e-1971-408a-8aee-cd0abf9aa559",
   "metadata": {
    "tags": []
   },
   "outputs": [
    {
     "data": {
      "text/plain": [
       "torch.Size([3, 49])"
      ]
     },
     "execution_count": 164,
     "metadata": {},
     "output_type": "execute_result"
    }
   ],
   "source": [
    "outputs.shape"
   ]
  },
  {
   "cell_type": "code",
   "execution_count": 165,
   "id": "0b897b42-8089-418f-af85-3ea196deedb8",
   "metadata": {
    "tags": []
   },
   "outputs": [
    {
     "data": {
      "text/plain": [
       "tensor([0.0945, 0.9383, 0.1133])"
      ]
     },
     "execution_count": 165,
     "metadata": {},
     "output_type": "execute_result"
    }
   ],
   "source": [
    "outputs[:, -1]"
   ]
  },
  {
   "cell_type": "code",
   "execution_count": 166,
   "id": "b8f19260-5881-4534-8a9e-9c6aeb332929",
   "metadata": {
    "tags": []
   },
   "outputs": [],
   "source": [
    "threshold = 0.5"
   ]
  },
  {
   "cell_type": "code",
   "execution_count": 167,
   "id": "2db4f7c6-5edc-45e6-8f8b-aaf4c8ed5929",
   "metadata": {
    "tags": []
   },
   "outputs": [],
   "source": [
    "selected_outputs = outputs[outputs[:, 48] < threshold]"
   ]
  },
  {
   "cell_type": "code",
   "execution_count": 168,
   "id": "86b333f6-60eb-4654-b631-ad1729eee287",
   "metadata": {
    "tags": []
   },
   "outputs": [
    {
     "data": {
      "text/plain": [
       "torch.Size([2, 49])"
      ]
     },
     "execution_count": 168,
     "metadata": {},
     "output_type": "execute_result"
    }
   ],
   "source": [
    "selected_outputs.shape"
   ]
  },
  {
   "cell_type": "code",
   "execution_count": 169,
   "id": "18825cae-c153-4b37-b076-1f7e60a21a29",
   "metadata": {
    "tags": []
   },
   "outputs": [
    {
     "data": {
      "text/plain": [
       "tensor([0.0945, 0.1133])"
      ]
     },
     "execution_count": 169,
     "metadata": {},
     "output_type": "execute_result"
    }
   ],
   "source": [
    "selected_outputs[:, -1]"
   ]
  },
  {
   "cell_type": "markdown",
   "id": "623adf36",
   "metadata": {},
   "source": [
    "### Regrouping"
   ]
  },
  {
   "cell_type": "markdown",
   "id": "c2189d1f",
   "metadata": {},
   "source": [
    "Чтобы удобно было обработать предсказания модели, нужно перегруппировать лейблы. Логически сгруппировать лейблы, чтобы в группе мы могли отобрать только одно предсказание. И все остальные, где может быть любое кол-во лейблов. "
   ]
  },
  {
   "cell_type": "markdown",
   "id": "0b973e4e-7578-43aa-91eb-4a6e6438a746",
   "metadata": {},
   "source": [
    "Смоделируем outputs модели, где по столбцам вероятность принадлежности к классу `i`, по строкам предсказания для `j` кадра."
   ]
  },
  {
   "cell_type": "markdown",
   "id": "6e461ed6",
   "metadata": {},
   "source": [
    "индекс лейбл описание\n",
    "\n",
    "**Классификация помещения**\n",
    "\n",
    "0 `room`: комната.\n",
    "\n",
    "1 `bathroom`: ванная комната.\n",
    "\n",
    "2 `inner_corridor`: коридор внутри квартиры.\n",
    "\n",
    "3 `public_place`: общественное место.\n",
    "\n",
    "47 `pantry`: кладовка.\n",
    "\n",
    "**Отделка пола**\n",
    "\n",
    "4 `floor_finish`: пол чистовая отделка.\n",
    "\n",
    "5 `floor_init`: пол черновая отделка.\n",
    "\n",
    "15 `floor_without`: пол без отделки.\n",
    "\n",
    "**Отделка потолка**\n",
    "\n",
    "6 `ceiling_finish`: потолок чистовая отделка.\n",
    "\n",
    "16 `ceiling_without`: потолок без отделки.\n",
    "\n",
    "**Отделка стен**\n",
    "\n",
    "7 `wall_finish`: стена чистовая отделка.\n",
    "\n",
    "8 `wall_init`: стена черновая отделка.\n",
    "\n",
    "17 `wall_without`: стены без отделки.\n",
    "\n",
    "**Все остальные**\n",
    "\n",
    "9 `door_room`: дверь есть.\n",
    "\n",
    "10 `toilet_yes`: унитаз есть.\n",
    "\n",
    "11 `bath_yes`: ванна есть.\n",
    "\n",
    "12 `esocket_yes`: электрическая розетка или выключатель есть.\n",
    "\n",
    "13 `kitchen_furniture_yes`: кухонная мебель есть.\n",
    "\n",
    "14 `radiator`: батарея.\n",
    "\n",
    "18 `window_trim`: отделка окна (подоконник, откосы).\n",
    "\n",
    "19 `window`: проем для окна.\n",
    "\n",
    "20 `floor_pipes`: напольные трубы отопления.\n",
    "\n",
    "21 `garbage`: мусор.\n",
    "\n",
    "22 `place_door`: проем для двери.\n",
    "\n",
    "23 `place_radiator`: место для радиатора.\n",
    "\n",
    "24 `ventilation_shaft`: вентиляционная шахта.\n",
    "\n",
    "25 `sink_yes`: раковина есть.\n",
    "\n",
    "26 `conditioner`: кондиционер.\n",
    "\n",
    "27 `smoke_detector`: датчик дыма.\n",
    "\n",
    "28 `ventilation_grille`: решетка вентиляции.\n",
    "\n",
    "29 `fire_detectors`: извещатель (запуск сигнала о пожаре).\n",
    "\n",
    "30 `dynamics`: динамик.\n",
    "\n",
    "31 `switch_box_flat`: электрический щиток квартирный.\n",
    "\n",
    "32 `switch_box_public`: электрический щиток моп.\n",
    "\n",
    "33 `xbk`: канализационная труба.\n",
    "\n",
    "34 `water_pipes_mop`: стояки ГВС и ХВС в МОП.\n",
    "\n",
    "35 `water_pipes_flat`: стояки ГВС и ХВС в квартире.\n",
    "\n",
    "36 `water_meter`: счетчик воды.\n",
    "\n",
    "37 `heating_riser`: стояк отопления (подводка к батареи).\n",
    "\n",
    "38 `smoke_exhaust_valve`: клапан дымоудаления.\n",
    "\n",
    "39 `electrical_cable`: электрический кабель.\n",
    "\n",
    "40 `electrical_riser`: разводка магистральных стояков.\n",
    "\n",
    "41 `lamp`: светильники.\n",
    "\n",
    "42 `door_mop`: дверь МОП.\n",
    "\n",
    "43 `door_entrance`: дверь входная в квартиру.\n",
    "\n",
    "44 `socket_box`: подрозетники и выключатели.\n",
    "\n",
    "45 `tongue_groove _blocks`: пазогребневые блоки.\n",
    "\n",
    "46 `tile_plinth`: плиточный плинтус.\n",
    "\n",
    "48 `bad_light`: кадр с плохим освещением."
   ]
  },
  {
   "cell_type": "markdown",
   "id": "ef084b3f",
   "metadata": {},
   "source": [
    "Создадим последовательность индексов так, чтобы в каждом столбце был i-й индекс. Чтобы по индексам сверять правильность перегрупировки."
   ]
  },
  {
   "cell_type": "code",
   "execution_count": 170,
   "id": "8d89549e",
   "metadata": {
    "tags": []
   },
   "outputs": [
    {
     "name": "stdout",
     "output_type": "stream",
     "text": [
      "tensor([[ 0,  1,  2,  3,  4,  5,  6,  7,  8,  9, 10, 11, 12, 13, 14, 15, 16, 17,\n",
      "         18, 19, 20, 21, 22, 23, 24, 25, 26, 27, 28, 29, 30, 31, 32, 33, 34, 35,\n",
      "         36, 37, 38, 39, 40, 41, 42, 43, 44, 45, 46, 47, 48],\n",
      "        [ 0,  1,  2,  3,  4,  5,  6,  7,  8,  9, 10, 11, 12, 13, 14, 15, 16, 17,\n",
      "         18, 19, 20, 21, 22, 23, 24, 25, 26, 27, 28, 29, 30, 31, 32, 33, 34, 35,\n",
      "         36, 37, 38, 39, 40, 41, 42, 43, 44, 45, 46, 47, 48],\n",
      "        [ 0,  1,  2,  3,  4,  5,  6,  7,  8,  9, 10, 11, 12, 13, 14, 15, 16, 17,\n",
      "         18, 19, 20, 21, 22, 23, 24, 25, 26, 27, 28, 29, 30, 31, 32, 33, 34, 35,\n",
      "         36, 37, 38, 39, 40, 41, 42, 43, 44, 45, 46, 47, 48]])\n"
     ]
    }
   ],
   "source": [
    "import torch\n",
    "\n",
    "# кол-во кадров\n",
    "num_rows = 3\n",
    "# кол-во лейблов + 1 (функция arange не формирует последний индекс)  \n",
    "num_cols = 49\n",
    "\n",
    "sequence = torch.arange(num_cols)\n",
    "\n",
    "outputs = sequence.repeat(num_rows, 1)\n",
    "\n",
    "print(outputs)"
   ]
  },
  {
   "cell_type": "code",
   "execution_count": 171,
   "id": "670d710e-2db3-422d-8fe1-ca4e61eccab5",
   "metadata": {
    "tags": []
   },
   "outputs": [
    {
     "data": {
      "text/plain": [
       "tensor([[ 0,  1,  2,  3, 47],\n",
       "        [ 0,  1,  2,  3, 47],\n",
       "        [ 0,  1,  2,  3, 47]])"
      ]
     },
     "execution_count": 171,
     "metadata": {},
     "output_type": "execute_result"
    }
   ],
   "source": [
    "rooms = torch.hstack((outputs[:, :4], outputs[:, 47].unsqueeze(1)))\n",
    "rooms"
   ]
  },
  {
   "cell_type": "code",
   "execution_count": 172,
   "id": "1cb3873f",
   "metadata": {
    "tags": []
   },
   "outputs": [
    {
     "data": {
      "text/plain": [
       "tensor([[ 4,  5, 15],\n",
       "        [ 4,  5, 15],\n",
       "        [ 4,  5, 15]])"
      ]
     },
     "execution_count": 172,
     "metadata": {},
     "output_type": "execute_result"
    }
   ],
   "source": [
    "floors = torch.hstack((outputs[:, 4:6], outputs[:, 15].unsqueeze(1)))\n",
    "floors"
   ]
  },
  {
   "cell_type": "code",
   "execution_count": 173,
   "id": "a63ede14",
   "metadata": {
    "tags": []
   },
   "outputs": [
    {
     "data": {
      "text/plain": [
       "tensor([[ 6, 16],\n",
       "        [ 6, 16],\n",
       "        [ 6, 16]])"
      ]
     },
     "execution_count": 173,
     "metadata": {},
     "output_type": "execute_result"
    }
   ],
   "source": [
    "ceilings = torch.hstack((outputs[:, 6].unsqueeze(1), outputs[:, 16].unsqueeze(1)))\n",
    "ceilings"
   ]
  },
  {
   "cell_type": "code",
   "execution_count": 174,
   "id": "09e08e3a",
   "metadata": {
    "tags": []
   },
   "outputs": [
    {
     "data": {
      "text/plain": [
       "tensor([[ 7,  8, 17],\n",
       "        [ 7,  8, 17],\n",
       "        [ 7,  8, 17]])"
      ]
     },
     "execution_count": 174,
     "metadata": {},
     "output_type": "execute_result"
    }
   ],
   "source": [
    "walls = torch.hstack((outputs[:, 7:9], outputs[:, 17].unsqueeze(1)))\n",
    "walls"
   ]
  },
  {
   "cell_type": "code",
   "execution_count": 175,
   "id": "b2dec75b",
   "metadata": {
    "tags": []
   },
   "outputs": [
    {
     "data": {
      "text/plain": [
       "tensor([ 9, 10, 11, 12, 13, 14, 18, 19, 20, 21, 22, 23, 24, 25, 26, 27, 28, 29,\n",
       "        30, 31, 32, 33, 34, 35, 36, 37, 38, 39, 40, 41, 42, 43, 44, 45, 46, 48])"
      ]
     },
     "execution_count": 175,
     "metadata": {},
     "output_type": "execute_result"
    }
   ],
   "source": [
    "exclude = [15, 16, 17, 47]\n",
    "\n",
    "column_keep = torch.tensor([x for x in range(9, 49) if x not in exclude])\n",
    "column_keep"
   ]
  },
  {
   "cell_type": "code",
   "execution_count": 176,
   "id": "c1118cd0",
   "metadata": {
    "tags": []
   },
   "outputs": [
    {
     "data": {
      "text/plain": [
       "tensor([[ 9, 10, 11, 12, 13, 14, 18, 19, 20, 21, 22, 23, 24, 25, 26, 27, 28, 29,\n",
       "         30, 31, 32, 33, 34, 35, 36, 37, 38, 39, 40, 41, 42, 43, 44, 45, 46, 48],\n",
       "        [ 9, 10, 11, 12, 13, 14, 18, 19, 20, 21, 22, 23, 24, 25, 26, 27, 28, 29,\n",
       "         30, 31, 32, 33, 34, 35, 36, 37, 38, 39, 40, 41, 42, 43, 44, 45, 46, 48],\n",
       "        [ 9, 10, 11, 12, 13, 14, 18, 19, 20, 21, 22, 23, 24, 25, 26, 27, 28, 29,\n",
       "         30, 31, 32, 33, 34, 35, 36, 37, 38, 39, 40, 41, 42, 43, 44, 45, 46, 48]])"
      ]
     },
     "execution_count": 176,
     "metadata": {},
     "output_type": "execute_result"
    }
   ],
   "source": [
    "other = torch.index_select(outputs, dim=1, index=column_keep)\n",
    "other"
   ]
  },
  {
   "cell_type": "code",
   "execution_count": 177,
   "id": "1c0d857b",
   "metadata": {
    "tags": []
   },
   "outputs": [
    {
     "data": {
      "text/plain": [
       "tensor([[ 0,  1,  2,  3, 47,  4,  5, 15,  6, 16,  7,  8, 17,  9, 10, 11, 12, 13,\n",
       "         14, 18, 19, 20, 21, 22, 23, 24, 25, 26, 27, 28, 29, 30, 31, 32, 33, 34,\n",
       "         35, 36, 37, 38, 39, 40, 41, 42, 43, 44, 45, 46, 48],\n",
       "        [ 0,  1,  2,  3, 47,  4,  5, 15,  6, 16,  7,  8, 17,  9, 10, 11, 12, 13,\n",
       "         14, 18, 19, 20, 21, 22, 23, 24, 25, 26, 27, 28, 29, 30, 31, 32, 33, 34,\n",
       "         35, 36, 37, 38, 39, 40, 41, 42, 43, 44, 45, 46, 48],\n",
       "        [ 0,  1,  2,  3, 47,  4,  5, 15,  6, 16,  7,  8, 17,  9, 10, 11, 12, 13,\n",
       "         14, 18, 19, 20, 21, 22, 23, 24, 25, 26, 27, 28, 29, 30, 31, 32, 33, 34,\n",
       "         35, 36, 37, 38, 39, 40, 41, 42, 43, 44, 45, 46, 48]])"
      ]
     },
     "execution_count": 177,
     "metadata": {},
     "output_type": "execute_result"
    }
   ],
   "source": [
    "regrouped = torch.hstack((rooms, floors, ceilings, walls, other))\n",
    "regrouped"
   ]
  },
  {
   "cell_type": "code",
   "execution_count": 178,
   "id": "d074f72e",
   "metadata": {
    "tags": []
   },
   "outputs": [],
   "source": [
    "def regrouping(outputs: torch.tensor) -> torch.tensor:\n",
    "    \"\"\"Regroup model predictions for convenient further processing.\"\"\"\n",
    "    \n",
    "    rooms = torch.hstack((outputs[:, :4], outputs[:, 47].unsqueeze(1)))\n",
    "    floors = torch.hstack((outputs[:, 4:6], outputs[:, 15].unsqueeze(1)))\n",
    "    ceilings = torch.hstack((outputs[:, 6].unsqueeze(1), outputs[:, 16].unsqueeze(1)))\n",
    "    walls = torch.hstack((outputs[:, 7:9], outputs[:, 17].unsqueeze(1)))\n",
    "    \n",
    "    exclude = [15, 16, 17, 47]\n",
    "    column_keep = torch.tensor([x for x in range(9, 49) if x not in exclude])\n",
    "    other = torch.index_select(outputs, dim=1, index=column_keep)\n",
    "    \n",
    "    return torch.hstack((rooms, floors, ceilings, walls, other))"
   ]
  },
  {
   "cell_type": "code",
   "execution_count": 179,
   "id": "fff6ffa6",
   "metadata": {
    "tags": []
   },
   "outputs": [
    {
     "data": {
      "text/plain": [
       "tensor([[ 0,  1,  2,  3, 47,  4,  5, 15,  6, 16,  7,  8, 17,  9, 10, 11, 12, 13,\n",
       "         14, 18, 19, 20, 21, 22, 23, 24, 25, 26, 27, 28, 29, 30, 31, 32, 33, 34,\n",
       "         35, 36, 37, 38, 39, 40, 41, 42, 43, 44, 45, 46, 48],\n",
       "        [ 0,  1,  2,  3, 47,  4,  5, 15,  6, 16,  7,  8, 17,  9, 10, 11, 12, 13,\n",
       "         14, 18, 19, 20, 21, 22, 23, 24, 25, 26, 27, 28, 29, 30, 31, 32, 33, 34,\n",
       "         35, 36, 37, 38, 39, 40, 41, 42, 43, 44, 45, 46, 48],\n",
       "        [ 0,  1,  2,  3, 47,  4,  5, 15,  6, 16,  7,  8, 17,  9, 10, 11, 12, 13,\n",
       "         14, 18, 19, 20, 21, 22, 23, 24, 25, 26, 27, 28, 29, 30, 31, 32, 33, 34,\n",
       "         35, 36, 37, 38, 39, 40, 41, 42, 43, 44, 45, 46, 48]])"
      ]
     },
     "execution_count": 179,
     "metadata": {},
     "output_type": "execute_result"
    }
   ],
   "source": [
    "regrouping(outputs)"
   ]
  },
  {
   "cell_type": "markdown",
   "id": "f22517c8",
   "metadata": {},
   "source": [
    "### New indexing"
   ]
  },
  {
   "cell_type": "markdown",
   "id": "b3f0f6dd",
   "metadata": {},
   "source": [
    "индекс лейбл описание\n",
    "\n",
    "**Классификация помещения**\n",
    "\n",
    "0. `room`: комната.\n",
    "1. `bathroom`: ванная комната.\n",
    "2. `inner_corridor`: коридор внутри квартиры.\n",
    "3. `public_place`: общественное место.\n",
    "4. `pantry`: кладовка.\n",
    "\n",
    "**Отделка пола**\n",
    "\n",
    "5. `floor_finish`: пол чистовая отделка.\n",
    "6. `floor_init`: пол черновая отделка.\n",
    "7. `floor_without`: пол без отделки.\n",
    "\n",
    "**Отделка потолка**\n",
    "\n",
    "8. `ceiling_finish`: потолок чистовая отделка.\n",
    "9. `ceiling_without`: потолок без отделки.\n",
    "\n",
    "**Отделка стен**\n",
    "\n",
    "10. `wall_finish`: стена чистовая отделка.\n",
    "11. `wall_init`: стена черновая отделка.\n",
    "12. `wall_without`: стены без отделки.\n",
    "\n",
    "**Все остальные**\n",
    "\n",
    "13. `door_room`: дверь есть.\n",
    "14. `toilet_yes`: унитаз есть.\n",
    "15. `bath_yes`: ванна есть.\n",
    "16. `esocket_yes`: электрическая розетка или выключатель есть.\n",
    "17. `kitchen_furniture_yes`: кухонная мебель есть.\n",
    "18. `radiator`: батарея.\n",
    "19. `window_trim`: отделка окна (подоконник, откосы).\n",
    "20. `window`: проем для окна.\n",
    "21. `floor_pipes`: напольные трубы отопления.\n",
    "22. `garbage`: мусор.\n",
    "23. `place_door`: проем для двери.\n",
    "24. `place_radiator`: место для радиатора.\n",
    "25. `ventilation_shaft`: вентиляционная шахта.\n",
    "26. `sink_yes`: раковина есть.\n",
    "27. `conditioner`: кондиционер.\n",
    "28. `smoke_detector`: датчик дыма.\n",
    "29. `ventilation_grille`: решетка вентиляции.\n",
    "30. `fire_detectors`: извещатель (запуск сигнала о пожаре).\n",
    "31. `dynamics`: динамик.\n",
    "32. `switch_box_flat`: электрический щиток квартирный.\n",
    "33. `switch_box_public`: электрический щиток моп.\n",
    "34. `xbk`: канализационная труба.\n",
    "35. `water_pipes_mop`: стояки ГВС и ХВС в МОП.\n",
    "36. `water_pipes_flat`: стояки ГВС и ХВС в квартире.\n",
    "37. `water_meter`: счетчик воды.\n",
    "38. `heating_riser`: стояк отопления (подводка к батареи).\n",
    "39. `smoke_exhaust_valve`: клапан дымоудаления.\n",
    "40. `electrical_cable`: электрический кабель.\n",
    "41. `electrical_riser`: разводка магистральных стояков.\n",
    "42. `lamp`: светильники.\n",
    "43. `door_mop`: дверь МОП.\n",
    "44. `door_entrance`: дверь входная в квартиру.\n",
    "45. `socket_box`: подрозетники и выключатели.\n",
    "46. `tongue_groove_blocks`: пазогребневые блоки.\n",
    "47. `tile_plinth`: плиточный плинтус. \n",
    "48. `bad_light`: кадр с плохим освещением."
   ]
  },
  {
   "cell_type": "markdown",
   "id": "7412910f-aeb7-4998-af19-57143650d408",
   "metadata": {},
   "source": [
    "Функция `get_prediction_by_condition` отбирает одно предсказание с макс. вероятность. Например, модель по трешхолду 0,5 предсказала что стена без отделки и стена в черновой отделке. "
   ]
  },
  {
   "cell_type": "code",
   "execution_count": 202,
   "id": "a57c3f0a",
   "metadata": {
    "tags": []
   },
   "outputs": [],
   "source": [
    "def get_prediction_by_condition(\n",
    "    outputs: torch.tensor,\n",
    "    threshold: float,\n",
    "    device: str,\n",
    "    num_classes: int\n",
    ") -> torch.tensor:\n",
    "    '''One forecast from group of room labels. One forecast of fine or rough finish.\n",
    "    '''\n",
    "    \n",
    "    preds = torch.where(outputs > threshold, outputs, torch.tensor(0).float().to(device))\n",
    "    preds_max = torch.argmax(preds, axis=1)\n",
    "    preds_oh = torch.nn.functional.one_hot(preds_max, num_classes=num_classes)\n",
    "    mask = preds.sum(axis=1, dtype=torch.bool)\n",
    "    preds_oh[~mask] = 0\n",
    "    return preds_oh"
   ]
  },
  {
   "cell_type": "code",
   "execution_count": 205,
   "id": "ff283135",
   "metadata": {
    "tags": []
   },
   "outputs": [
    {
     "name": "stderr",
     "output_type": "stream",
     "text": [
      "100%|██████████| 1/1 [00:01<00:00,  1.13s/it]\n"
     ]
    }
   ],
   "source": [
    "all_preds = torch.empty(0, Config.NUM_CLASSES).to(Config.DEVICE)\n",
    "\n",
    "model.eval()\n",
    "with torch.no_grad():\n",
    "    for data in tqdm(dl):\n",
    "        data = data.to(Config.DEVICE)\n",
    "            \n",
    "        outputs = model(data)\n",
    "        \n",
    "        outputs = regrouping(outputs)\n",
    "        outputs = torch.sigmoid(outputs)\n",
    "        \n",
    "        # only images with good lighting\n",
    "        outputs = outputs[outputs[:, 48] < threshold]\n",
    "        \n",
    "        rooms = get_prediction_by_condition(\n",
    "                                            outputs=outputs[:, :5],\n",
    "                                            threshold=Config.THRESHOLD,\n",
    "                                            device=Config.DEVICE,\n",
    "                                            num_classes=5\n",
    "        )\n",
    "        \n",
    "        floor = get_prediction_by_condition(\n",
    "                                            outputs=outputs[:, 5:8],\n",
    "                                            threshold=Config.THRESHOLD,\n",
    "                                            device=Config.DEVICE,\n",
    "                                            num_classes=3\n",
    "        )\n",
    "        \n",
    "        ceiling = get_prediction_by_condition(\n",
    "                                            outputs=outputs[:, 8:10],\n",
    "                                            threshold=Config.THRESHOLD,\n",
    "                                            device=Config.DEVICE,\n",
    "                                            num_classes=2\n",
    "        )\n",
    "        \n",
    "        wall = get_prediction_by_condition(\n",
    "                                            outputs=outputs[:, 10:13],\n",
    "                                            threshold=Config.THRESHOLD,\n",
    "                                            device=Config.DEVICE,\n",
    "                                            num_classes=3\n",
    "        )\n",
    "        \n",
    "        items = torch.where(outputs[:, 13:] > threshold, 1, 0)\n",
    "                \n",
    "        preds = torch.hstack((rooms, floor, ceiling, wall, items))"
   ]
  },
  {
   "cell_type": "code",
   "execution_count": 206,
   "id": "fb5fbbac-1c74-4d2a-bded-ee16a1243145",
   "metadata": {
    "tags": []
   },
   "outputs": [
    {
     "data": {
      "text/plain": [
       "torch.Size([2, 49])"
      ]
     },
     "execution_count": 206,
     "metadata": {},
     "output_type": "execute_result"
    }
   ],
   "source": [
    "preds.shape"
   ]
  },
  {
   "cell_type": "code",
   "execution_count": 12,
   "id": "ad497429",
   "metadata": {},
   "outputs": [
    {
     "data": {
      "text/plain": [
       "tensor([[0, 1, 0, 0],\n",
       "        [0, 0, 0, 0],\n",
       "        [0, 1, 0, 0],\n",
       "        [0, 0, 0, 0]])"
      ]
     },
     "execution_count": 12,
     "metadata": {},
     "output_type": "execute_result"
    }
   ],
   "source": [
    "# сделать проверку, что one hot только те вектора в которых модель сделала предсказания по трешхолду\n",
    "outputs = outputs[:, :4]\n",
    "\n",
    "# определим места, где модель сделала предсказания по трешхолду, остальные места занулим\n",
    "preds = torch.where(outputs > threshold, outputs, torch.tensor(0).float().to(device))\n",
    "\n",
    "# найдем максимальные значения в предсказании\n",
    "preds_max = torch.argmax(preds, axis=1)\n",
    "\n",
    "# сделаем one-hot вектора на основе индексов маскимальных значений\n",
    "preds_oh = torch.nn.functional.one_hot(preds_max, num_classes=4)\n",
    "\n",
    "# сделаем маску, выделим вектора со всеми нулями как false\n",
    "mask = preds.sum(axis=1, dtype=torch.bool)\n",
    "\n",
    "# по маске тем предсказаниям, в которых модель ничего не предсказала, поставим 0\n",
    "preds_oh[~mask] = 0\n",
    "\n",
    "preds_oh"
   ]
  },
  {
   "cell_type": "markdown",
   "id": "a48aca70",
   "metadata": {},
   "source": [
    "Агрегировать предсказания по помещениям."
   ]
  },
  {
   "cell_type": "code",
   "execution_count": 20,
   "id": "d0086877",
   "metadata": {},
   "outputs": [],
   "source": [
    "id_label = {\n",
    "    0: 'floor_finish',\n",
    "    1: 'floor_init',\n",
    "    2: 'floor_without',\n",
    "    3: 'ceiling_finish',\n",
    "    4: 'ceiling_without',\n",
    "    5: 'wall_finish',\n",
    "    6: 'wall_init',\n",
    "    7: 'wall_without',\n",
    "    8: 'door_room',\n",
    "    9: 'toilet_yes',\n",
    "    10: 'bath_yes',\n",
    "    11: 'esocket_yes',\n",
    "    12: 'kitchen_furniture_yes',\n",
    "    13: 'radiator',\n",
    "    14: 'window_trim',\n",
    "    15: 'window',\n",
    "    16: 'floor_pipes',\n",
    "    17: 'garbage',\n",
    "    18: 'place_door',\n",
    "    19: 'place_radiator',\n",
    "    20: 'ventilation_shaft',\n",
    "    21: 'sink_yes',\n",
    "    22: 'conditioner',\n",
    "    23: 'smoke_detector',\n",
    "    24: 'ventilation_grille',\n",
    "    25: 'fire_detectors',\n",
    "    26: 'dynamics',\n",
    "    27: 'switch_box_flat',\n",
    "    28: 'switch_box_public',\n",
    "    29: 'xbk',\n",
    "    30: 'water_pipes_mop',\n",
    "    31: 'water_pipes_flat',\n",
    "    32: 'water_meter',\n",
    "    33: 'heating_riser',\n",
    "    34: 'smoke_exhaust_valve',\n",
    "    35: 'electrical_cable',\n",
    "    36: 'electrical_riser',\n",
    "    37: 'lamp',\n",
    "    38: 'door_mop',\n",
    "    39: 'door_entrance',\n",
    "    40: 'socket_box',\n",
    "    41: 'tongue_groove_blocks',\n",
    "    42: 'tile_plinth',\n",
    "    43: 'bad_light'\n",
    "}"
   ]
  },
  {
   "cell_type": "code",
   "execution_count": 21,
   "id": "4f741ef7",
   "metadata": {},
   "outputs": [],
   "source": [
    "rooms = all_preds[all_preds[:, 0] == 1]\n",
    "rooms = rooms.sum(axis=0).detach().cpu().numpy().astype(int)[4:]"
   ]
  },
  {
   "cell_type": "code",
   "execution_count": 22,
   "id": "daa76386",
   "metadata": {},
   "outputs": [],
   "source": [
    "bathrooms = all_preds[all_preds[:, 1] == 1]\n",
    "bathrooms = bathrooms.sum(axis=0).detach().cpu().numpy().astype(int)[4:]"
   ]
  },
  {
   "cell_type": "code",
   "execution_count": 23,
   "id": "679ba525",
   "metadata": {},
   "outputs": [],
   "source": [
    "inner_coridors = all_preds[all_preds[:, 2] == 1]\n",
    "inner_coridors = inner_coridors.sum(axis=0).detach().cpu().numpy().astype(int)[4:]"
   ]
  },
  {
   "cell_type": "code",
   "execution_count": 24,
   "id": "2e846760",
   "metadata": {},
   "outputs": [],
   "source": [
    "public_places = all_preds[all_preds[:, 3] == 1]\n",
    "public_places = public_places.sum(axis=0).detach().cpu().numpy().astype(int)[4:]"
   ]
  },
  {
   "cell_type": "code",
   "execution_count": null,
   "id": "f1684980-f9f8-446f-8411-904ebf22028e",
   "metadata": {},
   "outputs": [],
   "source": [
    "pantries = all_preds[all_preds[:, 4] == 1]\n",
    "pantries = pantries.sum(axis=0).detach().cpu().numpy().astype(int)[4:]"
   ]
  },
  {
   "cell_type": "code",
   "execution_count": 25,
   "id": "8982890c",
   "metadata": {},
   "outputs": [],
   "source": [
    "preds = {\n",
    "    'room': {id_label[i]:val for i, val in enumerate(rooms)},\n",
    "    'bathroom': {id_label[i]:val for i, val in enumerate(bathrooms)},\n",
    "    'inner_coridors': {id_label[i]:val for i, val in enumerate(inner_coridors)},\n",
    "    'public_places': {id_label[i]:val for i, val in enumerate(public_places)},\n",
    "    'pantries': {id_label[i]:val for i, val in enumerate(pantries)}\n",
    "}"
   ]
  },
  {
   "cell_type": "code",
   "execution_count": 26,
   "id": "d619b8d6",
   "metadata": {
    "collapsed": true,
    "jupyter": {
     "outputs_hidden": true
    },
    "tags": []
   },
   "outputs": [
    {
     "data": {
      "text/plain": [
       "{'room': {'floor_finish': 0,\n",
       "  'floor_init': 0,\n",
       "  'floor_without': 0,\n",
       "  'ceiling_finish': 0,\n",
       "  'ceiling_without': 0,\n",
       "  'wall_finish': 0,\n",
       "  'wall_init': 0,\n",
       "  'wall_without': 0,\n",
       "  'door_yes': 0,\n",
       "  'toilet_yes': 0,\n",
       "  'bath_yes': 0,\n",
       "  'esocket_yes': 0,\n",
       "  'kitchen_furniture_yes': 0,\n",
       "  'radiator': 0,\n",
       "  'window_trim': 0,\n",
       "  'window': 0,\n",
       "  'floor_pipes': 0,\n",
       "  'garbage': 0,\n",
       "  'place_door': 0,\n",
       "  'place_radiator': 0,\n",
       "  'place_toilet': 0,\n",
       "  'place_sink': 0,\n",
       "  'place_bath': 0,\n",
       "  'ventilation_shaft': 0,\n",
       "  'sink_yes': 0,\n",
       "  'conditioner': 0,\n",
       "  'smoke_detector': 0,\n",
       "  'ventilation_grille': 0,\n",
       "  'fire_detectors': 0,\n",
       "  'dynamics': 0,\n",
       "  'switch_box_flat': 0,\n",
       "  'switch_box_public': 0},\n",
       " 'bathroom': {'floor_finish': 1,\n",
       "  'floor_init': 0,\n",
       "  'floor_without': 0,\n",
       "  'ceiling_finish': 1,\n",
       "  'ceiling_without': 1,\n",
       "  'wall_finish': 2,\n",
       "  'wall_init': 0,\n",
       "  'wall_without': 0,\n",
       "  'door_yes': 0,\n",
       "  'toilet_yes': 1,\n",
       "  'bath_yes': 2,\n",
       "  'esocket_yes': 2,\n",
       "  'kitchen_furniture_yes': 2,\n",
       "  'radiator': 0,\n",
       "  'window_trim': 2,\n",
       "  'window': 0,\n",
       "  'floor_pipes': 2,\n",
       "  'garbage': 2,\n",
       "  'place_door': 2,\n",
       "  'place_radiator': 2,\n",
       "  'place_toilet': 0,\n",
       "  'place_sink': 2,\n",
       "  'place_bath': 0,\n",
       "  'ventilation_shaft': 0,\n",
       "  'sink_yes': 2,\n",
       "  'conditioner': 1,\n",
       "  'smoke_detector': 2,\n",
       "  'ventilation_grille': 2,\n",
       "  'fire_detectors': 0,\n",
       "  'dynamics': 0,\n",
       "  'switch_box_flat': 0,\n",
       "  'switch_box_public': 1},\n",
       " 'inner_coridors': {'floor_finish': 0,\n",
       "  'floor_init': 0,\n",
       "  'floor_without': 0,\n",
       "  'ceiling_finish': 0,\n",
       "  'ceiling_without': 0,\n",
       "  'wall_finish': 0,\n",
       "  'wall_init': 0,\n",
       "  'wall_without': 0,\n",
       "  'door_yes': 0,\n",
       "  'toilet_yes': 0,\n",
       "  'bath_yes': 0,\n",
       "  'esocket_yes': 0,\n",
       "  'kitchen_furniture_yes': 0,\n",
       "  'radiator': 0,\n",
       "  'window_trim': 0,\n",
       "  'window': 0,\n",
       "  'floor_pipes': 0,\n",
       "  'garbage': 0,\n",
       "  'place_door': 0,\n",
       "  'place_radiator': 0,\n",
       "  'place_toilet': 0,\n",
       "  'place_sink': 0,\n",
       "  'place_bath': 0,\n",
       "  'ventilation_shaft': 0,\n",
       "  'sink_yes': 0,\n",
       "  'conditioner': 0,\n",
       "  'smoke_detector': 0,\n",
       "  'ventilation_grille': 0,\n",
       "  'fire_detectors': 0,\n",
       "  'dynamics': 0,\n",
       "  'switch_box_flat': 0,\n",
       "  'switch_box_public': 0},\n",
       " 'public_places': {'floor_finish': 0,\n",
       "  'floor_init': 0,\n",
       "  'floor_without': 0,\n",
       "  'ceiling_finish': 0,\n",
       "  'ceiling_without': 0,\n",
       "  'wall_finish': 0,\n",
       "  'wall_init': 0,\n",
       "  'wall_without': 0,\n",
       "  'door_yes': 0,\n",
       "  'toilet_yes': 0,\n",
       "  'bath_yes': 0,\n",
       "  'esocket_yes': 0,\n",
       "  'kitchen_furniture_yes': 0,\n",
       "  'radiator': 0,\n",
       "  'window_trim': 0,\n",
       "  'window': 0,\n",
       "  'floor_pipes': 0,\n",
       "  'garbage': 0,\n",
       "  'place_door': 0,\n",
       "  'place_radiator': 0,\n",
       "  'place_toilet': 0,\n",
       "  'place_sink': 0,\n",
       "  'place_bath': 0,\n",
       "  'ventilation_shaft': 0,\n",
       "  'sink_yes': 0,\n",
       "  'conditioner': 0,\n",
       "  'smoke_detector': 0,\n",
       "  'ventilation_grille': 0,\n",
       "  'fire_detectors': 0,\n",
       "  'dynamics': 0,\n",
       "  'switch_box_flat': 0,\n",
       "  'switch_box_public': 0}}"
      ]
     },
     "execution_count": 26,
     "metadata": {},
     "output_type": "execute_result"
    }
   ],
   "source": [
    "preds"
   ]
  },
  {
   "cell_type": "markdown",
   "id": "3121c270",
   "metadata": {},
   "source": [
    "Отбор помещений в цикл добавим и проверим."
   ]
  },
  {
   "cell_type": "code",
   "execution_count": 27,
   "id": "57ea0ed6",
   "metadata": {},
   "outputs": [],
   "source": [
    "list_rooms = []\n",
    "\n",
    "for i in range(4):\n",
    "    room = all_preds[all_preds[:, i] == 1]\n",
    "    room = room.sum(axis=0).detach().cpu().numpy().astype(int)[4:]\n",
    "    list_rooms.append(room)"
   ]
  },
  {
   "cell_type": "code",
   "execution_count": 28,
   "id": "d26c5123",
   "metadata": {
    "collapsed": true,
    "jupyter": {
     "outputs_hidden": true
    }
   },
   "outputs": [
    {
     "data": {
      "text/plain": [
       "{'room': {'floor_finish': 0,\n",
       "  'floor_init': 0,\n",
       "  'floor_without': 0,\n",
       "  'ceiling_finish': 0,\n",
       "  'ceiling_without': 0,\n",
       "  'wall_finish': 0,\n",
       "  'wall_init': 0,\n",
       "  'wall_without': 0,\n",
       "  'door_yes': 0,\n",
       "  'toilet_yes': 0,\n",
       "  'bath_yes': 0,\n",
       "  'esocket_yes': 0,\n",
       "  'kitchen_furniture_yes': 0,\n",
       "  'radiator': 0,\n",
       "  'window_trim': 0,\n",
       "  'window': 0,\n",
       "  'floor_pipes': 0,\n",
       "  'garbage': 0,\n",
       "  'place_door': 0,\n",
       "  'place_radiator': 0,\n",
       "  'place_toilet': 0,\n",
       "  'place_sink': 0,\n",
       "  'place_bath': 0,\n",
       "  'ventilation_shaft': 0,\n",
       "  'sink_yes': 0,\n",
       "  'conditioner': 0,\n",
       "  'smoke_detector': 0,\n",
       "  'ventilation_grille': 0,\n",
       "  'fire_detectors': 0,\n",
       "  'dynamics': 0,\n",
       "  'switch_box_flat': 0,\n",
       "  'switch_box_public': 0},\n",
       " 'bathroom': {'floor_finish': 1,\n",
       "  'floor_init': 0,\n",
       "  'floor_without': 0,\n",
       "  'ceiling_finish': 1,\n",
       "  'ceiling_without': 1,\n",
       "  'wall_finish': 2,\n",
       "  'wall_init': 0,\n",
       "  'wall_without': 0,\n",
       "  'door_yes': 0,\n",
       "  'toilet_yes': 1,\n",
       "  'bath_yes': 2,\n",
       "  'esocket_yes': 2,\n",
       "  'kitchen_furniture_yes': 2,\n",
       "  'radiator': 0,\n",
       "  'window_trim': 2,\n",
       "  'window': 0,\n",
       "  'floor_pipes': 2,\n",
       "  'garbage': 2,\n",
       "  'place_door': 2,\n",
       "  'place_radiator': 2,\n",
       "  'place_toilet': 0,\n",
       "  'place_sink': 2,\n",
       "  'place_bath': 0,\n",
       "  'ventilation_shaft': 0,\n",
       "  'sink_yes': 2,\n",
       "  'conditioner': 1,\n",
       "  'smoke_detector': 2,\n",
       "  'ventilation_grille': 2,\n",
       "  'fire_detectors': 0,\n",
       "  'dynamics': 0,\n",
       "  'switch_box_flat': 0,\n",
       "  'switch_box_public': 1},\n",
       " 'inner_coridors': {'floor_finish': 0,\n",
       "  'floor_init': 0,\n",
       "  'floor_without': 0,\n",
       "  'ceiling_finish': 0,\n",
       "  'ceiling_without': 0,\n",
       "  'wall_finish': 0,\n",
       "  'wall_init': 0,\n",
       "  'wall_without': 0,\n",
       "  'door_yes': 0,\n",
       "  'toilet_yes': 0,\n",
       "  'bath_yes': 0,\n",
       "  'esocket_yes': 0,\n",
       "  'kitchen_furniture_yes': 0,\n",
       "  'radiator': 0,\n",
       "  'window_trim': 0,\n",
       "  'window': 0,\n",
       "  'floor_pipes': 0,\n",
       "  'garbage': 0,\n",
       "  'place_door': 0,\n",
       "  'place_radiator': 0,\n",
       "  'place_toilet': 0,\n",
       "  'place_sink': 0,\n",
       "  'place_bath': 0,\n",
       "  'ventilation_shaft': 0,\n",
       "  'sink_yes': 0,\n",
       "  'conditioner': 0,\n",
       "  'smoke_detector': 0,\n",
       "  'ventilation_grille': 0,\n",
       "  'fire_detectors': 0,\n",
       "  'dynamics': 0,\n",
       "  'switch_box_flat': 0,\n",
       "  'switch_box_public': 0},\n",
       " 'public_places': {'floor_finish': 0,\n",
       "  'floor_init': 0,\n",
       "  'floor_without': 0,\n",
       "  'ceiling_finish': 0,\n",
       "  'ceiling_without': 0,\n",
       "  'wall_finish': 0,\n",
       "  'wall_init': 0,\n",
       "  'wall_without': 0,\n",
       "  'door_yes': 0,\n",
       "  'toilet_yes': 0,\n",
       "  'bath_yes': 0,\n",
       "  'esocket_yes': 0,\n",
       "  'kitchen_furniture_yes': 0,\n",
       "  'radiator': 0,\n",
       "  'window_trim': 0,\n",
       "  'window': 0,\n",
       "  'floor_pipes': 0,\n",
       "  'garbage': 0,\n",
       "  'place_door': 0,\n",
       "  'place_radiator': 0,\n",
       "  'place_toilet': 0,\n",
       "  'place_sink': 0,\n",
       "  'place_bath': 0,\n",
       "  'ventilation_shaft': 0,\n",
       "  'sink_yes': 0,\n",
       "  'conditioner': 0,\n",
       "  'smoke_detector': 0,\n",
       "  'ventilation_grille': 0,\n",
       "  'fire_detectors': 0,\n",
       "  'dynamics': 0,\n",
       "  'switch_box_flat': 0,\n",
       "  'switch_box_public': 0}}"
      ]
     },
     "execution_count": 28,
     "metadata": {},
     "output_type": "execute_result"
    }
   ],
   "source": [
    "preds = {\n",
    "    'room': {id_label[i]:val for i, val in enumerate(list_rooms[0])},\n",
    "    'bathroom': {id_label[i]:val for i, val in enumerate(list_rooms[1])},\n",
    "    'inner_coridors': {id_label[i]:val for i, val in enumerate(list_rooms[2])},\n",
    "    'public_places': {id_label[i]:val for i, val in enumerate(list_rooms[3])},\n",
    "    'pantries': {id_label[i]:val for i, val in enumerate(list_rooms[4])}\n",
    "}\n",
    "\n",
    "preds"
   ]
  },
  {
   "cell_type": "code",
   "execution_count": 30,
   "id": "3bfe73c7",
   "metadata": {},
   "outputs": [],
   "source": [
    "def parse_predictions(all_preds: torch.tensor) -> dict:\n",
    "    \n",
    "    id_label ={\n",
    "        0: 'floor_finish',\n",
    "        1: 'floor_init',\n",
    "        2: 'floor_without',\n",
    "        3: 'ceiling_finish',\n",
    "        4: 'ceiling_without',\n",
    "        5: 'wall_finish',\n",
    "        6: 'wall_init',\n",
    "        7: 'wall_without',\n",
    "        8: 'door_room',\n",
    "        9: 'toilet_yes',\n",
    "        10: 'bath_yes',\n",
    "        11: 'esocket_yes',\n",
    "        12: 'kitchen_furniture_yes',\n",
    "        13: 'radiator',\n",
    "        14: 'window_trim',\n",
    "        15: 'window',\n",
    "        16: 'floor_pipes',\n",
    "        17: 'garbage',\n",
    "        18: 'place_door',\n",
    "        19: 'place_radiator',\n",
    "        20: 'ventilation_shaft',\n",
    "        21: 'sink_yes',\n",
    "        22: 'conditioner',\n",
    "        23: 'smoke_detector',\n",
    "        24: 'ventilation_grille',\n",
    "        25: 'fire_detectors',\n",
    "        26: 'dynamics',\n",
    "        27: 'switch_box_flat',\n",
    "        28: 'switch_box_public',\n",
    "        29: 'xbk',\n",
    "        30: 'water_pipes_mop',\n",
    "        31: 'water_pipes_flat',\n",
    "        32: 'water_meter',\n",
    "        33: 'heating_riser',\n",
    "        34: 'smoke_exhaust_valve',\n",
    "        35: 'electrical_cable',\n",
    "        36: 'electrical_riser',\n",
    "        37: 'lamp',\n",
    "        38: 'door_mop',\n",
    "        39: 'door_entrance',\n",
    "        40: 'socket_box',\n",
    "        41: 'tongue_groove_blocks',\n",
    "        42: 'tile_plinth',\n",
    "        43: 'bad_light'\n",
    "    }\n",
    "     \n",
    "    list_rooms = []\n",
    "\n",
    "    for i in range(4):\n",
    "        room = all_preds[all_preds[:, i] == 1]\n",
    "        room = room.sum(axis=0).detach().cpu().numpy().astype(int)[4:]\n",
    "        list_rooms.append(room)\n",
    "    \n",
    "    preds = {\n",
    "            'room': {id_label[i]:val for i, val in enumerate(list_rooms[0])},\n",
    "            'bathroom': {id_label[i]:val for i, val in enumerate(list_rooms[1])},\n",
    "            'inner_coridors': {id_label[i]:val for i, val in enumerate(list_rooms[2])},\n",
    "            'public_places': {id_label[i]:val for i, val in enumerate(list_rooms[3])},\n",
    "            'pantries': {id_label[i]:val for i, val in enumerate(list_rooms[4])}\n",
    "    }\n",
    "    \n",
    "    return preds"
   ]
  },
  {
   "cell_type": "markdown",
   "id": "72f60431-d8e0-4f16-ac40-639f8fafada9",
   "metadata": {},
   "source": [
    "### Intersection"
   ]
  },
  {
   "cell_type": "markdown",
   "id": "12d1f479-5184-4bf0-a294-76bb0d319716",
   "metadata": {},
   "source": [
    "Необходимо расчитать количество кадров, где одновременно стоит лейбл черновой отделки стены и пазогребневые блоки. Это необходимо для расчета доли черновой отделки в условии, когда в помещении есть стены из пазогребневого блока, а пазогребневый блок не штукатурят, его необходимо засчитывать как черновая отделка."
   ]
  },
  {
   "cell_type": "code",
   "execution_count": 236,
   "id": "6f78d799-02f7-4fb9-b439-d0e739b3a7ab",
   "metadata": {
    "tags": []
   },
   "outputs": [],
   "source": [
    "# сгенерируем тензор состоящий из 0 и 1\n",
    "# который будет являться предсказаниями модели для конкретного помещения\n",
    "# в функции в цикле происходит селект по комнате\n",
    "preds = torch.randint(0, 2, (200, 49))"
   ]
  },
  {
   "cell_type": "markdown",
   "id": "b88634ae-e1ee-4770-8932-fa863ffa3adb",
   "metadata": {},
   "source": [
    "11 индекс это черновая отделка стены, 46 индекс это пазогребневый блок.\n",
    "\n",
    "Получим количество снимков, где одновременно стоит лейбл черновая отделка стены и пазогребневый блок"
   ]
  },
  {
   "cell_type": "code",
   "execution_count": 237,
   "id": "19351be2-6071-4452-9e60-ddf6ba0a69bf",
   "metadata": {
    "tags": []
   },
   "outputs": [
    {
     "data": {
      "text/plain": [
       "52"
      ]
     },
     "execution_count": 237,
     "metadata": {},
     "output_type": "execute_result"
    }
   ],
   "source": [
    "len(torch.nonzero((preds[:, 11] == 1) & (preds[:, 46] == 1)))"
   ]
  },
  {
   "cell_type": "markdown",
   "id": "4009d490-2768-4b7a-b977-24b1bfe4cbaa",
   "metadata": {},
   "source": [
    "Так же необходимо посчитать количество кадров, где одновременно стоит лейбл чистовой отделки пола и плиточного плинтуса. \n",
    "\n",
    "Бывают ситуации, когда в МОП кладут серую плитку, из-за загрязнения не видно межплиточных швов и поэтому визуально пол выглядит как стяжка пола. Единственным патерном по которому можно сказать, что на полу установлена плитка, является наличие плиточного плинтуса."
   ]
  },
  {
   "cell_type": "code",
   "execution_count": 238,
   "id": "20d9f1f8-3ec0-4767-b3fd-05679056a143",
   "metadata": {
    "tags": []
   },
   "outputs": [
    {
     "data": {
      "text/plain": [
       "43"
      ]
     },
     "execution_count": 238,
     "metadata": {},
     "output_type": "execute_result"
    }
   ],
   "source": [
    "len(torch.nonzero((preds[:, 5] == 1) & (preds[:, 47] == 1)))"
   ]
  },
  {
   "cell_type": "markdown",
   "id": "3e159308",
   "metadata": {},
   "source": [
    "### Functions"
   ]
  },
  {
   "cell_type": "code",
   "execution_count": 5,
   "id": "880ce766",
   "metadata": {
    "tags": []
   },
   "outputs": [],
   "source": [
    "class Config:\n",
    "    \"\"\"Base application configs.\"\"\"\n",
    "    \n",
    "    DEVICE = 'cuda:0'\n",
    "    THRESHOLD = 0.5\n",
    "    BUILD_MODEL_WEIGHTS_PATH = '../logs/augoff/augoff_prec_0.779.pth'\n",
    "    NUM_CLASSES = 49\n",
    "    BATCH_SIZE = 32"
   ]
  },
  {
   "cell_type": "code",
   "execution_count": 6,
   "id": "6287dce5",
   "metadata": {
    "tags": []
   },
   "outputs": [],
   "source": [
    "import cv2\n",
    "import torch\n",
    "import numpy as np\n",
    "import albumentations as A\n",
    "import albumentations.pytorch\n",
    "from torch.utils.data import Dataset\n",
    "from torch.utils.data import DataLoader\n",
    "\n",
    "\n",
    "\n",
    "class ImageDataset(Dataset):\n",
    "    def __init__(self, path_imgs: str):\n",
    "        \"\"\"\n",
    "        :param path_imgs: path to image folder.\n",
    "        \"\"\"\n",
    "\n",
    "        self.path_imgs = [str(path_img) for path_img in Path(path_imgs).rglob('*.jpg')]\n",
    "    \n",
    "    def __len__(self):\n",
    "        return len(self.path_imgs)\n",
    "    \n",
    "    def transform(self, image: np.array):\n",
    "        transforms = A.Compose(\n",
    "                                [\n",
    "                                    A.Resize(width=224, height=224),\n",
    "                                    A.Normalize(\n",
    "                                            mean=[0.485, 0.456, 0.406],\n",
    "                                            std=[0.229, 0.224, 0.225],\n",
    "                                            max_pixel_value=255.0,\n",
    "                                        ),\n",
    "                                    A.pytorch.ToTensorV2()\n",
    "            ]\n",
    "        )\n",
    "        \n",
    "        transformered = transforms(image=image)\n",
    "        image_tensor = transformered['image']\n",
    "        \n",
    "        return image_tensor\n",
    "    \n",
    "    def __getitem__(self, index):\n",
    "        \n",
    "        path_img = self.path_imgs[index]\n",
    "\n",
    "        img = cv2.imread(path_img)\n",
    "        img = cv2.cvtColor(img, cv2.COLOR_BGR2RGB)\n",
    "        \n",
    "        image_tensor = self.transform(img)\n",
    "        \n",
    "        return image_tensor"
   ]
  },
  {
   "cell_type": "code",
   "execution_count": 7,
   "id": "ec9b906e",
   "metadata": {
    "tags": []
   },
   "outputs": [],
   "source": [
    "import cv2\n",
    "import timm\n",
    "import torch\n",
    "from pathlib import Path\n",
    "from torch.utils.data import DataLoader\n",
    "\n",
    "\n",
    "\n",
    "class DecorModel:\n",
    "    \"\"\"Multi-labeling model for interior decoration.\"\"\"\n",
    "    def __init__(self, config):\n",
    "        \n",
    "        self.config = config\n",
    "        \n",
    "        self.model = timm.create_model(\n",
    "                                    'convnext_large_in22k',\n",
    "                                    pretrained=False,\n",
    "                                    num_classes=self.config.NUM_CLASSES\n",
    "        )\n",
    "        \n",
    "        checkpoint = torch.load(\n",
    "            self.config.BUILD_MODEL_WEIGHTS_PATH,\n",
    "            map_location=torch.device(self.config.DEVICE)\n",
    "        )\n",
    "        \n",
    "        self.model.load_state_dict(checkpoint['model_state_dict'])\n",
    "        self.model.to(self.config.DEVICE)\n",
    "        \n",
    "    def regrouping(self, outputs: torch.tensor) -> torch.tensor:\n",
    "        \"\"\"Regroup model predictions for convenient further processing.\"\"\"\n",
    "\n",
    "        rooms = torch.hstack((outputs[:, :4], outputs[:, 47].unsqueeze(1)))\n",
    "        floors = torch.hstack((outputs[:, 4:6], outputs[:, 15].unsqueeze(1)))\n",
    "        ceilings = torch.hstack((outputs[:, 6].unsqueeze(1), outputs[:, 16].unsqueeze(1)))\n",
    "        walls = torch.hstack((outputs[:, 7:9], outputs[:, 17].unsqueeze(1)))\n",
    "        \n",
    "        exclude = [15, 16, 17, 47]\n",
    "        column_keep = torch.tensor([x for x in range(9, 49) if x not in exclude])\n",
    "        other = torch.index_select(outputs, dim=1, index=column_keep.to(self.config.DEVICE))\n",
    "\n",
    "        return torch.hstack((rooms, floors, ceilings, walls, other))\n",
    "    \n",
    "    def get_prediction_by_condition(\n",
    "        self,\n",
    "        outputs: torch.tensor,\n",
    "        threshold: float,\n",
    "        device: str,\n",
    "        num_classes: int\n",
    "    ) -> torch.tensor:\n",
    "        \n",
    "        \"\"\"One forecast from group of room labels. One forecast of fine or rough finish.\n",
    "        \"\"\"\n",
    "\n",
    "        preds = torch.where(\n",
    "            outputs > self.config.THRESHOLD,\n",
    "            outputs,\n",
    "            torch.tensor(0).float().to(self.config.DEVICE)\n",
    "        )\n",
    "        preds_max = torch.argmax(preds, axis=1)\n",
    "        preds_oh = torch.nn.functional.one_hot(preds_max, num_classes=num_classes)\n",
    "        mask = preds.sum(axis=1, dtype=torch.bool)\n",
    "        preds_oh[~mask] = 0\n",
    "        return preds_oh\n",
    "            \n",
    "    def predict(self, dl: DataLoader):\n",
    "        \n",
    "        all_preds = torch.empty(0, self.config.NUM_CLASSES).to(self.config.DEVICE)\n",
    "        all_preds_video = torch.empty(0, self.config.NUM_CLASSES).to(self.config.DEVICE)\n",
    "        all_probs = torch.empty(0, self.config.NUM_CLASSES).to(self.config.DEVICE)\n",
    "\n",
    "        self.model.eval()\n",
    "        with torch.no_grad():\n",
    "            for data in dl:\n",
    "\n",
    "                data = data.to(self.config.DEVICE)\n",
    "\n",
    "                outputs = self.model(data)\n",
    "                outputs = self.regrouping(outputs)\n",
    "                outputs = torch.sigmoid(outputs)\n",
    "                \n",
    "                outputs_video = outputs.clone()\n",
    "                \n",
    "                # only images with good lighting\n",
    "                outputs = outputs[outputs[:, -1] < self.config.THRESHOLD]\n",
    "                \n",
    "                rooms = self.get_prediction_by_condition(\n",
    "                                                    outputs=outputs[:, :5],\n",
    "                                                    threshold=self.config.THRESHOLD,\n",
    "                                                    device=self.config.DEVICE,\n",
    "                                                    num_classes=5\n",
    "                )\n",
    "                \n",
    "                rooms_video = self.get_prediction_by_condition(\n",
    "                                                    outputs=outputs_video[:, :5],\n",
    "                                                    threshold=self.config.THRESHOLD,\n",
    "                                                    device=self.config.DEVICE,\n",
    "                                                    num_classes=5\n",
    "                )\n",
    "\n",
    "                floor = self.get_prediction_by_condition(\n",
    "                                                    outputs=outputs[:, 5:8],\n",
    "                                                    threshold=self.config.THRESHOLD,\n",
    "                                                    device=self.config.DEVICE,\n",
    "                                                    num_classes=3\n",
    "                )\n",
    "                \n",
    "                floor_video = self.get_prediction_by_condition(\n",
    "                                                    outputs=outputs_video[:, 5:8],\n",
    "                                                    threshold=self.config.THRESHOLD,\n",
    "                                                    device=self.config.DEVICE,\n",
    "                                                    num_classes=3\n",
    "                )\n",
    "\n",
    "                ceiling = self.get_prediction_by_condition(\n",
    "                                            outputs=outputs[:, 8:10],\n",
    "                                            threshold=self.config.THRESHOLD,\n",
    "                                            device=self.config.DEVICE,\n",
    "                                            num_classes=2\n",
    "                )\n",
    "                \n",
    "                ceiling_video = self.get_prediction_by_condition(\n",
    "                                            outputs=outputs_video[:, 8:10],\n",
    "                                            threshold=self.config.THRESHOLD,\n",
    "                                            device=self.config.DEVICE,\n",
    "                                            num_classes=2\n",
    "                )\n",
    "\n",
    "                wall = self.get_prediction_by_condition(\n",
    "                                                    outputs=outputs[:, 10:13],\n",
    "                                                    threshold=self.config.THRESHOLD,\n",
    "                                                    device=self.config.DEVICE,\n",
    "                                                    num_classes=3\n",
    "                )\n",
    "                \n",
    "                wall_video = self.get_prediction_by_condition(\n",
    "                                                    outputs=outputs_video[:, 10:13],\n",
    "                                                    threshold=self.config.THRESHOLD,\n",
    "                                                    device=self.config.DEVICE,\n",
    "                                                    num_classes=3\n",
    "                )\n",
    "\n",
    "                items = torch.where(outputs[:, 13:] > self.config.THRESHOLD, 1, 0)\n",
    "                items_video = torch.where(outputs_video[:, 13:] > self.config.THRESHOLD, 1, 0)\n",
    "\n",
    "                preds = torch.hstack((rooms, floor, ceiling, wall, items))\n",
    "                preds_video = torch.hstack((rooms_video, floor_video, ceiling_video, wall_video, items_video))\n",
    "\n",
    "                all_preds = torch.vstack((all_preds, preds))\n",
    "                all_preds_video = torch.vstack((all_preds_video, preds_video))\n",
    "                all_probs = torch.vstack((all_probs, outputs_video))\n",
    "            \n",
    "            all_preds = all_preds.detach().cpu().numpy().astype(int)\n",
    "            all_preds_video = all_preds_video.detach().cpu().numpy().astype(int)\n",
    "            all_probs = all_probs.detach().cpu().numpy()\n",
    "            \n",
    "        return all_preds_video, all_preds, all_probs\n",
    "        \n",
    "    def parse_predictions(self, all_preds: np.array) -> dict:\n",
    "    \n",
    "        data_room = []\n",
    "        for i in range(5):\n",
    "            room = all_preds[all_preds[:, i] == 1]\n",
    "            \n",
    "            condition = (room[:, 46] == 1) & (room[:, 10] != 1) & (room[:, 11] != 1) & (room[:, 12] != 1)\n",
    "            only_tongue_groove_blocks = room[condition].shape[0]\n",
    "            \n",
    "            condition = (room[:, 47] == 1) & (room[:, 5] != 1) & (room[:, 6] != 1) & (room[:, 7] != 1)\n",
    "            only_tile_plinth = room[condition].shape[0]\n",
    "            \n",
    "            room = room.sum(axis=0)\n",
    "            data_room.append(\n",
    "                {\n",
    "                    'num_img': room[i],\n",
    "                    'floor_finish': room[5],\n",
    "                    'floor_init': room[6],\n",
    "                    'floor_without': room[7],\n",
    "                    'ceiling_finish': room[8],\n",
    "                    'ceiling_without': room[9],\n",
    "                    'wall_finish': room[10],\n",
    "                    'wall_init': room[11],\n",
    "                    'wall_without': room[12],\n",
    "                    'door_room': room[13],\n",
    "                    'toilet_yes': room[14],\n",
    "                    'bath_yes': room[15],\n",
    "                    'esocket_yes': room[16],\n",
    "                    'kitchen_furniture_yes': room[17],\n",
    "                    'radiator': room[18],\n",
    "                    'window_trim': room[19],\n",
    "                    'window': room[20],\n",
    "                    'floor_pipes': room[21],\n",
    "                    'garbage': room[22],\n",
    "                    'place_door': room[23],\n",
    "                    'place_radiator': room[24],\n",
    "                    'ventilation_shaft': room[25],\n",
    "                    'sink_yes': room[26],\n",
    "                    'conditioner': room[27],\n",
    "                    'smoke_detector': room[28],\n",
    "                    'ventilation_grille': room[29],\n",
    "                    'fire_detectors': room[30],\n",
    "                    'dynamics': room[31],\n",
    "                    'switch_box_flat': room[32],\n",
    "                    'switch_box_public': room[33],\n",
    "                    'xbk': room[34],\n",
    "                    'water_pipes_mop': room[35],\n",
    "                    'water_pipes_flat': room[36],\n",
    "                    'water_meter': room[37],\n",
    "                    'heating_riser': room[38],\n",
    "                    'smoke_exhaust_valve': room[39],\n",
    "                    'electrical_cable': room[40],\n",
    "                    'electrical_riser': room[41],\n",
    "                    'lamp': room[42],\n",
    "                    'door_mop': room[43],\n",
    "                    'door_entrance': room[44],\n",
    "                    'socket_box': room[45],\n",
    "                    'tongue_groove_blocks': room[46],\n",
    "                    'tile_plinth': room[47],\n",
    "                    'bad_light': room[48],\n",
    "                    'only_tongue_groove_blocks': only_tongue_groove_blocks,\n",
    "                    'only_tile_plinth': only_tile_plinth\n",
    "                }\n",
    "            )\n",
    "\n",
    "        data = {\n",
    "            'processed_imgs': all_preds.shape[0],\n",
    "            'room': data_room[0],\n",
    "            'bathroom': data_room[1],\n",
    "            'inner_coridors': data_room[2],\n",
    "            'public_places': data_room[3],\n",
    "            'pantry': data_room[4]\n",
    "        }\n",
    "        \n",
    "        return data"
   ]
  },
  {
   "cell_type": "code",
   "execution_count": 8,
   "id": "08116bf4",
   "metadata": {
    "tags": []
   },
   "outputs": [
    {
     "data": {
      "text/plain": [
       "{'processed_imgs': 4,\n",
       " 'room': {'num_img': 2,\n",
       "  'floor_finish': 0,\n",
       "  'floor_init': 1,\n",
       "  'floor_without': 1,\n",
       "  'ceiling_finish': 0,\n",
       "  'ceiling_without': 0,\n",
       "  'wall_finish': 0,\n",
       "  'wall_init': 0,\n",
       "  'wall_without': 2,\n",
       "  'door_room': 0,\n",
       "  'toilet_yes': 0,\n",
       "  'bath_yes': 0,\n",
       "  'esocket_yes': 0,\n",
       "  'kitchen_furniture_yes': 0,\n",
       "  'radiator': 0,\n",
       "  'window_trim': 0,\n",
       "  'window': 1,\n",
       "  'floor_pipes': 0,\n",
       "  'garbage': 0,\n",
       "  'place_door': 0,\n",
       "  'place_radiator': 1,\n",
       "  'ventilation_shaft': 0,\n",
       "  'sink_yes': 0,\n",
       "  'conditioner': 0,\n",
       "  'smoke_detector': 0,\n",
       "  'ventilation_grille': 0,\n",
       "  'fire_detectors': 0,\n",
       "  'dynamics': 0,\n",
       "  'switch_box_flat': 0,\n",
       "  'switch_box_public': 0,\n",
       "  'xbk': 0,\n",
       "  'water_pipes_mop': 0,\n",
       "  'water_pipes_flat': 0,\n",
       "  'water_meter': 0,\n",
       "  'heating_riser': 0,\n",
       "  'smoke_exhaust_valve': 0,\n",
       "  'electrical_cable': 1,\n",
       "  'electrical_riser': 0,\n",
       "  'lamp': 0,\n",
       "  'door_mop': 0,\n",
       "  'door_entrance': 0,\n",
       "  'socket_box': 0,\n",
       "  'tongue_groove_blocks': 1,\n",
       "  'tile_plinth': 0,\n",
       "  'bad_light': 0,\n",
       "  'inter_wi_tgb': 0,\n",
       "  'inter_ff_tp': 0,\n",
       "  'only_tongue_groove_blocks': 0,\n",
       "  'only_tile_plinth': 0},\n",
       " 'bathroom': {'num_img': 0,\n",
       "  'floor_finish': 0,\n",
       "  'floor_init': 0,\n",
       "  'floor_without': 0,\n",
       "  'ceiling_finish': 0,\n",
       "  'ceiling_without': 0,\n",
       "  'wall_finish': 0,\n",
       "  'wall_init': 0,\n",
       "  'wall_without': 0,\n",
       "  'door_room': 0,\n",
       "  'toilet_yes': 0,\n",
       "  'bath_yes': 0,\n",
       "  'esocket_yes': 0,\n",
       "  'kitchen_furniture_yes': 0,\n",
       "  'radiator': 0,\n",
       "  'window_trim': 0,\n",
       "  'window': 0,\n",
       "  'floor_pipes': 0,\n",
       "  'garbage': 0,\n",
       "  'place_door': 0,\n",
       "  'place_radiator': 0,\n",
       "  'ventilation_shaft': 0,\n",
       "  'sink_yes': 0,\n",
       "  'conditioner': 0,\n",
       "  'smoke_detector': 0,\n",
       "  'ventilation_grille': 0,\n",
       "  'fire_detectors': 0,\n",
       "  'dynamics': 0,\n",
       "  'switch_box_flat': 0,\n",
       "  'switch_box_public': 0,\n",
       "  'xbk': 0,\n",
       "  'water_pipes_mop': 0,\n",
       "  'water_pipes_flat': 0,\n",
       "  'water_meter': 0,\n",
       "  'heating_riser': 0,\n",
       "  'smoke_exhaust_valve': 0,\n",
       "  'electrical_cable': 0,\n",
       "  'electrical_riser': 0,\n",
       "  'lamp': 0,\n",
       "  'door_mop': 0,\n",
       "  'door_entrance': 0,\n",
       "  'socket_box': 0,\n",
       "  'tongue_groove_blocks': 0,\n",
       "  'tile_plinth': 0,\n",
       "  'bad_light': 0,\n",
       "  'inter_wi_tgb': 0,\n",
       "  'inter_ff_tp': 0,\n",
       "  'only_tongue_groove_blocks': 0,\n",
       "  'only_tile_plinth': 0},\n",
       " 'inner_coridors': {'num_img': 0,\n",
       "  'floor_finish': 0,\n",
       "  'floor_init': 0,\n",
       "  'floor_without': 0,\n",
       "  'ceiling_finish': 0,\n",
       "  'ceiling_without': 0,\n",
       "  'wall_finish': 0,\n",
       "  'wall_init': 0,\n",
       "  'wall_without': 0,\n",
       "  'door_room': 0,\n",
       "  'toilet_yes': 0,\n",
       "  'bath_yes': 0,\n",
       "  'esocket_yes': 0,\n",
       "  'kitchen_furniture_yes': 0,\n",
       "  'radiator': 0,\n",
       "  'window_trim': 0,\n",
       "  'window': 0,\n",
       "  'floor_pipes': 0,\n",
       "  'garbage': 0,\n",
       "  'place_door': 0,\n",
       "  'place_radiator': 0,\n",
       "  'ventilation_shaft': 0,\n",
       "  'sink_yes': 0,\n",
       "  'conditioner': 0,\n",
       "  'smoke_detector': 0,\n",
       "  'ventilation_grille': 0,\n",
       "  'fire_detectors': 0,\n",
       "  'dynamics': 0,\n",
       "  'switch_box_flat': 0,\n",
       "  'switch_box_public': 0,\n",
       "  'xbk': 0,\n",
       "  'water_pipes_mop': 0,\n",
       "  'water_pipes_flat': 0,\n",
       "  'water_meter': 0,\n",
       "  'heating_riser': 0,\n",
       "  'smoke_exhaust_valve': 0,\n",
       "  'electrical_cable': 0,\n",
       "  'electrical_riser': 0,\n",
       "  'lamp': 0,\n",
       "  'door_mop': 0,\n",
       "  'door_entrance': 0,\n",
       "  'socket_box': 0,\n",
       "  'tongue_groove_blocks': 0,\n",
       "  'tile_plinth': 0,\n",
       "  'bad_light': 0,\n",
       "  'inter_wi_tgb': 0,\n",
       "  'inter_ff_tp': 0,\n",
       "  'only_tongue_groove_blocks': 0,\n",
       "  'only_tile_plinth': 0},\n",
       " 'public_places': {'num_img': 2,\n",
       "  'floor_finish': 2,\n",
       "  'floor_init': 0,\n",
       "  'floor_without': 0,\n",
       "  'ceiling_finish': 2,\n",
       "  'ceiling_without': 0,\n",
       "  'wall_finish': 2,\n",
       "  'wall_init': 0,\n",
       "  'wall_without': 0,\n",
       "  'door_room': 0,\n",
       "  'toilet_yes': 0,\n",
       "  'bath_yes': 0,\n",
       "  'esocket_yes': 0,\n",
       "  'kitchen_furniture_yes': 0,\n",
       "  'radiator': 0,\n",
       "  'window_trim': 0,\n",
       "  'window': 0,\n",
       "  'floor_pipes': 0,\n",
       "  'garbage': 0,\n",
       "  'place_door': 0,\n",
       "  'place_radiator': 0,\n",
       "  'ventilation_shaft': 0,\n",
       "  'sink_yes': 0,\n",
       "  'conditioner': 0,\n",
       "  'smoke_detector': 0,\n",
       "  'ventilation_grille': 0,\n",
       "  'fire_detectors': 0,\n",
       "  'dynamics': 0,\n",
       "  'switch_box_flat': 0,\n",
       "  'switch_box_public': 1,\n",
       "  'xbk': 0,\n",
       "  'water_pipes_mop': 0,\n",
       "  'water_pipes_flat': 0,\n",
       "  'water_meter': 0,\n",
       "  'heating_riser': 0,\n",
       "  'smoke_exhaust_valve': 0,\n",
       "  'electrical_cable': 0,\n",
       "  'electrical_riser': 0,\n",
       "  'lamp': 2,\n",
       "  'door_mop': 0,\n",
       "  'door_entrance': 2,\n",
       "  'socket_box': 0,\n",
       "  'tongue_groove_blocks': 0,\n",
       "  'tile_plinth': 2,\n",
       "  'bad_light': 0,\n",
       "  'inter_wi_tgb': 0,\n",
       "  'inter_ff_tp': 2,\n",
       "  'only_tongue_groove_blocks': 0,\n",
       "  'only_tile_plinth': 0},\n",
       " 'pantry': {'num_img': 0,\n",
       "  'floor_finish': 0,\n",
       "  'floor_init': 0,\n",
       "  'floor_without': 0,\n",
       "  'ceiling_finish': 0,\n",
       "  'ceiling_without': 0,\n",
       "  'wall_finish': 0,\n",
       "  'wall_init': 0,\n",
       "  'wall_without': 0,\n",
       "  'door_room': 0,\n",
       "  'toilet_yes': 0,\n",
       "  'bath_yes': 0,\n",
       "  'esocket_yes': 0,\n",
       "  'kitchen_furniture_yes': 0,\n",
       "  'radiator': 0,\n",
       "  'window_trim': 0,\n",
       "  'window': 0,\n",
       "  'floor_pipes': 0,\n",
       "  'garbage': 0,\n",
       "  'place_door': 0,\n",
       "  'place_radiator': 0,\n",
       "  'ventilation_shaft': 0,\n",
       "  'sink_yes': 0,\n",
       "  'conditioner': 0,\n",
       "  'smoke_detector': 0,\n",
       "  'ventilation_grille': 0,\n",
       "  'fire_detectors': 0,\n",
       "  'dynamics': 0,\n",
       "  'switch_box_flat': 0,\n",
       "  'switch_box_public': 0,\n",
       "  'xbk': 0,\n",
       "  'water_pipes_mop': 0,\n",
       "  'water_pipes_flat': 0,\n",
       "  'water_meter': 0,\n",
       "  'heating_riser': 0,\n",
       "  'smoke_exhaust_valve': 0,\n",
       "  'electrical_cable': 0,\n",
       "  'electrical_riser': 0,\n",
       "  'lamp': 0,\n",
       "  'door_mop': 0,\n",
       "  'door_entrance': 0,\n",
       "  'socket_box': 0,\n",
       "  'tongue_groove_blocks': 0,\n",
       "  'tile_plinth': 0,\n",
       "  'bad_light': 0,\n",
       "  'inter_wi_tgb': 0,\n",
       "  'inter_ff_tp': 0,\n",
       "  'only_tongue_groove_blocks': 0,\n",
       "  'only_tile_plinth': 0}}"
      ]
     },
     "execution_count": 8,
     "metadata": {},
     "output_type": "execute_result"
    }
   ],
   "source": [
    "path_imgs = '../data/datasets/test_pipeline'\n",
    "\n",
    "ds = ImageDataset(path_imgs)\n",
    "dl = DataLoader(ds, batch_size=Config.BATCH_SIZE, shuffle=False)\n",
    "\n",
    "model = DecorModel(Config)\n",
    "preds_video, preds, probs = model.predict(dl)\n",
    "parsed_preds = model.parse_predictions(preds)\n",
    "parsed_preds"
   ]
  },
  {
   "cell_type": "code",
   "execution_count": 26,
   "id": "fa98332d-8a24-4799-96c8-5fdf8dfbbf07",
   "metadata": {
    "tags": []
   },
   "outputs": [
    {
     "data": {
      "text/plain": [
       "((5, 49), (4, 49))"
      ]
     },
     "execution_count": 26,
     "metadata": {},
     "output_type": "execute_result"
    }
   ],
   "source": [
    "preds_video.shape, preds.shape"
   ]
  },
  {
   "cell_type": "code",
   "execution_count": 28,
   "id": "76b8167b-d699-4bb1-b14d-da9df620b52a",
   "metadata": {
    "tags": []
   },
   "outputs": [
    {
     "data": {
      "text/plain": [
       "(4, 49)"
      ]
     },
     "execution_count": 28,
     "metadata": {},
     "output_type": "execute_result"
    }
   ],
   "source": [
    "probs.shape"
   ]
  },
  {
   "cell_type": "code",
   "execution_count": 27,
   "id": "1d6b8b2e-f589-43dc-801c-41dd38f29f1a",
   "metadata": {
    "tags": []
   },
   "outputs": [
    {
     "data": {
      "text/plain": [
       "array([[0, 0, 0, 1, 0, 1, 0, 0, 1, 0, 1, 0, 0, 0, 0, 0, 0, 0, 0, 0, 0, 0,\n",
       "        0, 0, 0, 0, 0, 0, 0, 0, 0, 0, 0, 0, 0, 0, 0, 0, 0, 0, 0, 0, 1, 0,\n",
       "        1, 0, 0, 1, 0],\n",
       "       [0, 0, 0, 1, 0, 1, 0, 0, 1, 0, 1, 0, 0, 0, 0, 0, 0, 0, 0, 0, 0, 0,\n",
       "        0, 0, 0, 0, 0, 0, 0, 0, 0, 0, 0, 1, 0, 0, 0, 0, 0, 0, 0, 0, 1, 0,\n",
       "        1, 0, 0, 1, 0],\n",
       "       [1, 0, 0, 0, 0, 0, 1, 0, 0, 0, 0, 0, 1, 0, 0, 0, 0, 0, 0, 0, 1, 0,\n",
       "        0, 0, 1, 0, 0, 0, 0, 0, 0, 0, 0, 0, 0, 0, 0, 0, 0, 0, 0, 0, 0, 0,\n",
       "        0, 0, 0, 0, 0],\n",
       "       [1, 0, 0, 0, 0, 0, 0, 1, 0, 0, 0, 0, 1, 0, 0, 0, 0, 0, 0, 0, 0, 0,\n",
       "        0, 0, 0, 0, 0, 0, 0, 0, 0, 0, 0, 0, 0, 0, 0, 0, 0, 0, 1, 0, 0, 0,\n",
       "        0, 0, 1, 0, 0]])"
      ]
     },
     "execution_count": 27,
     "metadata": {},
     "output_type": "execute_result"
    }
   ],
   "source": [
    "preds"
   ]
  },
  {
   "cell_type": "code",
   "execution_count": 29,
   "id": "6f622dd3-bec3-4a22-b371-a9535b755841",
   "metadata": {
    "tags": []
   },
   "outputs": [
    {
     "data": {
      "text/plain": [
       "array([], dtype=float32)"
      ]
     },
     "execution_count": 29,
     "metadata": {},
     "output_type": "execute_result"
    }
   ],
   "source": [
    "probs[probs == 0]"
   ]
  },
  {
   "cell_type": "markdown",
   "id": "7806d474",
   "metadata": {},
   "source": [
    "### Test"
   ]
  },
  {
   "cell_type": "markdown",
   "id": "0999f59b",
   "metadata": {},
   "source": [
    "1. Отработка алгоритма на 1 изображении.\n",
    "2. Отработка случая, если на изображении модель ни разу не предсказала лейбл помещения.\n",
    "3. Отработка алгоритма на 1 изображении, если на изображении модель ни разу не предсказала лейбл помещения."
   ]
  }
 ],
 "metadata": {
  "kernelspec": {
   "display_name": "s_iner_cv_clf_multi_decor_v0.1",
   "language": "python",
   "name": "s_iner_cv_clf_multi_decor_v0.1"
  },
  "language_info": {
   "codemirror_mode": {
    "name": "ipython",
    "version": 3
   },
   "file_extension": ".py",
   "mimetype": "text/x-python",
   "name": "python",
   "nbconvert_exporter": "python",
   "pygments_lexer": "ipython3",
   "version": "3.10.13"
  }
 },
 "nbformat": 4,
 "nbformat_minor": 5
}
